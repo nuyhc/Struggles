{
 "cells": [
  {
   "cell_type": "markdown",
   "metadata": {},
   "source": [
    "# Pima Indians Diabetes Classification\n",
    "`sklearn` 결정 트리를 하이퍼파라미터 튜닝\n",
    "## 데이터 셋 출처\n",
    "- [Pima Indians Diabetes Database | Kaggle](https://www.kaggle.com/uciml/pima-indians-diabetes-database)\n",
    "- https://scikit-learn.org/stable/modules/generated/sklearn.datasets.load_diabetes.html\n",
    "### 사용 라이브러리"
   ]
  },
  {
   "cell_type": "code",
   "execution_count": 31,
   "metadata": {},
   "outputs": [],
   "source": [
    "import pandas as pd\n",
    "import numpy as np\n",
    "import seaborn as sns\n",
    "import matplotlib.pyplot as plt\n",
    "from sklearn.model_selection import train_test_split\n",
    "from sklearn.tree import DecisionTreeClassifier\n",
    "from sklearn.model_selection import cross_val_predict\n",
    "from sklearn.model_selection import GridSearchCV, RandomizedSearchCV"
   ]
  },
  {
   "cell_type": "markdown",
   "metadata": {},
   "source": [
    "### Data Load"
   ]
  },
  {
   "cell_type": "code",
   "execution_count": 2,
   "metadata": {},
   "outputs": [
    {
     "data": {
      "text/plain": [
       "(768, 9)"
      ]
     },
     "execution_count": 2,
     "metadata": {},
     "output_type": "execute_result"
    }
   ],
   "source": [
    "df_pima = pd.read_csv(\"http://bit.ly/data-diabetes-csv\")\n",
    "df_pima.shape"
   ]
  },
  {
   "cell_type": "markdown",
   "metadata": {},
   "source": [
    "### 전처리"
   ]
  },
  {
   "cell_type": "code",
   "execution_count": 4,
   "metadata": {},
   "outputs": [],
   "source": [
    "in_desc = df_pima.groupby(\"Outcome\")[\"Insulin\"].describe()"
   ]
  },
  {
   "cell_type": "code",
   "execution_count": 6,
   "metadata": {},
   "outputs": [],
   "source": [
    "df_pima.loc[(df_pima[\"Insulin\"].isnull()) & (df_pima[\"Outcome\"]==1), \"Insulin\"] = in_desc.loc[1, \"50%\"]\n",
    "df_pima.loc[(df_pima[\"Insulin\"].isnull()) & (df_pima[\"Outcome\"]==0), \"Insulin\"] = in_desc.loc[0, \"50%\"]"
   ]
  },
  {
   "cell_type": "markdown",
   "metadata": {},
   "source": [
    "### 학습"
   ]
  },
  {
   "cell_type": "code",
   "execution_count": 7,
   "metadata": {},
   "outputs": [],
   "source": [
    "target = \"Outcome\"\n",
    "features = df_pima.columns.tolist()\n",
    "features.remove(target)"
   ]
  },
  {
   "cell_type": "code",
   "execution_count": 9,
   "metadata": {},
   "outputs": [],
   "source": [
    "X_train, X_test, y_train, y_test = train_test_split(df_pima[features], df_pima[target], test_size=0.2, shuffle=True, random_state=42)"
   ]
  },
  {
   "cell_type": "code",
   "execution_count": 10,
   "metadata": {},
   "outputs": [
    {
     "data": {
      "text/plain": [
       "0    65.309446\n",
       "1    34.690554\n",
       "Name: Outcome, dtype: float64"
      ]
     },
     "execution_count": 10,
     "metadata": {},
     "output_type": "execute_result"
    }
   ],
   "source": [
    "y_train.value_counts(normalize=True)*100"
   ]
  },
  {
   "cell_type": "code",
   "execution_count": 11,
   "metadata": {},
   "outputs": [
    {
     "data": {
      "text/plain": [
       "0    64.285714\n",
       "1    35.714286\n",
       "Name: Outcome, dtype: float64"
      ]
     },
     "execution_count": 11,
     "metadata": {},
     "output_type": "execute_result"
    }
   ],
   "source": [
    "y_test.value_counts(normalize=True)*100"
   ]
  },
  {
   "cell_type": "markdown",
   "metadata": {},
   "source": [
    "데이터를 나눌 때, `stratify` 옵션을 타겟값으로주면 데이터가 균일하게 나눠지지만, 해당 옵션을 사용하지 않았는데도 균일하게 나눠진것을 확인"
   ]
  },
  {
   "cell_type": "markdown",
   "metadata": {},
   "source": [
    "### 모델\n",
    "분류 모델을 이용해 하이퍼파라미터 튜닝을 진행함\n",
    "\n",
    "### 하이퍼파라미터 튜닝\n",
    "하이퍼파라미터는 모델 생성시 사용자가 직접 설정하는 값으로, 어떻게 설정하냐에 따라 모델의 성능에 영향을 줌\n"
   ]
  },
  {
   "cell_type": "markdown",
   "metadata": {},
   "source": [
    "#### 수동 튜닝\n",
    "하이퍼파라미터를 직접 여러개를 생성해 최적의 값을 찾아보는 **그리디 서치**의 일종"
   ]
  },
  {
   "cell_type": "code",
   "execution_count": 13,
   "metadata": {},
   "outputs": [],
   "source": [
    "# 트리의 깊이\n",
    "max_depth_list = [5, 7, 9, 12, 15, 20, 40]\n",
    "# max_featres 비율\n",
    "max_features_list = [0.5, 0.7, 0.8, 0.9, 1]"
   ]
  },
  {
   "cell_type": "code",
   "execution_count": 15,
   "metadata": {},
   "outputs": [],
   "source": [
    "accuracy_list = []\n",
    "for max_depth in max_depth_list:\n",
    "    for max_features in max_features_list:\n",
    "        acc_list = []\n",
    "        model = DecisionTreeClassifier(max_depth=max_depth, max_features=max_features, random_state=42)\n",
    "        y_predict = cross_val_predict(model, X_train, y_train, cv=3, n_jobs=-1)\n",
    "        acc = (y_train==y_predict).mean()\n",
    "        \n",
    "        acc_list.append(max_depth)\n",
    "        acc_list.append(max_features)\n",
    "        acc_list.append(acc)\n",
    "        \n",
    "        accuracy_list.append(acc_list)       "
   ]
  },
  {
   "cell_type": "code",
   "execution_count": 16,
   "metadata": {},
   "outputs": [
    {
     "data": {
      "text/html": [
       "<div>\n",
       "<style scoped>\n",
       "    .dataframe tbody tr th:only-of-type {\n",
       "        vertical-align: middle;\n",
       "    }\n",
       "\n",
       "    .dataframe tbody tr th {\n",
       "        vertical-align: top;\n",
       "    }\n",
       "\n",
       "    .dataframe thead th {\n",
       "        text-align: right;\n",
       "    }\n",
       "</style>\n",
       "<table border=\"1\" class=\"dataframe\">\n",
       "  <thead>\n",
       "    <tr style=\"text-align: right;\">\n",
       "      <th></th>\n",
       "      <th>max_depth</th>\n",
       "      <th>max_features</th>\n",
       "      <th>acc</th>\n",
       "    </tr>\n",
       "  </thead>\n",
       "  <tbody>\n",
       "    <tr>\n",
       "      <th>3</th>\n",
       "      <td>5</td>\n",
       "      <td>0.9</td>\n",
       "      <td>0.749186</td>\n",
       "    </tr>\n",
       "    <tr>\n",
       "      <th>1</th>\n",
       "      <td>5</td>\n",
       "      <td>0.7</td>\n",
       "      <td>0.739414</td>\n",
       "    </tr>\n",
       "    <tr>\n",
       "      <th>0</th>\n",
       "      <td>5</td>\n",
       "      <td>0.5</td>\n",
       "      <td>0.734528</td>\n",
       "    </tr>\n",
       "  </tbody>\n",
       "</table>\n",
       "</div>"
      ],
      "text/plain": [
       "   max_depth  max_features       acc\n",
       "3          5           0.9  0.749186\n",
       "1          5           0.7  0.739414\n",
       "0          5           0.5  0.734528"
      ]
     },
     "execution_count": 16,
     "metadata": {},
     "output_type": "execute_result"
    }
   ],
   "source": [
    "df_acc = pd.DataFrame(accuracy_list, columns=[\"max_depth\", \"max_features\", \"acc\"])\n",
    "df_acc.sort_values(by=\"acc\", ascending=False)[:3]"
   ]
  },
  {
   "cell_type": "code",
   "execution_count": 17,
   "metadata": {},
   "outputs": [
    {
     "data": {
      "text/html": [
       "<div>\n",
       "<style scoped>\n",
       "    .dataframe tbody tr th:only-of-type {\n",
       "        vertical-align: middle;\n",
       "    }\n",
       "\n",
       "    .dataframe tbody tr th {\n",
       "        vertical-align: top;\n",
       "    }\n",
       "\n",
       "    .dataframe thead th {\n",
       "        text-align: right;\n",
       "    }\n",
       "</style>\n",
       "<table border=\"1\" class=\"dataframe\">\n",
       "  <thead>\n",
       "    <tr style=\"text-align: right;\">\n",
       "      <th></th>\n",
       "      <th>max_depth</th>\n",
       "      <th>max_features</th>\n",
       "      <th>acc</th>\n",
       "    </tr>\n",
       "  </thead>\n",
       "  <tbody>\n",
       "    <tr>\n",
       "      <th>3</th>\n",
       "      <td>5</td>\n",
       "      <td>0.9</td>\n",
       "      <td>0.749186</td>\n",
       "    </tr>\n",
       "    <tr>\n",
       "      <th>1</th>\n",
       "      <td>5</td>\n",
       "      <td>0.7</td>\n",
       "      <td>0.739414</td>\n",
       "    </tr>\n",
       "    <tr>\n",
       "      <th>0</th>\n",
       "      <td>5</td>\n",
       "      <td>0.5</td>\n",
       "      <td>0.734528</td>\n",
       "    </tr>\n",
       "  </tbody>\n",
       "</table>\n",
       "</div>"
      ],
      "text/plain": [
       "   max_depth  max_features       acc\n",
       "3          5           0.9  0.749186\n",
       "1          5           0.7  0.739414\n",
       "0          5           0.5  0.734528"
      ]
     },
     "execution_count": 17,
     "metadata": {},
     "output_type": "execute_result"
    }
   ],
   "source": [
    "# 이 같은 방식으로도 확인 가능\n",
    "df_acc.nlargest(3, \"acc\")"
   ]
  },
  {
   "cell_type": "markdown",
   "metadata": {},
   "source": [
    "수동으로 지정해준 하이퍼파라미터 값 중에서,  \n",
    "`max_depth=5`, `max_features=0.9`인 경우에 정확도가 0.74로 가장 높음\n",
    "\n",
    "#### 랜덤 튜닝\n",
    "수동 튜닝의 일종임  \n",
    "범위만 알려주고, 범위 내에서 랜덤하게 뽑아 최적의 하이퍼파라미터를 찾아내는 방식  \n",
    "하나의 범위를 먼저 넓게 줘서 범위를 줄이고, 여러개의 하이퍼파라미터들이 각각에 대해서 최적의 성능을 내는 범위를 줄여나가는 방식으로 사용하는 편임"
   ]
  },
  {
   "cell_type": "code",
   "execution_count": 23,
   "metadata": {},
   "outputs": [],
   "source": [
    "accuracy_list = []\n",
    "for max_depth in np.random.randint(1, 20, 10):\n",
    "    for max_features in np.random.uniform(0, 1, 10):\n",
    "        acc_list = []\n",
    "        model = DecisionTreeClassifier(max_depth=max_depth, max_features=max_features, random_state=42)\n",
    "        y_predict = cross_val_predict(model, X_train, y_train, cv=3, n_jobs=-1)\n",
    "        acc = (y_train == y_predict).mean()\n",
    "        acc_list.append(max_depth)\n",
    "        acc_list.append(max_features)\n",
    "        acc_list.append(acc)\n",
    "        accuracy_list.append(acc_list)"
   ]
  },
  {
   "cell_type": "code",
   "execution_count": 24,
   "metadata": {},
   "outputs": [
    {
     "data": {
      "text/html": [
       "<div>\n",
       "<style scoped>\n",
       "    .dataframe tbody tr th:only-of-type {\n",
       "        vertical-align: middle;\n",
       "    }\n",
       "\n",
       "    .dataframe tbody tr th {\n",
       "        vertical-align: top;\n",
       "    }\n",
       "\n",
       "    .dataframe thead th {\n",
       "        text-align: right;\n",
       "    }\n",
       "</style>\n",
       "<table border=\"1\" class=\"dataframe\">\n",
       "  <thead>\n",
       "    <tr style=\"text-align: right;\">\n",
       "      <th></th>\n",
       "      <th>max_depth</th>\n",
       "      <th>max_features</th>\n",
       "      <th>acc</th>\n",
       "    </tr>\n",
       "  </thead>\n",
       "  <tbody>\n",
       "    <tr>\n",
       "      <th>75</th>\n",
       "      <td>3</td>\n",
       "      <td>0.936477</td>\n",
       "      <td>0.737785</td>\n",
       "    </tr>\n",
       "    <tr>\n",
       "      <th>76</th>\n",
       "      <td>3</td>\n",
       "      <td>0.942779</td>\n",
       "      <td>0.737785</td>\n",
       "    </tr>\n",
       "    <tr>\n",
       "      <th>83</th>\n",
       "      <td>10</td>\n",
       "      <td>0.541980</td>\n",
       "      <td>0.736156</td>\n",
       "    </tr>\n",
       "  </tbody>\n",
       "</table>\n",
       "</div>"
      ],
      "text/plain": [
       "    max_depth  max_features       acc\n",
       "75          3      0.936477  0.737785\n",
       "76          3      0.942779  0.737785\n",
       "83         10      0.541980  0.736156"
      ]
     },
     "execution_count": 24,
     "metadata": {},
     "output_type": "execute_result"
    }
   ],
   "source": [
    "df_acc = pd.DataFrame(accuracy_list, columns=[\"max_depth\", \"max_features\", \"acc\"])\n",
    "df_acc.nlargest(3, \"acc\")"
   ]
  },
  {
   "cell_type": "markdown",
   "metadata": {},
   "source": [
    "`max_depth=3`, `max_features=0.93 or 0.94`일 경우에 정확도가 0.73으로 가장 높게 나왔음"
   ]
  },
  {
   "cell_type": "markdown",
   "metadata": {},
   "source": [
    "#### 그리디 서치 (Greed Search)\n",
    "지정한 범위 내에서 모든 경우의 수를 이용해 최적의 하이퍼파라미터 튜닝값을 찾음"
   ]
  },
  {
   "cell_type": "code",
   "execution_count": 26,
   "metadata": {},
   "outputs": [
    {
     "data": {
      "text/plain": [
       "GridSearchCV(cv=3,\n",
       "             estimator=DecisionTreeClassifier(max_depth=19,\n",
       "                                              max_features=0.4339235716873059,\n",
       "                                              random_state=42),\n",
       "             n_jobs=-1,\n",
       "             param_grid={'max_depth': array([ 2,  4, 12, 14, 15, 16, 17, 18]),\n",
       "                         'max_features': array([0.0271664 , 0.12844761, 0.23000427, 0.33713696, 0.41513106,\n",
       "       0.52481312, 0.66475745, 0.69669566, 0.83153289, 0.92114542])},\n",
       "             scoring='accuracy')"
      ]
     },
     "execution_count": 26,
     "metadata": {},
     "output_type": "execute_result"
    }
   ],
   "source": [
    "parameters = {\"max_depth\": np.unique(np.random.randint(1, 20, 10)), \"max_features\": np.unique(np.random.uniform(0, 1, 10))}\n",
    "\n",
    "clf = GridSearchCV(estimator=model, param_grid=parameters, scoring=\"accuracy\", n_jobs=-1, cv=3)\n",
    "clf.fit(X_train, y_train)"
   ]
  },
  {
   "cell_type": "code",
   "execution_count": 30,
   "metadata": {},
   "outputs": [
    {
     "data": {
      "text/plain": [
       "(80, 13)"
      ]
     },
     "execution_count": 30,
     "metadata": {},
     "output_type": "execute_result"
    }
   ],
   "source": [
    "pd.DataFrame(clf.cv_results_).shape"
   ]
  },
  {
   "cell_type": "markdown",
   "metadata": {},
   "source": [
    "지정된 값 (`max_depth`= [2, 4, 12, 14, 15, 16, 17 , 18] / `max_features`= [0.0271664 , 0.12844761, 0.23000427, 0.33713696, 0.41513106, 0.52481312, 0.66475745, 0.69669566, 0.83153289, 0.92114542])  \n",
    "각각 8개, 10개의 하이퍼파라미터를 이용해 10*10인 총 100개의 경우의 수를 모두 탐색함  \n",
    "(중복을 방지하기 위해 `unique`를 사용했기에, `max_depth`의 경우 10개를 랜덤하게 뽑았지만 중복을 제외하고 8개만 남았음)"
   ]
  },
  {
   "cell_type": "code",
   "execution_count": 27,
   "metadata": {},
   "outputs": [
    {
     "data": {
      "text/plain": [
       "DecisionTreeClassifier(max_depth=4, max_features=0.9211454197229048,\n",
       "                       random_state=42)"
      ]
     },
     "execution_count": 27,
     "metadata": {},
     "output_type": "execute_result"
    }
   ],
   "source": [
    "clf.best_estimator_"
   ]
  },
  {
   "cell_type": "code",
   "execution_count": 28,
   "metadata": {},
   "outputs": [
    {
     "data": {
      "text/plain": [
       "0.7508130081300813"
      ]
     },
     "execution_count": 28,
     "metadata": {},
     "output_type": "execute_result"
    }
   ],
   "source": [
    "clf.best_score_"
   ]
  },
  {
   "cell_type": "code",
   "execution_count": 29,
   "metadata": {},
   "outputs": [
    {
     "data": {
      "text/html": [
       "<div>\n",
       "<style scoped>\n",
       "    .dataframe tbody tr th:only-of-type {\n",
       "        vertical-align: middle;\n",
       "    }\n",
       "\n",
       "    .dataframe tbody tr th {\n",
       "        vertical-align: top;\n",
       "    }\n",
       "\n",
       "    .dataframe thead th {\n",
       "        text-align: right;\n",
       "    }\n",
       "</style>\n",
       "<table border=\"1\" class=\"dataframe\">\n",
       "  <thead>\n",
       "    <tr style=\"text-align: right;\">\n",
       "      <th></th>\n",
       "      <th>mean_fit_time</th>\n",
       "      <th>std_fit_time</th>\n",
       "      <th>mean_score_time</th>\n",
       "      <th>std_score_time</th>\n",
       "      <th>param_max_depth</th>\n",
       "      <th>param_max_features</th>\n",
       "      <th>params</th>\n",
       "      <th>split0_test_score</th>\n",
       "      <th>split1_test_score</th>\n",
       "      <th>split2_test_score</th>\n",
       "      <th>mean_test_score</th>\n",
       "      <th>std_test_score</th>\n",
       "      <th>rank_test_score</th>\n",
       "    </tr>\n",
       "  </thead>\n",
       "  <tbody>\n",
       "    <tr>\n",
       "      <th>19</th>\n",
       "      <td>0.002500</td>\n",
       "      <td>1.946680e-07</td>\n",
       "      <td>0.001334</td>\n",
       "      <td>0.000236</td>\n",
       "      <td>4</td>\n",
       "      <td>0.921145</td>\n",
       "      <td>{'max_depth': 4, 'max_features': 0.92114541972...</td>\n",
       "      <td>0.770732</td>\n",
       "      <td>0.731707</td>\n",
       "      <td>0.750000</td>\n",
       "      <td>0.750813</td>\n",
       "      <td>0.015942</td>\n",
       "      <td>1</td>\n",
       "    </tr>\n",
       "    <tr>\n",
       "      <th>15</th>\n",
       "      <td>0.002167</td>\n",
       "      <td>2.355166e-04</td>\n",
       "      <td>0.001334</td>\n",
       "      <td>0.000236</td>\n",
       "      <td>4</td>\n",
       "      <td>0.524813</td>\n",
       "      <td>{'max_depth': 4, 'max_features': 0.52481312133...</td>\n",
       "      <td>0.746341</td>\n",
       "      <td>0.751220</td>\n",
       "      <td>0.705882</td>\n",
       "      <td>0.734481</td>\n",
       "      <td>0.020320</td>\n",
       "      <td>2</td>\n",
       "    </tr>\n",
       "    <tr>\n",
       "      <th>18</th>\n",
       "      <td>0.002500</td>\n",
       "      <td>2.973602e-07</td>\n",
       "      <td>0.001167</td>\n",
       "      <td>0.000236</td>\n",
       "      <td>4</td>\n",
       "      <td>0.831533</td>\n",
       "      <td>{'max_depth': 4, 'max_features': 0.83153288730...</td>\n",
       "      <td>0.741463</td>\n",
       "      <td>0.741463</td>\n",
       "      <td>0.715686</td>\n",
       "      <td>0.732871</td>\n",
       "      <td>0.012151</td>\n",
       "      <td>3</td>\n",
       "    </tr>\n",
       "  </tbody>\n",
       "</table>\n",
       "</div>"
      ],
      "text/plain": [
       "    mean_fit_time  std_fit_time  mean_score_time  std_score_time  \\\n",
       "19       0.002500  1.946680e-07         0.001334        0.000236   \n",
       "15       0.002167  2.355166e-04         0.001334        0.000236   \n",
       "18       0.002500  2.973602e-07         0.001167        0.000236   \n",
       "\n",
       "   param_max_depth param_max_features  \\\n",
       "19               4           0.921145   \n",
       "15               4           0.524813   \n",
       "18               4           0.831533   \n",
       "\n",
       "                                               params  split0_test_score  \\\n",
       "19  {'max_depth': 4, 'max_features': 0.92114541972...           0.770732   \n",
       "15  {'max_depth': 4, 'max_features': 0.52481312133...           0.746341   \n",
       "18  {'max_depth': 4, 'max_features': 0.83153288730...           0.741463   \n",
       "\n",
       "    split1_test_score  split2_test_score  mean_test_score  std_test_score  \\\n",
       "19           0.731707           0.750000         0.750813        0.015942   \n",
       "15           0.751220           0.705882         0.734481        0.020320   \n",
       "18           0.741463           0.715686         0.732871        0.012151   \n",
       "\n",
       "    rank_test_score  \n",
       "19                1  \n",
       "15                2  \n",
       "18                3  "
      ]
     },
     "execution_count": 29,
     "metadata": {},
     "output_type": "execute_result"
    }
   ],
   "source": [
    "pd.DataFrame(clf.cv_results_).sort_values(by=\"rank_test_score\")[:3]"
   ]
  },
  {
   "cell_type": "markdown",
   "metadata": {},
   "source": [
    "`max_depth=4`, `max_feautres=0.92`일 일 때, 정확도가 0.75로 가장 높았음\n",
    "\n",
    "#### 랜덤 서치 (Random Search)\n",
    "그리드 서치와 유사하지만, 각 반복에 대해서 임의값을 선택함"
   ]
  },
  {
   "cell_type": "code",
   "execution_count": 32,
   "metadata": {},
   "outputs": [
    {
     "data": {
      "text/plain": [
       "RandomizedSearchCV(cv=3,\n",
       "                   estimator=DecisionTreeClassifier(max_depth=19,\n",
       "                                                    max_features=0.4339235716873059,\n",
       "                                                    random_state=42),\n",
       "                   n_iter=5, n_jobs=-1,\n",
       "                   param_distributions={'max_depth': array([ 1,  4,  5,  6,  7, 10, 12, 14, 19]),\n",
       "                                        'max_features': array([0.1450985 , 0.14936645, 0.23390445, 0.41955525, 0.4570386 ,\n",
       "       0.47312145, 0.55700947, 0.70646191, 0.77430557, 0.97285588])})"
      ]
     },
     "execution_count": 32,
     "metadata": {},
     "output_type": "execute_result"
    }
   ],
   "source": [
    "param_distribution = {\"max_depth\": np.unique(np.random.randint(1, 20, 10)) ,\"max_features\": np.unique(np.random.uniform(0.1, 1, 10))}\n",
    "clf = RandomizedSearchCV(estimator=model, param_distributions=param_distribution, n_iter=5, cv=3, n_jobs=-1)\n",
    "clf.fit(X_train, y_train)"
   ]
  },
  {
   "cell_type": "code",
   "execution_count": 33,
   "metadata": {},
   "outputs": [
    {
     "data": {
      "text/plain": [
       "(5, 13)"
      ]
     },
     "execution_count": 33,
     "metadata": {},
     "output_type": "execute_result"
    }
   ],
   "source": [
    "pd.DataFrame(clf.cv_results_).shape"
   ]
  },
  {
   "cell_type": "code",
   "execution_count": 34,
   "metadata": {},
   "outputs": [
    {
     "data": {
      "text/plain": [
       "DecisionTreeClassifier(max_depth=5, max_features=0.2339044534271434,\n",
       "                       random_state=42)"
      ]
     },
     "execution_count": 34,
     "metadata": {},
     "output_type": "execute_result"
    }
   ],
   "source": [
    "clf.best_estimator_"
   ]
  },
  {
   "cell_type": "code",
   "execution_count": 35,
   "metadata": {},
   "outputs": [
    {
     "data": {
      "text/plain": [
       "0.716594930655189"
      ]
     },
     "execution_count": 35,
     "metadata": {},
     "output_type": "execute_result"
    }
   ],
   "source": [
    "clf.best_score_"
   ]
  },
  {
   "cell_type": "code",
   "execution_count": 36,
   "metadata": {},
   "outputs": [
    {
     "data": {
      "text/html": [
       "<div>\n",
       "<style scoped>\n",
       "    .dataframe tbody tr th:only-of-type {\n",
       "        vertical-align: middle;\n",
       "    }\n",
       "\n",
       "    .dataframe tbody tr th {\n",
       "        vertical-align: top;\n",
       "    }\n",
       "\n",
       "    .dataframe thead th {\n",
       "        text-align: right;\n",
       "    }\n",
       "</style>\n",
       "<table border=\"1\" class=\"dataframe\">\n",
       "  <thead>\n",
       "    <tr style=\"text-align: right;\">\n",
       "      <th></th>\n",
       "      <th>mean_fit_time</th>\n",
       "      <th>std_fit_time</th>\n",
       "      <th>mean_score_time</th>\n",
       "      <th>std_score_time</th>\n",
       "      <th>param_max_features</th>\n",
       "      <th>param_max_depth</th>\n",
       "      <th>params</th>\n",
       "      <th>split0_test_score</th>\n",
       "      <th>split1_test_score</th>\n",
       "      <th>split2_test_score</th>\n",
       "      <th>mean_test_score</th>\n",
       "      <th>std_test_score</th>\n",
       "      <th>rank_test_score</th>\n",
       "    </tr>\n",
       "  </thead>\n",
       "  <tbody>\n",
       "    <tr>\n",
       "      <th>2</th>\n",
       "      <td>0.003501</td>\n",
       "      <td>2.973602e-07</td>\n",
       "      <td>0.001667</td>\n",
       "      <td>0.000236</td>\n",
       "      <td>0.233904</td>\n",
       "      <td>5</td>\n",
       "      <td>{'max_features': 0.2339044534271434, 'max_dept...</td>\n",
       "      <td>0.731707</td>\n",
       "      <td>0.712195</td>\n",
       "      <td>0.705882</td>\n",
       "      <td>0.716595</td>\n",
       "      <td>0.010992</td>\n",
       "      <td>1</td>\n",
       "    </tr>\n",
       "    <tr>\n",
       "      <th>1</th>\n",
       "      <td>0.003834</td>\n",
       "      <td>2.354605e-04</td>\n",
       "      <td>0.001834</td>\n",
       "      <td>0.000472</td>\n",
       "      <td>0.706462</td>\n",
       "      <td>7</td>\n",
       "      <td>{'max_features': 0.7064619073099252, 'max_dept...</td>\n",
       "      <td>0.712195</td>\n",
       "      <td>0.707317</td>\n",
       "      <td>0.720588</td>\n",
       "      <td>0.713367</td>\n",
       "      <td>0.005481</td>\n",
       "      <td>2</td>\n",
       "    </tr>\n",
       "    <tr>\n",
       "      <th>0</th>\n",
       "      <td>0.003001</td>\n",
       "      <td>2.973602e-07</td>\n",
       "      <td>0.001500</td>\n",
       "      <td>0.000000</td>\n",
       "      <td>0.145098</td>\n",
       "      <td>6</td>\n",
       "      <td>{'max_features': 0.14509849507007172, 'max_dep...</td>\n",
       "      <td>0.673171</td>\n",
       "      <td>0.702439</td>\n",
       "      <td>0.710784</td>\n",
       "      <td>0.695465</td>\n",
       "      <td>0.016128</td>\n",
       "      <td>3</td>\n",
       "    </tr>\n",
       "  </tbody>\n",
       "</table>\n",
       "</div>"
      ],
      "text/plain": [
       "   mean_fit_time  std_fit_time  mean_score_time  std_score_time  \\\n",
       "2       0.003501  2.973602e-07         0.001667        0.000236   \n",
       "1       0.003834  2.354605e-04         0.001834        0.000472   \n",
       "0       0.003001  2.973602e-07         0.001500        0.000000   \n",
       "\n",
       "  param_max_features param_max_depth  \\\n",
       "2           0.233904               5   \n",
       "1           0.706462               7   \n",
       "0           0.145098               6   \n",
       "\n",
       "                                              params  split0_test_score  \\\n",
       "2  {'max_features': 0.2339044534271434, 'max_dept...           0.731707   \n",
       "1  {'max_features': 0.7064619073099252, 'max_dept...           0.712195   \n",
       "0  {'max_features': 0.14509849507007172, 'max_dep...           0.673171   \n",
       "\n",
       "   split1_test_score  split2_test_score  mean_test_score  std_test_score  \\\n",
       "2           0.712195           0.705882         0.716595        0.010992   \n",
       "1           0.707317           0.720588         0.713367        0.005481   \n",
       "0           0.702439           0.710784         0.695465        0.016128   \n",
       "\n",
       "   rank_test_score  \n",
       "2                1  \n",
       "1                2  \n",
       "0                3  "
      ]
     },
     "execution_count": 36,
     "metadata": {},
     "output_type": "execute_result"
    }
   ],
   "source": [
    "pd.DataFrame(clf.cv_results_).nsmallest(3, \"rank_test_score\")"
   ]
  },
  {
   "cell_type": "markdown",
   "metadata": {},
   "source": [
    "`max_depth=5`, `max_features=0.23`에서 정확도가 0.71로 가장 성능이 좋았음"
   ]
  },
  {
   "cell_type": "markdown",
   "metadata": {},
   "source": [
    "### Best Estimator"
   ]
  },
  {
   "cell_type": "markdown",
   "metadata": {},
   "source": [
    "수동 튜닝, 그리디 서치, 랜덤 서치를 통해 하이퍼파라미터를 구했을 때,  \n",
    "그리디 서치로 찾은 `max_depth=4`, `max_features=0.92`인 경우가 0.75 정확도로 가장 성능이 좋았음  \n",
    "하이퍼파라미터 튜닝을 진행 할 때, 자신의 상황에 맞는 방식을 선택해 하이퍼파라미터 튜닝을 진행하면됨"
   ]
  },
  {
   "cell_type": "markdown",
   "metadata": {},
   "source": [
    "#### 그리디 서치나 랜덤 서치를 이용한 하이퍼파라미터 값 이용하기\n",
    "해당 파일에서는, 가장 최근에 실행한 방식이 랜덤 서치이므로 랜덤 서치에서 얻은 최적의 하이퍼파라미터 값을 사용하게 됨 "
   ]
  },
  {
   "cell_type": "code",
   "execution_count": 37,
   "metadata": {},
   "outputs": [
    {
     "data": {
      "text/plain": [
       "DecisionTreeClassifier(max_depth=5, max_features=0.2339044534271434,\n",
       "                       random_state=42)"
      ]
     },
     "execution_count": 37,
     "metadata": {},
     "output_type": "execute_result"
    }
   ],
   "source": [
    "best_model = clf.best_estimator_\n",
    "best_model.fit(X_train, y_train)"
   ]
  },
  {
   "cell_type": "code",
   "execution_count": 38,
   "metadata": {},
   "outputs": [
    {
     "data": {
      "text/plain": [
       "array([0, 0, 0], dtype=int64)"
      ]
     },
     "execution_count": 38,
     "metadata": {},
     "output_type": "execute_result"
    }
   ],
   "source": [
    "y_predict = best_model.predict(X_test)\n",
    "y_predict[:3]"
   ]
  },
  {
   "cell_type": "markdown",
   "metadata": {},
   "source": [
    "### 모델 평가"
   ]
  },
  {
   "cell_type": "code",
   "execution_count": 39,
   "metadata": {},
   "outputs": [
    {
     "data": {
      "text/plain": [
       "array([0.20272591, 0.45584979, 0.01333214, 0.03941655, 0.07380387,\n",
       "       0.10928427, 0.05981015, 0.04577731])"
      ]
     },
     "execution_count": 39,
     "metadata": {},
     "output_type": "execute_result"
    }
   ],
   "source": [
    "best_model.feature_importances_"
   ]
  },
  {
   "cell_type": "code",
   "execution_count": 40,
   "metadata": {},
   "outputs": [
    {
     "data": {
      "image/png": "[encoded data removed]",
      "text/plain": [
       "<Figure size 432x288 with 1 Axes>"
      ]
     },
     "metadata": {
      "needs_background": "light"
     },
     "output_type": "display_data"
    }
   ],
   "source": [
    "_ = sns.barplot(x=best_model.feature_importances_, y=features)"
   ]
  }
 ],
 "metadata": {
  "kernelspec": {
   "display_name": "Python 3.9.12 ('base')",
   "language": "python",
   "name": "python3"
  },
  "language_info": {
   "codemirror_mode": {
    "name": "ipython",
    "version": 3
   },
   "file_extension": ".py",
   "mimetype": "text/x-python",
   "name": "python",
   "nbconvert_exporter": "python",
   "pygments_lexer": "ipython3",
   "version": "3.9.12"
  },
  "orig_nbformat": 4,
  "vscode": {
   "interpreter": {
    "hash": "2adf3ccca9222a21ddf813ce3f7330ff220318730c13c08bb78e423c67466e5c"
   }
  }
 },
 "nbformat": 4,
 "nbformat_minor": 2
}
