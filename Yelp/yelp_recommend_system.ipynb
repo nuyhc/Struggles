{
 "cells": [
  {
   "cell_type": "markdown",
   "metadata": {},
   "source": [
    "# Yelp Recommender Systems\n",
    "[참고 노트북 | Yelp Dataset: SurpriseMe Recommendation System](https://www.kaggle.com/code/fahd09/yelp-dataset-surpriseme-recommendation-system)\n",
    "### 사용 라이브러리"
   ]
  },
  {
   "cell_type": "code",
   "execution_count": 2,
   "metadata": {},
   "outputs": [],
   "source": [
    "import os\n",
    "import re\n",
    "import string\n",
    "\n",
    "import matplotlib.pyplot as plt\n",
    "import seaborn as sns\n",
    "import koreanize_matplotlib\n",
    "\n",
    "import numpy as np\n",
    "import pandas as pd\n",
    "\n",
    "import nltk\n",
    "from nltk.tokenize import WordPunctTokenizer\n",
    "from nltk.corpus import stopwords\n",
    "from nltk.stem import SnowballStemmer\n",
    "\n",
    "from sklearn.feature_extraction.text import CountVectorizer"
   ]
  },
  {
   "cell_type": "markdown",
   "metadata": {},
   "source": [
    "### Data Load"
   ]
  },
  {
   "cell_type": "code",
   "execution_count": 3,
   "metadata": {},
   "outputs": [
    {
     "name": "stdout",
     "output_type": "stream",
     "text": [
      "Final Shape:  (52268, 14)\n"
     ]
    }
   ],
   "source": [
    "df_yelp_business = pd.read_json('./data//yelp_academic_dataset_business.json', lines=True)\n",
    "df_yelp_business.fillna('NA', inplace=True)\n",
    "df_yelp_business = df_yelp_business[df_yelp_business['categories'].str.contains('Restaurants')]\n",
    "print('Final Shape: ',df_yelp_business.shape)"
   ]
  },
  {
   "cell_type": "code",
   "execution_count": 4,
   "metadata": {},
   "outputs": [
    {
     "name": "stdout",
     "output_type": "stream",
     "text": [
      "1\n",
      "2\n",
      "3\n",
      "4\n"
     ]
    }
   ],
   "source": [
    "df_yelp_review_iter = pd.read_json(\"./data/yelp_academic_dataset_review.json\", chunksize=100000, lines=True)\n",
    "\n",
    "df_yelp_review = pd.DataFrame()\n",
    "i=0\n",
    "for df in df_yelp_review_iter:\n",
    "    df = df[df['business_id'].isin(df_yelp_business['business_id'])]\n",
    "    df_yelp_review = pd.concat([df_yelp_review, df])\n",
    "    i=i+1\n",
    "    print(i)\n",
    "    if i==4: break"
   ]
  },
  {
   "cell_type": "code",
   "execution_count": 5,
   "metadata": {},
   "outputs": [
    {
     "name": "stdout",
     "output_type": "stream",
     "text": [
      "Final businesses shape:  (4937, 14)\n",
      "Final review shape:  (283029, 9)\n"
     ]
    }
   ],
   "source": [
    "df_yelp_business = df_yelp_business[df_yelp_business['business_id'].isin(df_yelp_review['business_id'])]\n",
    "\n",
    "print('Final businesses shape: ', df_yelp_business.shape)\n",
    "print('Final review shape: ', df_yelp_review.shape)"
   ]
  },
  {
   "cell_type": "markdown",
   "metadata": {},
   "source": [
    "### Preprocessing"
   ]
  },
  {
   "cell_type": "code",
   "execution_count": 6,
   "metadata": {},
   "outputs": [],
   "source": [
    "def clean_text(text):\n",
    "    ## 구두점 제거\n",
    "    text = text.translate(string.punctuation)\n",
    "    \n",
    "    ## 소문자 변경 후 분리\n",
    "    text = text.lower().split()\n",
    "    \n",
    "    ## 불용어 제거\n",
    "    stops = set(stopwords.words(\"english\"))\n",
    "    text = [w for w in text if not w in stops and len(w) >= 3]\n",
    "    \n",
    "    text = \" \".join(text)\n",
    "    \n",
    "    # Clean the text\n",
    "    text = re.sub(r\"[^A-Za-z0-9^,!.\\/'+-=]\", \" \", text)\n",
    "    text = re.sub(r\"what's\", \"what is \", text)\n",
    "    text = re.sub(r\"\\'s\", \" \", text)\n",
    "    text = re.sub(r\"\\'ve\", \" have \", text)\n",
    "    text = re.sub(r\"n't\", \" not \", text)\n",
    "    text = re.sub(r\"i'm\", \"i am \", text)\n",
    "    text = re.sub(r\"\\'re\", \" are \", text)\n",
    "    text = re.sub(r\"\\'d\", \" would \", text)\n",
    "    text = re.sub(r\"\\'ll\", \" will \", text)\n",
    "    text = re.sub(r\",\", \" \", text)\n",
    "    text = re.sub(r\"\\.\", \" \", text)\n",
    "    text = re.sub(r\"!\", \" ! \", text)\n",
    "    text = re.sub(r\"\\/\", \" \", text)\n",
    "    text = re.sub(r\"\\^\", \" ^ \", text)\n",
    "    text = re.sub(r\"\\+\", \" + \", text)\n",
    "    text = re.sub(r\"\\-\", \" - \", text)\n",
    "    text = re.sub(r\"\\=\", \" = \", text)\n",
    "    text = re.sub(r\"'\", \" \", text)\n",
    "    text = re.sub(r\"(\\d+)(k)\", r\"\\g<1>000\", text)\n",
    "    text = re.sub(r\":\", \" : \", text)\n",
    "    text = re.sub(r\" e g \", \" eg \", text)\n",
    "    text = re.sub(r\" b g \", \" bg \", text)\n",
    "    text = re.sub(r\" u s \", \" american \", text)\n",
    "    text = re.sub(r\"\\0s\", \"0\", text)\n",
    "    text = re.sub(r\" 9 11 \", \"911\", text)\n",
    "    text = re.sub(r\"e - mail\", \"email\", text)\n",
    "    text = re.sub(r\"j k\", \"jk\", text)\n",
    "    text = re.sub(r\"\\s{2,}\", \" \", text)    \n",
    "    return text"
   ]
  },
  {
   "cell_type": "code",
   "execution_count": 7,
   "metadata": {},
   "outputs": [
    {
     "name": "stdout",
     "output_type": "stream",
     "text": [
      "CPU times: total: 1min 9s\n",
      "Wall time: 1min 9s\n"
     ]
    }
   ],
   "source": [
    "%%time\n",
    "df_yelp_review['text'] = df_yelp_review['text'].apply(clean_text)"
   ]
  },
  {
   "cell_type": "markdown",
   "metadata": {},
   "source": [
    "### Top 100 Vocabulariesb"
   ]
  },
  {
   "cell_type": "code",
   "execution_count": 8,
   "metadata": {},
   "outputs": [
    {
     "data": {
      "text/plain": [
       "(283029, 886)"
      ]
     },
     "execution_count": 8,
     "metadata": {},
     "output_type": "execute_result"
    }
   ],
   "source": [
    "vectorizer_reviews = CountVectorizer(min_df = .01,max_df = .99, tokenizer = WordPunctTokenizer().tokenize)\n",
    "vectorized_reviews = vectorizer_reviews.fit_transform(df_yelp_review['text'])\n",
    "\n",
    "vectorized_reviews.shape"
   ]
  },
  {
   "cell_type": "code",
   "execution_count": 10,
   "metadata": {},
   "outputs": [
    {
     "data": {
      "text/plain": [
       "'! | + | - | 00 | 1 | 10 | 12 | 15 | 2 | 20 | 3 | 30 | 4 | 5 | 50 | 6 | 7 | 8 | : | ; | a | able | about | absolutely | accommodating | across | actually | add | added | addition | afternoon | again | ago | all | almost | along | already | also | although | always | am | amazing | ambiance | american | amount | and | another | anyone | anything | anyway | anywhere | appetizer | appetizers | are | area | around | arrived | as | ask | asked | ate | atmosphere | attention | attentive | authentic | available | average | avocado | away | awesome | awful | back | bacon | bad | baked | bar | bartender | based | basically | bbq | be | beans | beautiful | beef | beer | beers | before | behind | believe | best | better | beyond | big | bill | birthday | bit | bite | black | bland | blue'"
      ]
     },
     "execution_count": 10,
     "metadata": {},
     "output_type": "execute_result"
    }
   ],
   "source": [
    "' | '.join(vectorizer_reviews.get_feature_names_out()[:100])"
   ]
  },
  {
   "cell_type": "markdown",
   "metadata": {},
   "source": [
    "### Top 100 Categoreis"
   ]
  },
  {
   "cell_type": "code",
   "execution_count": 12,
   "metadata": {},
   "outputs": [
    {
     "data": {
      "text/plain": [
       "(4937, 387)"
      ]
     },
     "execution_count": 12,
     "metadata": {},
     "output_type": "execute_result"
    }
   ],
   "source": [
    "vectorizer_categories = CountVectorizer(min_df = 1, max_df = 1., tokenizer = lambda x: x.split(', '))\n",
    "vectorized_categories = vectorizer_categories.fit_transform(df_yelp_business['categories'])\n",
    "\n",
    "vectorized_categories.shape"
   ]
  },
  {
   "cell_type": "code",
   "execution_count": 13,
   "metadata": {},
   "outputs": [
    {
     "data": {
      "text/plain": [
       "\"acai bowls | accessories | active life | adult entertainment | afghan | african | american (new) | american (traditional) | amusement parks | appliances & repair | arabic | arcades | argentine | armenian | art galleries | arts & crafts | arts & entertainment | asian fusion | austrian | auto detailing | auto glass services | auto repair | automotive | bagels | bakeries | banks & credit unions | bar crawl | barbeque | barbers | bars | bartenders | basque | battery stores | batting cages | beaches | beauty & spas | bed & breakfast | beer | beer bar | beer gardens | beer tours | beverage store | bistros | boat charters | boat tours | boating | body shops | books | bookstores | bowling | brasseries | brazilian | breakfast & brunch | breweries | brewpubs | british | bubble tea | buffets | building supplies | burgers | burmese | business consulting | butcher | cabaret | cafes | cafeteria | cajun/creole | calabrian | cambodian | canadian (new) | candy stores | cannabis dispensaries | cantonese | car dealers | car stereo installation | cards & stationery | caribbean | casinos | caterers | cheese shops | cheesesteaks | chicken shop | chicken wings | child care & day care | children's clothing | chinese | chiropractors | chocolatiers & shops | christmas trees | churches | cinema | club crawl | cocktail bars | coffee & tea | coffee roasteries | coffeeshops | colombian | comedy clubs | comfort food | community service/non-profit\""
      ]
     },
     "execution_count": 13,
     "metadata": {},
     "output_type": "execute_result"
    }
   ],
   "source": [
    "' | '.join(vectorizer_categories.get_feature_names_out()[:100])"
   ]
  },
  {
   "cell_type": "markdown",
   "metadata": {},
   "source": [
    "### 희소 행렬 생성"
   ]
  },
  {
   "cell_type": "code",
   "execution_count": 14,
   "metadata": {},
   "outputs": [
    {
     "name": "stdout",
     "output_type": "stream",
     "text": [
      "CPU times: total: 14.6 s\n",
      "Wall time: 14.7 s\n"
     ]
    }
   ],
   "source": [
    "%%time\n",
    "from scipy import sparse\n",
    "businessxreview = sparse.csr_matrix(pd.get_dummies(df_yelp_review['business_id']).values)"
   ]
  },
  {
   "cell_type": "code",
   "execution_count": 15,
   "metadata": {},
   "outputs": [
    {
     "name": "stdout",
     "output_type": "stream",
     "text": [
      "restuarants x categories: \t (4937, 387)\n",
      "restuarants x reviews: \t\t (283029, 4937)\n",
      "reviews x words: \t\t (283029, 886)\n"
     ]
    }
   ],
   "source": [
    "print('restuarants x categories: \\t', vectorized_categories.shape) \n",
    "print('restuarants x reviews: \\t\\t' , businessxreview.shape) \n",
    "print('reviews x words: \\t\\t', vectorized_reviews.shape)"
   ]
  },
  {
   "cell_type": "markdown",
   "metadata": {},
   "source": [
    "### 리뷰와 평점이 좋은 다른 식당 추천"
   ]
  },
  {
   "cell_type": "code",
   "execution_count": 19,
   "metadata": {},
   "outputs": [
    {
     "data": {
      "text/html": [
       "<div>\n",
       "<style scoped>\n",
       "    .dataframe tbody tr th:only-of-type {\n",
       "        vertical-align: middle;\n",
       "    }\n",
       "\n",
       "    .dataframe tbody tr th {\n",
       "        vertical-align: top;\n",
       "    }\n",
       "\n",
       "    .dataframe thead th {\n",
       "        text-align: right;\n",
       "    }\n",
       "</style>\n",
       "<table border=\"1\" class=\"dataframe\">\n",
       "  <thead>\n",
       "    <tr style=\"text-align: right;\">\n",
       "      <th></th>\n",
       "      <th>business_id</th>\n",
       "      <th>name</th>\n",
       "      <th>address</th>\n",
       "      <th>city</th>\n",
       "      <th>state</th>\n",
       "      <th>postal_code</th>\n",
       "      <th>latitude</th>\n",
       "      <th>longitude</th>\n",
       "      <th>stars</th>\n",
       "      <th>review_count</th>\n",
       "      <th>is_open</th>\n",
       "      <th>attributes</th>\n",
       "      <th>categories</th>\n",
       "      <th>hours</th>\n",
       "    </tr>\n",
       "  </thead>\n",
       "  <tbody>\n",
       "    <tr>\n",
       "      <th>6273</th>\n",
       "      <td>DptW6vZmrd7ttS0RCaWx2w</td>\n",
       "      <td>Xwrecks Restaurant &amp; Lounge</td>\n",
       "      <td>9303 50th Street NW</td>\n",
       "      <td>Edmonton</td>\n",
       "      <td>AB</td>\n",
       "      <td>T6B 2L5</td>\n",
       "      <td>53.530919</td>\n",
       "      <td>-113.417837</td>\n",
       "      <td>2.0</td>\n",
       "      <td>7</td>\n",
       "      <td>0</td>\n",
       "      <td>{'Alcohol': 'u'full_bar'', 'RestaurantsPriceRa...</td>\n",
       "      <td>Restaurants, Bars, Nightlife, American (Tradit...</td>\n",
       "      <td>{'Monday': '11:0-0:0', 'Tuesday': '11:0-0:0', ...</td>\n",
       "    </tr>\n",
       "    <tr>\n",
       "      <th>12352</th>\n",
       "      <td>4w6Z5v0uVt08oSBaA3342A</td>\n",
       "      <td>Wawa</td>\n",
       "      <td>600 Cinnaminson Ave</td>\n",
       "      <td>Palmyra</td>\n",
       "      <td>NJ</td>\n",
       "      <td>08065</td>\n",
       "      <td>39.998409</td>\n",
       "      <td>-75.035118</td>\n",
       "      <td>3.5</td>\n",
       "      <td>5</td>\n",
       "      <td>1</td>\n",
       "      <td>{'RestaurantsPriceRange2': '4', 'BusinessAccep...</td>\n",
       "      <td>Convenience Stores, Automotive, Coffee &amp; Tea, ...</td>\n",
       "      <td>{'Monday': '0:0-0:0', 'Tuesday': '0:0-0:0', 'W...</td>\n",
       "    </tr>\n",
       "    <tr>\n",
       "      <th>3136</th>\n",
       "      <td>N44roXfLNkBdpINQDjEFOQ</td>\n",
       "      <td>Carisilo's Mexican Restaurant</td>\n",
       "      <td>1978 Vandalia St</td>\n",
       "      <td>Collinsville</td>\n",
       "      <td>IL</td>\n",
       "      <td>62234</td>\n",
       "      <td>38.695337</td>\n",
       "      <td>-89.966691</td>\n",
       "      <td>4.0</td>\n",
       "      <td>65</td>\n",
       "      <td>1</td>\n",
       "      <td>{'RestaurantsDelivery': 'False', 'Alcohol': ''...</td>\n",
       "      <td>Mexican, Restaurants</td>\n",
       "      <td>{'Monday': '11:0-21:0', 'Tuesday': '11:0-21:0'...</td>\n",
       "    </tr>\n",
       "    <tr>\n",
       "      <th>9834</th>\n",
       "      <td>-SFSt3FkjGfavnyMpHsZPA</td>\n",
       "      <td>Enjoi Sweets &amp; Company</td>\n",
       "      <td>4707 W Gandy Blvd, Ste 7</td>\n",
       "      <td>Tampa</td>\n",
       "      <td>FL</td>\n",
       "      <td>33611</td>\n",
       "      <td>27.893760</td>\n",
       "      <td>-82.525167</td>\n",
       "      <td>4.5</td>\n",
       "      <td>9</td>\n",
       "      <td>0</td>\n",
       "      <td>{'NoiseLevel': 'u'quiet'', 'BusinessAcceptsBit...</td>\n",
       "      <td>Desserts, Food, Cafes, Restaurants, Food Truck...</td>\n",
       "      <td>{'Thursday': '12:0-21:0', 'Friday': '12:0-21:0...</td>\n",
       "    </tr>\n",
       "    <tr>\n",
       "      <th>1427</th>\n",
       "      <td>jLaPtjlLfRSaoBWIcHcSQg</td>\n",
       "      <td>The Mad Crab</td>\n",
       "      <td>8080 Olive Blvd</td>\n",
       "      <td>University City</td>\n",
       "      <td>MO</td>\n",
       "      <td>63130</td>\n",
       "      <td>38.672734</td>\n",
       "      <td>-90.345018</td>\n",
       "      <td>3.5</td>\n",
       "      <td>156</td>\n",
       "      <td>1</td>\n",
       "      <td>{'Caters': 'False', 'Alcohol': 'u'beer_and_win...</td>\n",
       "      <td>Seafood, Cajun/Creole, American (New), Restaur...</td>\n",
       "      <td>{'Monday': '15:0-22:0', 'Tuesday': '15:0-22:0'...</td>\n",
       "    </tr>\n",
       "  </tbody>\n",
       "</table>\n",
       "</div>"
      ],
      "text/plain": [
       "                  business_id                           name  \\\n",
       "6273   DptW6vZmrd7ttS0RCaWx2w    Xwrecks Restaurant & Lounge   \n",
       "12352  4w6Z5v0uVt08oSBaA3342A                           Wawa   \n",
       "3136   N44roXfLNkBdpINQDjEFOQ  Carisilo's Mexican Restaurant   \n",
       "9834   -SFSt3FkjGfavnyMpHsZPA         Enjoi Sweets & Company   \n",
       "1427   jLaPtjlLfRSaoBWIcHcSQg                   The Mad Crab   \n",
       "\n",
       "                        address             city state postal_code   latitude  \\\n",
       "6273        9303 50th Street NW         Edmonton    AB     T6B 2L5  53.530919   \n",
       "12352       600 Cinnaminson Ave          Palmyra    NJ       08065  39.998409   \n",
       "3136           1978 Vandalia St     Collinsville    IL       62234  38.695337   \n",
       "9834   4707 W Gandy Blvd, Ste 7            Tampa    FL       33611  27.893760   \n",
       "1427            8080 Olive Blvd  University City    MO       63130  38.672734   \n",
       "\n",
       "        longitude  stars  review_count  is_open  \\\n",
       "6273  -113.417837    2.0             7        0   \n",
       "12352  -75.035118    3.5             5        1   \n",
       "3136   -89.966691    4.0            65        1   \n",
       "9834   -82.525167    4.5             9        0   \n",
       "1427   -90.345018    3.5           156        1   \n",
       "\n",
       "                                              attributes  \\\n",
       "6273   {'Alcohol': 'u'full_bar'', 'RestaurantsPriceRa...   \n",
       "12352  {'RestaurantsPriceRange2': '4', 'BusinessAccep...   \n",
       "3136   {'RestaurantsDelivery': 'False', 'Alcohol': ''...   \n",
       "9834   {'NoiseLevel': 'u'quiet'', 'BusinessAcceptsBit...   \n",
       "1427   {'Caters': 'False', 'Alcohol': 'u'beer_and_win...   \n",
       "\n",
       "                                              categories  \\\n",
       "6273   Restaurants, Bars, Nightlife, American (Tradit...   \n",
       "12352  Convenience Stores, Automotive, Coffee & Tea, ...   \n",
       "3136                                Mexican, Restaurants   \n",
       "9834   Desserts, Food, Cafes, Restaurants, Food Truck...   \n",
       "1427   Seafood, Cajun/Creole, American (New), Restaur...   \n",
       "\n",
       "                                                   hours  \n",
       "6273   {'Monday': '11:0-0:0', 'Tuesday': '11:0-0:0', ...  \n",
       "12352  {'Monday': '0:0-0:0', 'Tuesday': '0:0-0:0', 'W...  \n",
       "3136   {'Monday': '11:0-21:0', 'Tuesday': '11:0-21:0'...  \n",
       "9834   {'Thursday': '12:0-21:0', 'Friday': '12:0-21:0...  \n",
       "1427   {'Monday': '15:0-22:0', 'Tuesday': '15:0-22:0'...  "
      ]
     },
     "execution_count": 19,
     "metadata": {},
     "output_type": "execute_result"
    }
   ],
   "source": [
    "df_yelp_business.sample(5)"
   ]
  },
  {
   "cell_type": "code",
   "execution_count": 20,
   "metadata": {},
   "outputs": [],
   "source": [
    "business_choose = '-SFSt3FkjGfavnyMpHsZPA' # Desserts, Food, Cafes, Restaurants ..."
   ]
  },
  {
   "cell_type": "code",
   "execution_count": 21,
   "metadata": {},
   "outputs": [
    {
     "name": "stdout",
     "output_type": "stream",
     "text": [
      "wow probably best cupcakes i have since moved tampa + + i stopped guys came flicks food trucks heard\n",
      "pleasure experiencing enjoi sweets recent food truck rally work later day dessert truck best place e\n",
      "delicious cupcakes review say much liked place went tried red velvet chocolate chip brownie fresh yu\n",
      "one word delectable ! + + stumbled upon food truck which also storefront flicks food trucks past mon\n",
      "tried cupcakes food truck family ordered following : + + chocolate chocolate delicious moist cake ch\n",
      "unable contact month left facebook review told anything nice say keep myself understand things come \n",
      "used enjoi sweets company event fantastic ! everything setting event food itself joi jon pleasure wo\n",
      "tried italian mango drink super delicious got get enough ! \n",
      "enjoi sweets one favorite food trucks love design course delicious cupcakes catered events say serve\n"
     ]
    }
   ],
   "source": [
    "new_reviews = df_yelp_review.loc[df_yelp_review['business_id'] == business_choose, 'text']\n",
    "print('\\n'.join([r[:100] for r in new_reviews.tolist()]))"
   ]
  },
  {
   "cell_type": "code",
   "execution_count": 22,
   "metadata": {},
   "outputs": [
    {
     "data": {
      "text/plain": [
       "['Desserts, Food, Cafes, Restaurants, Food Trucks, American (Traditional)']"
      ]
     },
     "execution_count": 22,
     "metadata": {},
     "output_type": "execute_result"
    }
   ],
   "source": [
    "new_categories = df_yelp_business.loc[df_yelp_business['business_id'] == business_choose, 'categories']\n",
    "new_categories.tolist()"
   ]
  },
  {
   "cell_type": "markdown",
   "metadata": {},
   "source": [
    "### 유사도 계산"
   ]
  },
  {
   "cell_type": "code",
   "execution_count": 23,
   "metadata": {},
   "outputs": [],
   "source": [
    "from scipy.spatial.distance import cdist\n",
    "# find most similar reviews\n",
    "dists1 = cdist(vectorizer_reviews.transform(new_reviews).todense().mean(axis=0), \n",
    "              vectorized_reviews.T.dot(businessxreview).T.todense(), \n",
    "               metric='correlation')\n",
    "# find most similar categories\n",
    "dists2 = cdist(vectorizer_categories.transform(new_categories).todense().mean(axis=0), \n",
    "              vectorized_categories.todense(), \n",
    "               metric='correlation')"
   ]
  },
  {
   "cell_type": "code",
   "execution_count": 25,
   "metadata": {},
   "outputs": [
    {
     "data": {
      "text/plain": [
       "array([0.54952985, 0.50191353, 0.56616524, ..., 0.69466944, 0.64917578,\n",
       "       0.4334572 ])"
      ]
     },
     "execution_count": 25,
     "metadata": {},
     "output_type": "execute_result"
    }
   ],
   "source": [
    "dists_together = np.vstack([dists1.ravel(), dists2.ravel()]).T\n",
    "\n",
    "dists = dists_together.mean(axis=1)\n",
    "dists"
   ]
  },
  {
   "cell_type": "code",
   "execution_count": 26,
   "metadata": {},
   "outputs": [],
   "source": [
    "# 가장 유사한 10개의 레스토랑\n",
    "closest = dists.argsort().ravel()[:10]"
   ]
  },
  {
   "cell_type": "markdown",
   "metadata": {},
   "source": [
    "#### 기준 레스토랑"
   ]
  },
  {
   "cell_type": "code",
   "execution_count": 27,
   "metadata": {},
   "outputs": [
    {
     "data": {
      "text/html": [
       "<div>\n",
       "<style scoped>\n",
       "    .dataframe tbody tr th:only-of-type {\n",
       "        vertical-align: middle;\n",
       "    }\n",
       "\n",
       "    .dataframe tbody tr th {\n",
       "        vertical-align: top;\n",
       "    }\n",
       "\n",
       "    .dataframe thead th {\n",
       "        text-align: right;\n",
       "    }\n",
       "</style>\n",
       "<table border=\"1\" class=\"dataframe\">\n",
       "  <thead>\n",
       "    <tr style=\"text-align: right;\">\n",
       "      <th></th>\n",
       "      <th>business_id</th>\n",
       "      <th>categories</th>\n",
       "      <th>name</th>\n",
       "      <th>stars</th>\n",
       "    </tr>\n",
       "  </thead>\n",
       "  <tbody>\n",
       "    <tr>\n",
       "      <th>9834</th>\n",
       "      <td>-SFSt3FkjGfavnyMpHsZPA</td>\n",
       "      <td>Desserts, Food, Cafes, Restaurants, Food Truck...</td>\n",
       "      <td>Enjoi Sweets &amp; Company</td>\n",
       "      <td>4.5</td>\n",
       "    </tr>\n",
       "  </tbody>\n",
       "</table>\n",
       "</div>"
      ],
      "text/plain": [
       "                 business_id  \\\n",
       "9834  -SFSt3FkjGfavnyMpHsZPA   \n",
       "\n",
       "                                             categories  \\\n",
       "9834  Desserts, Food, Cafes, Restaurants, Food Truck...   \n",
       "\n",
       "                        name  stars  \n",
       "9834  Enjoi Sweets & Company    4.5  "
      ]
     },
     "execution_count": 27,
     "metadata": {},
     "output_type": "execute_result"
    }
   ],
   "source": [
    "df_yelp_business.loc[df_yelp_business['business_id']== business_choose, ['business_id', 'categories', 'name', 'stars']]"
   ]
  },
  {
   "cell_type": "markdown",
   "metadata": {},
   "source": [
    "#### 추천된 레스토랑 목록"
   ]
  },
  {
   "cell_type": "code",
   "execution_count": 28,
   "metadata": {},
   "outputs": [
    {
     "data": {
      "text/html": [
       "<div>\n",
       "<style scoped>\n",
       "    .dataframe tbody tr th:only-of-type {\n",
       "        vertical-align: middle;\n",
       "    }\n",
       "\n",
       "    .dataframe tbody tr th {\n",
       "        vertical-align: top;\n",
       "    }\n",
       "\n",
       "    .dataframe thead th {\n",
       "        text-align: right;\n",
       "    }\n",
       "</style>\n",
       "<table border=\"1\" class=\"dataframe\">\n",
       "  <thead>\n",
       "    <tr style=\"text-align: right;\">\n",
       "      <th></th>\n",
       "      <th>business_id</th>\n",
       "      <th>categories</th>\n",
       "      <th>name</th>\n",
       "      <th>stars</th>\n",
       "    </tr>\n",
       "  </thead>\n",
       "  <tbody>\n",
       "    <tr>\n",
       "      <th>742</th>\n",
       "      <td>dD2p903p8lU0IgXT3OFluA</td>\n",
       "      <td>Breakfast &amp; Brunch, Restaurants, Food, Cafes, ...</td>\n",
       "      <td>Edgehill Cafe</td>\n",
       "      <td>3.5</td>\n",
       "    </tr>\n",
       "    <tr>\n",
       "      <th>2548</th>\n",
       "      <td>dcpWZ6Yk_S0HqTlNBi8jiA</td>\n",
       "      <td>Food, Coffee &amp; Tea, Restaurants, Desserts, Cafes</td>\n",
       "      <td>The Woodrack Cafe</td>\n",
       "      <td>4.0</td>\n",
       "    </tr>\n",
       "    <tr>\n",
       "      <th>4710</th>\n",
       "      <td>qLrTiIPDlnNX6FYTs29rmg</td>\n",
       "      <td>Restaurants, American (Traditional)</td>\n",
       "      <td>Buddy's Grill</td>\n",
       "      <td>3.5</td>\n",
       "    </tr>\n",
       "    <tr>\n",
       "      <th>6720</th>\n",
       "      <td>jVdYRED2iztNaNCoTAhVMA</td>\n",
       "      <td>Restaurants, Salad, Food, Desserts</td>\n",
       "      <td>Have A Greener Day</td>\n",
       "      <td>5.0</td>\n",
       "    </tr>\n",
       "    <tr>\n",
       "      <th>8244</th>\n",
       "      <td>iHTL6BPlaPK6xvOa5MIKaQ</td>\n",
       "      <td>American (Traditional), Restaurants, Food, Ame...</td>\n",
       "      <td>Essentially Fries</td>\n",
       "      <td>4.0</td>\n",
       "    </tr>\n",
       "    <tr>\n",
       "      <th>9834</th>\n",
       "      <td>-SFSt3FkjGfavnyMpHsZPA</td>\n",
       "      <td>Desserts, Food, Cafes, Restaurants, Food Truck...</td>\n",
       "      <td>Enjoi Sweets &amp; Company</td>\n",
       "      <td>4.5</td>\n",
       "    </tr>\n",
       "    <tr>\n",
       "      <th>10337</th>\n",
       "      <td>hQcAPRwuYFPAbhbpeNPEgA</td>\n",
       "      <td>Bakeries, American (Traditional), Food, Restau...</td>\n",
       "      <td>Apple Farm Diner and Bakery</td>\n",
       "      <td>2.5</td>\n",
       "    </tr>\n",
       "    <tr>\n",
       "      <th>11701</th>\n",
       "      <td>tYCok-NtWvg8_k7woeB83w</td>\n",
       "      <td>Desserts, American (Traditional), Cafes, Resta...</td>\n",
       "      <td>Grand Lux Cafe</td>\n",
       "      <td>3.5</td>\n",
       "    </tr>\n",
       "    <tr>\n",
       "      <th>11748</th>\n",
       "      <td>newkruvn1rhEvueEc9y1Mw</td>\n",
       "      <td>Food, Restaurants, Desserts, Ice Cream &amp; Froze...</td>\n",
       "      <td>Moo Moo Milk Bar</td>\n",
       "      <td>3.5</td>\n",
       "    </tr>\n",
       "    <tr>\n",
       "      <th>12506</th>\n",
       "      <td>9dW3CVyvnTXdkXg2AOyBfw</td>\n",
       "      <td>Desserts, Coffee &amp; Tea, Cafes, Donuts, Food, S...</td>\n",
       "      <td>Birds Nest Cafe</td>\n",
       "      <td>4.5</td>\n",
       "    </tr>\n",
       "  </tbody>\n",
       "</table>\n",
       "</div>"
      ],
      "text/plain": [
       "                  business_id  \\\n",
       "742    dD2p903p8lU0IgXT3OFluA   \n",
       "2548   dcpWZ6Yk_S0HqTlNBi8jiA   \n",
       "4710   qLrTiIPDlnNX6FYTs29rmg   \n",
       "6720   jVdYRED2iztNaNCoTAhVMA   \n",
       "8244   iHTL6BPlaPK6xvOa5MIKaQ   \n",
       "9834   -SFSt3FkjGfavnyMpHsZPA   \n",
       "10337  hQcAPRwuYFPAbhbpeNPEgA   \n",
       "11701  tYCok-NtWvg8_k7woeB83w   \n",
       "11748  newkruvn1rhEvueEc9y1Mw   \n",
       "12506  9dW3CVyvnTXdkXg2AOyBfw   \n",
       "\n",
       "                                              categories  \\\n",
       "742    Breakfast & Brunch, Restaurants, Food, Cafes, ...   \n",
       "2548    Food, Coffee & Tea, Restaurants, Desserts, Cafes   \n",
       "4710                 Restaurants, American (Traditional)   \n",
       "6720                  Restaurants, Salad, Food, Desserts   \n",
       "8244   American (Traditional), Restaurants, Food, Ame...   \n",
       "9834   Desserts, Food, Cafes, Restaurants, Food Truck...   \n",
       "10337  Bakeries, American (Traditional), Food, Restau...   \n",
       "11701  Desserts, American (Traditional), Cafes, Resta...   \n",
       "11748  Food, Restaurants, Desserts, Ice Cream & Froze...   \n",
       "12506  Desserts, Coffee & Tea, Cafes, Donuts, Food, S...   \n",
       "\n",
       "                              name  stars  \n",
       "742                  Edgehill Cafe    3.5  \n",
       "2548             The Woodrack Cafe    4.0  \n",
       "4710                 Buddy's Grill    3.5  \n",
       "6720            Have A Greener Day    5.0  \n",
       "8244             Essentially Fries    4.0  \n",
       "9834        Enjoi Sweets & Company    4.5  \n",
       "10337  Apple Farm Diner and Bakery    2.5  \n",
       "11701               Grand Lux Cafe    3.5  \n",
       "11748             Moo Moo Milk Bar    3.5  \n",
       "12506              Birds Nest Cafe    4.5  "
      ]
     },
     "execution_count": 28,
     "metadata": {},
     "output_type": "execute_result"
    }
   ],
   "source": [
    "df_yelp_business.loc[df_yelp_business['business_id'].isin(df_yelp_business['business_id'].iloc[closest]), ['business_id', 'categories', 'name', 'stars']]"
   ]
  }
 ],
 "metadata": {
  "kernelspec": {
   "display_name": "Python 3.9.12 ('Deep')",
   "language": "python",
   "name": "python3"
  },
  "language_info": {
   "codemirror_mode": {
    "name": "ipython",
    "version": 3
   },
   "file_extension": ".py",
   "mimetype": "text/x-python",
   "name": "python",
   "nbconvert_exporter": "python",
   "pygments_lexer": "ipython3",
   "version": "3.9.12"
  },
  "orig_nbformat": 4,
  "vscode": {
   "interpreter": {
    "hash": "74cb2441972c5e2ce4d81cf164d964ef294956299a0f54ad32355ca0ab9e0fa7"
   }
  }
 },
 "nbformat": 4,
 "nbformat_minor": 2
}
