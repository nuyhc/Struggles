{
 "cells": [
  {
   "cell_type": "markdown",
   "metadata": {},
   "source": [
    "# Iris\n",
    "## Regression\n",
    "### 사용 라이브러리"
   ]
  },
  {
   "cell_type": "code",
   "execution_count": 17,
   "metadata": {},
   "outputs": [],
   "source": [
    "import numpy as np\n",
    "import pandas as pd\n",
    "import seaborn as sns\n",
    "import matplotlib.pyplot as plt\n",
    "import koreanize_matplotlib\n",
    "from sklearn.datasets import load_iris\n",
    "from sklearn.tree import DecisionTreeRegressor, plot_tree\n",
    "from sklearn.ensemble import RandomForestRegressor\n",
    "from lightgbm import LGBMRegressor, plot_importance\n",
    "from sklearn.model_selection import train_test_split, GridSearchCV\n",
    "from sklearn.metrics import mean_squared_error, r2_score, mean_absolute_error"
   ]
  },
  {
   "cell_type": "markdown",
   "metadata": {},
   "source": [
    "### Data Load"
   ]
  },
  {
   "cell_type": "code",
   "execution_count": 3,
   "metadata": {},
   "outputs": [
    {
     "data": {
      "text/html": [
       "<div>\n",
       "<style scoped>\n",
       "    .dataframe tbody tr th:only-of-type {\n",
       "        vertical-align: middle;\n",
       "    }\n",
       "\n",
       "    .dataframe tbody tr th {\n",
       "        vertical-align: top;\n",
       "    }\n",
       "\n",
       "    .dataframe thead th {\n",
       "        text-align: right;\n",
       "    }\n",
       "</style>\n",
       "<table border=\"1\" class=\"dataframe\">\n",
       "  <thead>\n",
       "    <tr style=\"text-align: right;\">\n",
       "      <th></th>\n",
       "      <th>sepal length (cm)</th>\n",
       "      <th>sepal width (cm)</th>\n",
       "      <th>petal length (cm)</th>\n",
       "      <th>petal width (cm)</th>\n",
       "      <th>label</th>\n",
       "    </tr>\n",
       "  </thead>\n",
       "  <tbody>\n",
       "    <tr>\n",
       "      <th>75</th>\n",
       "      <td>6.6</td>\n",
       "      <td>3.0</td>\n",
       "      <td>4.4</td>\n",
       "      <td>1.4</td>\n",
       "      <td>1</td>\n",
       "    </tr>\n",
       "    <tr>\n",
       "      <th>147</th>\n",
       "      <td>6.5</td>\n",
       "      <td>3.0</td>\n",
       "      <td>5.2</td>\n",
       "      <td>2.0</td>\n",
       "      <td>2</td>\n",
       "    </tr>\n",
       "    <tr>\n",
       "      <th>33</th>\n",
       "      <td>5.5</td>\n",
       "      <td>4.2</td>\n",
       "      <td>1.4</td>\n",
       "      <td>0.2</td>\n",
       "      <td>0</td>\n",
       "    </tr>\n",
       "    <tr>\n",
       "      <th>101</th>\n",
       "      <td>5.8</td>\n",
       "      <td>2.7</td>\n",
       "      <td>5.1</td>\n",
       "      <td>1.9</td>\n",
       "      <td>2</td>\n",
       "    </tr>\n",
       "    <tr>\n",
       "      <th>56</th>\n",
       "      <td>6.3</td>\n",
       "      <td>3.3</td>\n",
       "      <td>4.7</td>\n",
       "      <td>1.6</td>\n",
       "      <td>1</td>\n",
       "    </tr>\n",
       "  </tbody>\n",
       "</table>\n",
       "</div>"
      ],
      "text/plain": [
       "     sepal length (cm)  sepal width (cm)  petal length (cm)  petal width (cm)  \\\n",
       "75                 6.6               3.0                4.4               1.4   \n",
       "147                6.5               3.0                5.2               2.0   \n",
       "33                 5.5               4.2                1.4               0.2   \n",
       "101                5.8               2.7                5.1               1.9   \n",
       "56                 6.3               3.3                4.7               1.6   \n",
       "\n",
       "     label  \n",
       "75       1  \n",
       "147      2  \n",
       "33       0  \n",
       "101      2  \n",
       "56       1  "
      ]
     },
     "execution_count": 3,
     "metadata": {},
     "output_type": "execute_result"
    }
   ],
   "source": [
    "iris = load_iris()\n",
    "iris_data = iris.data # feature만으로 된 데이터\n",
    "iris_label = iris.target # label 데이터\n",
    "\n",
    "df_iris = pd.DataFrame(data=iris_data, columns=iris.feature_names)\n",
    "df_iris[\"label\"] = iris.target\n",
    "df_iris.sample(5)"
   ]
  },
  {
   "cell_type": "markdown",
   "metadata": {},
   "source": [
    "원목표는 분류지만, 회귀를 이용해 꽃잎과 꽃 받침의 길이나 폭을 구해볼 예정"
   ]
  },
  {
   "cell_type": "code",
   "execution_count": 16,
   "metadata": {},
   "outputs": [],
   "source": [
    "def reg_score(y_true, y_pred):\n",
    "    MSE = mean_squared_error(y_true, y_pred)\n",
    "    RMSE = np.sqrt(mean_squared_error(y_true,y_pred))\n",
    "    MAE = np.mean( np.abs((y_true - y_pred) / y_true) )\n",
    "    NMAE =mean_absolute_error(y_true, y_pred)/ np.mean( np.abs(y_true) )\n",
    "    MAPE = np.mean( np.abs((y_true - y_pred) / y_true) ) *100\n",
    "    R2 = r2_score(y_true, y_pred)\n",
    "  \n",
    "    return {'MSE' : np.round(MSE, 3), \n",
    "            'RMSE' : np.round(RMSE, 3),\n",
    "            'MAE' : np.round(MAE, 3),\n",
    "            'NMAE' : np.round(NMAE, 3),\n",
    "            'MAPE' : np.round(MAPE, 3),\n",
    "            'R2' : np.round(R2, 3)}\n",
    "        "
   ]
  },
  {
   "cell_type": "markdown",
   "metadata": {},
   "source": [
    "### 꽃잎의 길이 (petal length (cm))"
   ]
  },
  {
   "cell_type": "code",
   "execution_count": 4,
   "metadata": {},
   "outputs": [],
   "source": [
    "label = \"petal length (cm)\"\n",
    "feature_list = df_iris.columns.tolist()\n",
    "feature_list.remove(label)"
   ]
  },
  {
   "cell_type": "code",
   "execution_count": 10,
   "metadata": {},
   "outputs": [
    {
     "name": "stdout",
     "output_type": "stream",
     "text": [
      "X_train: (135, 4)\n",
      "y_train: (135,)\n",
      "X_test: (15, 4)\n",
      "y_test: (15,)\n"
     ]
    }
   ],
   "source": [
    "X_train, X_test, y_train, y_test = train_test_split(df_iris[feature_list], df_iris[label], test_size=0.1, shuffle=True)\n",
    "\n",
    "print(f\"X_train: {X_train.shape}\\ny_train: {y_train.shape}\\nX_test: {X_test.shape}\\ny_test: {y_test.shape}\")"
   ]
  },
  {
   "cell_type": "markdown",
   "metadata": {},
   "source": [
    "#### Decision Tree"
   ]
  },
  {
   "cell_type": "code",
   "execution_count": 12,
   "metadata": {},
   "outputs": [],
   "source": [
    "reg_dt = DecisionTreeRegressor()\n",
    "\n",
    "reg_dt.fit(X_train, y_train)\n",
    "\n",
    "pred_dt = reg_dt.predict(X_test)"
   ]
  },
  {
   "cell_type": "code",
   "execution_count": 18,
   "metadata": {},
   "outputs": [
    {
     "data": {
      "text/plain": [
       "{'MSE': 0.061,\n",
       " 'RMSE': 0.246,\n",
       " 'MAE': 0.056,\n",
       " 'NMAE': 0.046,\n",
       " 'MAPE': 5.608,\n",
       " 'R2': 0.976}"
      ]
     },
     "execution_count": 18,
     "metadata": {},
     "output_type": "execute_result"
    }
   ],
   "source": [
    "reg_score(pred_dt, y_test)"
   ]
  },
  {
   "cell_type": "markdown",
   "metadata": {},
   "source": [
    "#### Random Forest"
   ]
  },
  {
   "cell_type": "code",
   "execution_count": 19,
   "metadata": {},
   "outputs": [],
   "source": [
    "reg_rf = RandomForestRegressor()\n",
    "\n",
    "reg_rf.fit(X_train, y_train)\n",
    "\n",
    "pred_rf = reg_rf.predict(X_test)"
   ]
  },
  {
   "cell_type": "code",
   "execution_count": 23,
   "metadata": {},
   "outputs": [
    {
     "data": {
      "text/plain": [
       "{'MSE': 0.057,\n",
       " 'RMSE': 0.239,\n",
       " 'MAE': 0.058,\n",
       " 'NMAE': 0.05,\n",
       " 'MAPE': 5.755,\n",
       " 'R2': 0.975}"
      ]
     },
     "execution_count": 23,
     "metadata": {},
     "output_type": "execute_result"
    }
   ],
   "source": [
    "reg_score(pred_rf, y_test)"
   ]
  },
  {
   "cell_type": "markdown",
   "metadata": {},
   "source": [
    "#### LightGBM"
   ]
  },
  {
   "cell_type": "code",
   "execution_count": 21,
   "metadata": {},
   "outputs": [],
   "source": [
    "reg_lgbm = LGBMRegressor()\n",
    "\n",
    "reg_lgbm.fit(X_train, y_train)\n",
    "\n",
    "pred_lgbm = reg_lgbm.predict(X_test)"
   ]
  },
  {
   "cell_type": "code",
   "execution_count": 22,
   "metadata": {},
   "outputs": [
    {
     "data": {
      "text/plain": [
       "{'MSE': 0.121,\n",
       " 'RMSE': 0.348,\n",
       " 'MAE': 0.064,\n",
       " 'NMAE': 0.063,\n",
       " 'MAPE': 6.406,\n",
       " 'R2': 0.944}"
      ]
     },
     "execution_count": 22,
     "metadata": {},
     "output_type": "execute_result"
    }
   ],
   "source": [
    "reg_score(pred_lgbm, y_test)"
   ]
  },
  {
   "cell_type": "markdown",
   "metadata": {},
   "source": [
    "### 꽃잎의 넓이 (petal width (cm))"
   ]
  },
  {
   "cell_type": "code",
   "execution_count": 24,
   "metadata": {},
   "outputs": [
    {
     "name": "stdout",
     "output_type": "stream",
     "text": [
      "X_train: (135, 4)\n",
      "y_train: (135,)\n",
      "X_test: (15, 4)\n",
      "y_test: (15,)\n"
     ]
    }
   ],
   "source": [
    "label = \"petal width (cm)\"\n",
    "feature_list = df_iris.columns.tolist()\n",
    "feature_list.remove(label)\n",
    "\n",
    "X_train, X_test, y_train, y_test = train_test_split(df_iris[feature_list], df_iris[label], test_size=0.1, shuffle=True)\n",
    "\n",
    "print(f\"X_train: {X_train.shape}\\ny_train: {y_train.shape}\\nX_test: {X_test.shape}\\ny_test: {y_test.shape}\")"
   ]
  },
  {
   "cell_type": "markdown",
   "metadata": {},
   "source": [
    "#### Decision Tree"
   ]
  },
  {
   "cell_type": "code",
   "execution_count": 25,
   "metadata": {},
   "outputs": [
    {
     "data": {
      "text/plain": [
       "{'MSE': 0.028,\n",
       " 'RMSE': 0.167,\n",
       " 'MAE': 0.153,\n",
       " 'NMAE': 0.097,\n",
       " 'MAPE': 15.261,\n",
       " 'R2': 0.936}"
      ]
     },
     "execution_count": 25,
     "metadata": {},
     "output_type": "execute_result"
    }
   ],
   "source": [
    "reg_dt = DecisionTreeRegressor()\n",
    "\n",
    "reg_dt.fit(X_train, y_train)\n",
    "\n",
    "pred_dt = reg_dt.predict(X_test)\n",
    "\n",
    "reg_score(pred_dt, y_test)"
   ]
  },
  {
   "cell_type": "markdown",
   "metadata": {},
   "source": [
    "#### Random Forest"
   ]
  },
  {
   "cell_type": "code",
   "execution_count": 26,
   "metadata": {},
   "outputs": [
    {
     "data": {
      "text/plain": [
       "{'MSE': 0.019,\n",
       " 'RMSE': 0.137,\n",
       " 'MAE': 0.139,\n",
       " 'NMAE': 0.091,\n",
       " 'MAPE': 13.864,\n",
       " 'R2': 0.955}"
      ]
     },
     "execution_count": 26,
     "metadata": {},
     "output_type": "execute_result"
    }
   ],
   "source": [
    "reg_rf = RandomForestRegressor()\n",
    "\n",
    "reg_rf.fit(X_train, y_train)\n",
    "\n",
    "pred_rf = reg_rf.predict(X_test)\n",
    "\n",
    "reg_score(pred_rf, y_test)"
   ]
  },
  {
   "cell_type": "markdown",
   "metadata": {},
   "source": [
    "#### LightGBM"
   ]
  },
  {
   "cell_type": "code",
   "execution_count": 27,
   "metadata": {},
   "outputs": [
    {
     "data": {
      "text/plain": [
       "{'MSE': 0.013,\n",
       " 'RMSE': 0.115,\n",
       " 'MAE': 0.115,\n",
       " 'NMAE': 0.08,\n",
       " 'MAPE': 11.548,\n",
       " 'R2': 0.969}"
      ]
     },
     "execution_count": 27,
     "metadata": {},
     "output_type": "execute_result"
    }
   ],
   "source": [
    "reg_lgbm = LGBMRegressor()\n",
    "\n",
    "reg_lgbm.fit(X_train, y_train)\n",
    "\n",
    "pred_lgbm = reg_lgbm.predict(X_test)\n",
    "\n",
    "reg_score(pred_lgbm, y_test)"
   ]
  },
  {
   "cell_type": "markdown",
   "metadata": {},
   "source": [
    "### 꽃 받침 길이 (sepal length (cm))"
   ]
  },
  {
   "cell_type": "code",
   "execution_count": 28,
   "metadata": {},
   "outputs": [
    {
     "name": "stdout",
     "output_type": "stream",
     "text": [
      "X_train: (135, 4)\n",
      "y_train: (135,)\n",
      "X_test: (15, 4)\n",
      "y_test: (15,)\n"
     ]
    }
   ],
   "source": [
    "label = \"sepal length (cm)\"\n",
    "feature_list = df_iris.columns.tolist()\n",
    "feature_list.remove(label)\n",
    "\n",
    "X_train, X_test, y_train, y_test = train_test_split(df_iris[feature_list], df_iris[label], test_size=0.1, shuffle=True)\n",
    "\n",
    "print(f\"X_train: {X_train.shape}\\ny_train: {y_train.shape}\\nX_test: {X_test.shape}\\ny_test: {y_test.shape}\")"
   ]
  },
  {
   "cell_type": "markdown",
   "metadata": {},
   "source": [
    "#### Decision Tree"
   ]
  },
  {
   "cell_type": "code",
   "execution_count": 29,
   "metadata": {},
   "outputs": [
    {
     "data": {
      "text/plain": [
       "{'MSE': 0.097,\n",
       " 'RMSE': 0.312,\n",
       " 'MAE': 0.048,\n",
       " 'NMAE': 0.047,\n",
       " 'MAPE': 4.821,\n",
       " 'R2': 0.887}"
      ]
     },
     "execution_count": 29,
     "metadata": {},
     "output_type": "execute_result"
    }
   ],
   "source": [
    "reg_dt = DecisionTreeRegressor()\n",
    "\n",
    "reg_dt.fit(X_train, y_train)\n",
    "\n",
    "pred_dt = reg_dt.predict(X_test)\n",
    "\n",
    "reg_score(pred_dt, y_test)"
   ]
  },
  {
   "cell_type": "markdown",
   "metadata": {},
   "source": [
    "#### Random Tree"
   ]
  },
  {
   "cell_type": "code",
   "execution_count": 30,
   "metadata": {},
   "outputs": [
    {
     "data": {
      "text/plain": [
       "{'MSE': 0.053,\n",
       " 'RMSE': 0.229,\n",
       " 'MAE': 0.034,\n",
       " 'NMAE': 0.032,\n",
       " 'MAPE': 3.35,\n",
       " 'R2': 0.935}"
      ]
     },
     "execution_count": 30,
     "metadata": {},
     "output_type": "execute_result"
    }
   ],
   "source": [
    "reg_rf = RandomForestRegressor()\n",
    "\n",
    "reg_rf.fit(X_train, y_train)\n",
    "\n",
    "pred_rf = reg_rf.predict(X_test)\n",
    "\n",
    "reg_score(pred_rf, y_test)"
   ]
  },
  {
   "cell_type": "markdown",
   "metadata": {},
   "source": [
    "#### LightGBM"
   ]
  },
  {
   "cell_type": "code",
   "execution_count": 31,
   "metadata": {},
   "outputs": [
    {
     "data": {
      "text/plain": [
       "{'MSE': 0.121,\n",
       " 'RMSE': 0.348,\n",
       " 'MAE': 0.052,\n",
       " 'NMAE': 0.053,\n",
       " 'MAPE': 5.226,\n",
       " 'R2': 0.768}"
      ]
     },
     "execution_count": 31,
     "metadata": {},
     "output_type": "execute_result"
    }
   ],
   "source": [
    "reg_lgbm = LGBMRegressor()\n",
    "\n",
    "reg_lgbm.fit(X_train, y_train)\n",
    "\n",
    "pred_lgbm = reg_lgbm.predict(X_test)\n",
    "\n",
    "reg_score(pred_lgbm, y_test)"
   ]
  },
  {
   "cell_type": "markdown",
   "metadata": {},
   "source": [
    "#### 꽃 받침의 넓이 (sepal width (cm))"
   ]
  },
  {
   "cell_type": "code",
   "execution_count": 32,
   "metadata": {},
   "outputs": [
    {
     "name": "stdout",
     "output_type": "stream",
     "text": [
      "X_train: (135, 4)\n",
      "y_train: (135,)\n",
      "X_test: (15, 4)\n",
      "y_test: (15,)\n"
     ]
    }
   ],
   "source": [
    "label = \"sepal width (cm)\"\n",
    "feature_list = df_iris.columns.tolist()\n",
    "feature_list.remove(label)\n",
    "\n",
    "X_train, X_test, y_train, y_test = train_test_split(df_iris[feature_list], df_iris[label], test_size=0.1, shuffle=True)\n",
    "\n",
    "print(f\"X_train: {X_train.shape}\\ny_train: {y_train.shape}\\nX_test: {X_test.shape}\\ny_test: {y_test.shape}\")"
   ]
  },
  {
   "cell_type": "markdown",
   "metadata": {},
   "source": [
    "#### Decision Tree"
   ]
  },
  {
   "cell_type": "code",
   "execution_count": 33,
   "metadata": {},
   "outputs": [
    {
     "data": {
      "text/plain": [
       "{'MSE': 0.123,\n",
       " 'RMSE': 0.351,\n",
       " 'MAE': 0.096,\n",
       " 'NMAE': 0.094,\n",
       " 'MAPE': 9.598,\n",
       " 'R2': 0.407}"
      ]
     },
     "execution_count": 33,
     "metadata": {},
     "output_type": "execute_result"
    }
   ],
   "source": [
    "reg_dt = DecisionTreeRegressor()\n",
    "\n",
    "reg_dt.fit(X_train, y_train)\n",
    "\n",
    "pred_dt = reg_dt.predict(X_test)\n",
    "\n",
    "reg_score(pred_dt, y_test)"
   ]
  },
  {
   "cell_type": "markdown",
   "metadata": {},
   "source": [
    "#### Random Forest"
   ]
  },
  {
   "cell_type": "code",
   "execution_count": 34,
   "metadata": {},
   "outputs": [
    {
     "data": {
      "text/plain": [
       "{'MSE': 0.058,\n",
       " 'RMSE': 0.24,\n",
       " 'MAE': 0.06,\n",
       " 'NMAE': 0.06,\n",
       " 'MAPE': 5.963,\n",
       " 'R2': 0.333}"
      ]
     },
     "execution_count": 34,
     "metadata": {},
     "output_type": "execute_result"
    }
   ],
   "source": [
    "reg_rf = RandomForestRegressor()\n",
    "\n",
    "reg_rf.fit(X_train, y_train)\n",
    "\n",
    "pred_rf = reg_rf.predict(X_test)\n",
    "\n",
    "reg_score(pred_rf, y_test)"
   ]
  },
  {
   "cell_type": "markdown",
   "metadata": {},
   "source": [
    "#### LightGBM"
   ]
  },
  {
   "cell_type": "code",
   "execution_count": 35,
   "metadata": {},
   "outputs": [
    {
     "data": {
      "text/plain": [
       "{'MSE': 0.038,\n",
       " 'RMSE': 0.194,\n",
       " 'MAE': 0.055,\n",
       " 'NMAE': 0.055,\n",
       " 'MAPE': 5.486,\n",
       " 'R2': 0.608}"
      ]
     },
     "execution_count": 35,
     "metadata": {},
     "output_type": "execute_result"
    }
   ],
   "source": [
    "reg_lgbm = LGBMRegressor()\n",
    "\n",
    "reg_lgbm.fit(X_train, y_train)\n",
    "\n",
    "pred_lgbm = reg_lgbm.predict(X_test)\n",
    "\n",
    "reg_score(pred_lgbm, y_test)"
   ]
  }
 ],
 "metadata": {
  "kernelspec": {
   "display_name": "Python 3.9.12 ('base')",
   "language": "python",
   "name": "python3"
  },
  "language_info": {
   "codemirror_mode": {
    "name": "ipython",
    "version": 3
   },
   "file_extension": ".py",
   "mimetype": "text/x-python",
   "name": "python",
   "nbconvert_exporter": "python",
   "pygments_lexer": "ipython3",
   "version": "3.9.12"
  },
  "orig_nbformat": 4,
  "vscode": {
   "interpreter": {
    "hash": "2adf3ccca9222a21ddf813ce3f7330ff220318730c13c08bb78e423c67466e5c"
   }
  }
 },
 "nbformat": 4,
 "nbformat_minor": 2
}
