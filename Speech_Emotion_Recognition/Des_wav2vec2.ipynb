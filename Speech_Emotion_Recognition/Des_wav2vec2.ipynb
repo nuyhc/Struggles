{
 "cells": [
  {
   "cell_type": "code",
   "execution_count": 2,
   "metadata": {},
   "outputs": [],
   "source": [
    "import os\n",
    "import librosa\n",
    "import librosa.display as dsp\n",
    "from IPython.display import Audio\n",
    "import pandas as pd\n",
    "import numpy as np\n",
    "import matplotlib.pyplot as plt\n",
    "import seaborn as sns\n",
    "import warnings\n",
    "warnings.filterwarnings(\"ignore\")\n",
    "\n",
    "ROOT = r\"E:월간 데이콘 음성 감정 인식\""
   ]
  },
  {
   "cell_type": "code",
   "execution_count": 3,
   "metadata": {},
   "outputs": [
    {
     "name": "stdout",
     "output_type": "stream",
     "text": [
      "(5001, 3)\n"
     ]
    },
    {
     "data": {
      "text/html": [
       "<div>\n",
       "<style scoped>\n",
       "    .dataframe tbody tr th:only-of-type {\n",
       "        vertical-align: middle;\n",
       "    }\n",
       "\n",
       "    .dataframe tbody tr th {\n",
       "        vertical-align: top;\n",
       "    }\n",
       "\n",
       "    .dataframe thead th {\n",
       "        text-align: right;\n",
       "    }\n",
       "</style>\n",
       "<table border=\"1\" class=\"dataframe\">\n",
       "  <thead>\n",
       "    <tr style=\"text-align: right;\">\n",
       "      <th></th>\n",
       "      <th>id</th>\n",
       "      <th>path</th>\n",
       "      <th>label</th>\n",
       "    </tr>\n",
       "  </thead>\n",
       "  <tbody>\n",
       "    <tr>\n",
       "      <th>0</th>\n",
       "      <td>TRAIN_0000</td>\n",
       "      <td>E:월간 데이콘 음성 감정 인식\\train\\TRAIN_0000.wav</td>\n",
       "      <td>1</td>\n",
       "    </tr>\n",
       "    <tr>\n",
       "      <th>1</th>\n",
       "      <td>TRAIN_0001</td>\n",
       "      <td>E:월간 데이콘 음성 감정 인식\\train\\TRAIN_0001.wav</td>\n",
       "      <td>2</td>\n",
       "    </tr>\n",
       "    <tr>\n",
       "      <th>2</th>\n",
       "      <td>TRAIN_0002</td>\n",
       "      <td>E:월간 데이콘 음성 감정 인식\\train\\TRAIN_0002.wav</td>\n",
       "      <td>4</td>\n",
       "    </tr>\n",
       "    <tr>\n",
       "      <th>3</th>\n",
       "      <td>TRAIN_0003</td>\n",
       "      <td>E:월간 데이콘 음성 감정 인식\\train\\TRAIN_0003.wav</td>\n",
       "      <td>5</td>\n",
       "    </tr>\n",
       "    <tr>\n",
       "      <th>4</th>\n",
       "      <td>TRAIN_0004</td>\n",
       "      <td>E:월간 데이콘 음성 감정 인식\\train\\TRAIN_0004.wav</td>\n",
       "      <td>4</td>\n",
       "    </tr>\n",
       "  </tbody>\n",
       "</table>\n",
       "</div>"
      ],
      "text/plain": [
       "           id                                    path  label\n",
       "0  TRAIN_0000  E:월간 데이콘 음성 감정 인식\\train\\TRAIN_0000.wav      1\n",
       "1  TRAIN_0001  E:월간 데이콘 음성 감정 인식\\train\\TRAIN_0001.wav      2\n",
       "2  TRAIN_0002  E:월간 데이콘 음성 감정 인식\\train\\TRAIN_0002.wav      4\n",
       "3  TRAIN_0003  E:월간 데이콘 음성 감정 인식\\train\\TRAIN_0003.wav      5\n",
       "4  TRAIN_0004  E:월간 데이콘 음성 감정 인식\\train\\TRAIN_0004.wav      4"
      ]
     },
     "execution_count": 3,
     "metadata": {},
     "output_type": "execute_result"
    }
   ],
   "source": [
    "train_df = pd.read_csv(os.path.join(ROOT, \"train.csv\"))\n",
    "train_df[\"path\"] = train_df[\"path\"].apply(lambda x: os.path.join(ROOT, x[2:].replace(\"/\", \"\\\\\")))\n",
    "print(train_df.shape)\n",
    "train_df.head()"
   ]
  },
  {
   "cell_type": "code",
   "execution_count": 11,
   "metadata": {},
   "outputs": [],
   "source": [
    "import random\n",
    "import torch\n",
    "import torch.nn as nn\n",
    "from tqdm.auto import tqdm\n",
    "from torch.nn.utils.rnn import pad_sequence\n",
    "from torch.utils.data import DataLoader\n",
    "from transformers import AutoModelForAudioClassification, Wav2Vec2FeatureExtractor\n",
    "\n",
    "from sklearn.model_selection import train_test_split"
   ]
  },
  {
   "cell_type": "code",
   "execution_count": 5,
   "metadata": {},
   "outputs": [
    {
     "data": {
      "text/plain": [
       "device(type='cuda')"
      ]
     },
     "execution_count": 5,
     "metadata": {},
     "output_type": "execute_result"
    }
   ],
   "source": [
    "device = torch.device(\"cuda\") if torch.cuda.is_available() else torch.device(\"cpu\")\n",
    "device"
   ]
  },
  {
   "cell_type": "code",
   "execution_count": 9,
   "metadata": {},
   "outputs": [],
   "source": [
    "CFG = {\n",
    "    'SR':16_000,\n",
    "    'SEED':42,\n",
    "    'BATCH_SIZE':8, \n",
    "    'TOTAL_BATCH_SIZE':32, \n",
    "    'EPOCHS':1,\n",
    "    'LR':1e-4,\n",
    "}\n",
    "MODEL_NAME = \"facebook/wav2vec2-base\"\n",
    "\n",
    "def seed_everything(seed):\n",
    "    random.seed(seed)\n",
    "    os.environ['PYTHONHASHSEED'] = str(seed)\n",
    "    np.random.seed(seed)\n",
    "    torch.manual_seed(seed)\n",
    "    torch.cuda.manual_seed(seed)\n",
    "    torch.backends.cudnn.deterministic = True\n",
    "    torch.backends.cudnn.benchmark = True\n",
    "\n",
    "seed_everything(CFG['SEED']) # Seed 고정"
   ]
  },
  {
   "attachments": {},
   "cell_type": "markdown",
   "metadata": {},
   "source": [
    "## Data Pre-Processing"
   ]
  },
  {
   "cell_type": "code",
   "execution_count": 10,
   "metadata": {},
   "outputs": [
    {
     "data": {
      "text/html": [
       "<div>\n",
       "<style scoped>\n",
       "    .dataframe tbody tr th:only-of-type {\n",
       "        vertical-align: middle;\n",
       "    }\n",
       "\n",
       "    .dataframe tbody tr th {\n",
       "        vertical-align: top;\n",
       "    }\n",
       "\n",
       "    .dataframe thead th {\n",
       "        text-align: right;\n",
       "    }\n",
       "</style>\n",
       "<table border=\"1\" class=\"dataframe\">\n",
       "  <thead>\n",
       "    <tr style=\"text-align: right;\">\n",
       "      <th></th>\n",
       "      <th>id</th>\n",
       "      <th>path</th>\n",
       "      <th>label</th>\n",
       "    </tr>\n",
       "  </thead>\n",
       "  <tbody>\n",
       "    <tr>\n",
       "      <th>0</th>\n",
       "      <td>TRAIN_0000</td>\n",
       "      <td>E:월간 데이콘 음성 감정 인식\\train\\TRAIN_0000.wav</td>\n",
       "      <td>1</td>\n",
       "    </tr>\n",
       "    <tr>\n",
       "      <th>1</th>\n",
       "      <td>TRAIN_0001</td>\n",
       "      <td>E:월간 데이콘 음성 감정 인식\\train\\TRAIN_0001.wav</td>\n",
       "      <td>2</td>\n",
       "    </tr>\n",
       "    <tr>\n",
       "      <th>2</th>\n",
       "      <td>TRAIN_0002</td>\n",
       "      <td>E:월간 데이콘 음성 감정 인식\\train\\TRAIN_0002.wav</td>\n",
       "      <td>4</td>\n",
       "    </tr>\n",
       "    <tr>\n",
       "      <th>3</th>\n",
       "      <td>TRAIN_0003</td>\n",
       "      <td>E:월간 데이콘 음성 감정 인식\\train\\TRAIN_0003.wav</td>\n",
       "      <td>5</td>\n",
       "    </tr>\n",
       "    <tr>\n",
       "      <th>4</th>\n",
       "      <td>TRAIN_0004</td>\n",
       "      <td>E:월간 데이콘 음성 감정 인식\\train\\TRAIN_0004.wav</td>\n",
       "      <td>4</td>\n",
       "    </tr>\n",
       "    <tr>\n",
       "      <th>...</th>\n",
       "      <td>...</td>\n",
       "      <td>...</td>\n",
       "      <td>...</td>\n",
       "    </tr>\n",
       "    <tr>\n",
       "      <th>4996</th>\n",
       "      <td>TRAIN_4996</td>\n",
       "      <td>E:월간 데이콘 음성 감정 인식\\train\\TRAIN_4996.wav</td>\n",
       "      <td>5</td>\n",
       "    </tr>\n",
       "    <tr>\n",
       "      <th>4997</th>\n",
       "      <td>TRAIN_4997</td>\n",
       "      <td>E:월간 데이콘 음성 감정 인식\\train\\TRAIN_4997.wav</td>\n",
       "      <td>0</td>\n",
       "    </tr>\n",
       "    <tr>\n",
       "      <th>4998</th>\n",
       "      <td>TRAIN_4998</td>\n",
       "      <td>E:월간 데이콘 음성 감정 인식\\train\\TRAIN_4998.wav</td>\n",
       "      <td>1</td>\n",
       "    </tr>\n",
       "    <tr>\n",
       "      <th>4999</th>\n",
       "      <td>TRAIN_4999</td>\n",
       "      <td>E:월간 데이콘 음성 감정 인식\\train\\TRAIN_4999.wav</td>\n",
       "      <td>1</td>\n",
       "    </tr>\n",
       "    <tr>\n",
       "      <th>5000</th>\n",
       "      <td>TRAIN_5000</td>\n",
       "      <td>E:월간 데이콘 음성 감정 인식\\train\\TRAIN_5000.wav</td>\n",
       "      <td>4</td>\n",
       "    </tr>\n",
       "  </tbody>\n",
       "</table>\n",
       "<p>5001 rows × 3 columns</p>\n",
       "</div>"
      ],
      "text/plain": [
       "              id                                    path  label\n",
       "0     TRAIN_0000  E:월간 데이콘 음성 감정 인식\\train\\TRAIN_0000.wav      1\n",
       "1     TRAIN_0001  E:월간 데이콘 음성 감정 인식\\train\\TRAIN_0001.wav      2\n",
       "2     TRAIN_0002  E:월간 데이콘 음성 감정 인식\\train\\TRAIN_0002.wav      4\n",
       "3     TRAIN_0003  E:월간 데이콘 음성 감정 인식\\train\\TRAIN_0003.wav      5\n",
       "4     TRAIN_0004  E:월간 데이콘 음성 감정 인식\\train\\TRAIN_0004.wav      4\n",
       "...          ...                                     ...    ...\n",
       "4996  TRAIN_4996  E:월간 데이콘 음성 감정 인식\\train\\TRAIN_4996.wav      5\n",
       "4997  TRAIN_4997  E:월간 데이콘 음성 감정 인식\\train\\TRAIN_4997.wav      0\n",
       "4998  TRAIN_4998  E:월간 데이콘 음성 감정 인식\\train\\TRAIN_4998.wav      1\n",
       "4999  TRAIN_4999  E:월간 데이콘 음성 감정 인식\\train\\TRAIN_4999.wav      1\n",
       "5000  TRAIN_5000  E:월간 데이콘 음성 감정 인식\\train\\TRAIN_5000.wav      4\n",
       "\n",
       "[5001 rows x 3 columns]"
      ]
     },
     "execution_count": 10,
     "metadata": {},
     "output_type": "execute_result"
    }
   ],
   "source": [
    "train_df, valid_df = train_test_split"
   ]
  }
 ],
 "metadata": {
  "kernelspec": {
   "display_name": "torch",
   "language": "python",
   "name": "python3"
  },
  "language_info": {
   "codemirror_mode": {
    "name": "ipython",
    "version": 3
   },
   "file_extension": ".py",
   "mimetype": "text/x-python",
   "name": "python",
   "nbconvert_exporter": "python",
   "pygments_lexer": "ipython3",
   "version": "3.9.16"
  },
  "orig_nbformat": 4
 },
 "nbformat": 4,
 "nbformat_minor": 2
}
