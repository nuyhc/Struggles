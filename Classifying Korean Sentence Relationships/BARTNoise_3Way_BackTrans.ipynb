{
 "cells": [
  {
   "cell_type": "markdown",
   "metadata": {},
   "source": [
    "# DACON 월간 데이콘 한국어 문장 관계 분류 경진대회\n",
    "[월간 데이콘 한국어 문장 관계 분류 경진대회](https://dacon.io/competitions/official/235875/overview/description)  \n",
    "[참고 노트북 | Private 3등 | 0.89915 | 0. 데이터증강 - Bart Noising](https://dacon.io/competitions/official/235875/codeshare/4625)  \n",
    "[참고 노트북 | Private 3등 | 0.89915 | 1. Bart Noise 3-way+BackTrans](https://dacon.io/competitions/official/235875/codeshare/4629?page=1&dtype=recent)  \n",
    "\n",
    "\n",
    "- KLUE Official Dev Data를 그대로 학습에 사용하지 않고, Validation Data에 추가하여 학습을 수행\n",
    "- 구체적으로는 Noising Augmentation이 가해진 데이터 4종류를 Train에 추가하고, 본래의 형태인 KLUE Official Dev Data를 Validation에 추가\n",
    "- Noising에 Robust한 모델을 구축\n",
    "- 5-Fold Soft Ensemble 을 사용"
   ]
  },
  {
   "cell_type": "markdown",
   "metadata": {},
   "source": [
    "### 데이터증강 - Bart Noising"
   ]
  },
  {
   "cell_type": "code",
   "execution_count": 1,
   "metadata": {},
   "outputs": [],
   "source": [
    "import pandas as pd\n",
    "import numpy as np\n",
    "import random\n",
    "import pickle as pickle\n",
    "import os\n",
    "import math\n",
    "from sklearn.ensemble import RandomForestRegressor\n",
    "from sklearn.metrics import accuracy_score\n",
    "from sklearn.model_selection import StratifiedKFold\n",
    "from tqdm import tqdm, tqdm_notebook\n",
    "tqdm.pandas()"
   ]
  },
  {
   "cell_type": "code",
   "execution_count": 2,
   "metadata": {},
   "outputs": [],
   "source": [
    "import matplotlib.pyplot as plt\n",
    "import seaborn as sns\n",
    "from pprint import pprint\n",
    "import warnings\n",
    "warnings.filterwarnings(\"ignore\")\n",
    "from collections import defaultdict, Counter\n",
    "from itertools import chain\n",
    "from transformers import AutoTokenizer, AutoModelForMaskedLM, AutoModelForSequenceClassification, AutoConfig\n",
    "from transformers import BertConfig, BertForSequenceClassification, Trainer, TrainingArguments, BertModel, ElectraModel, RobertaModel\n",
    "from importlib import import_module\n",
    "import torch\n",
    "import torch.nn as nn\n",
    "from torch.utils.data import Dataset, DataLoader\n",
    "import torch.nn.functional as F"
   ]
  },
  {
   "cell_type": "code",
   "execution_count": 3,
   "metadata": {},
   "outputs": [
    {
     "name": "stdout",
     "output_type": "stream",
     "text": [
      "Seed set as 42\n"
     ]
    }
   ],
   "source": [
    "def seed_everything(seed: int=42, contain_cuda: bool=False):\n",
    "    random.seed(seed)\n",
    "    np.random.seed(seed)\n",
    "    torch.backends.cudnn.deterministic = True\n",
    "    torch.backends.cudnn.benchmark = False\n",
    "    torch.manual_seed(seed)\n",
    "    torch.cuda.manual_seed(seed)\n",
    "    torch.cuda.manual_seed_all(seed)\n",
    "    print(f\"Seed set as {seed}\")\n",
    "    \n",
    "seed = 42\n",
    "seed_everything(seed)\n",
    "plt.rcParams['font.family']=['NanumGothic', 'sans-serif']\n",
    "plt.rcParams['axes.unicode_minus'] = False"
   ]
  }
 ],
 "metadata": {
  "kernelspec": {
   "display_name": "Python 3.8.13 ('dgdg')",
   "language": "python",
   "name": "python3"
  },
  "language_info": {
   "codemirror_mode": {
    "name": "ipython",
    "version": 3
   },
   "file_extension": ".py",
   "mimetype": "text/x-python",
   "name": "python",
   "nbconvert_exporter": "python",
   "pygments_lexer": "ipython3",
   "version": "3.8.13"
  },
  "orig_nbformat": 4,
  "vscode": {
   "interpreter": {
    "hash": "2076adaa342e4728b5f632fbf189c39b5d1811ef76d2fb06a694f637be620194"
   }
  }
 },
 "nbformat": 4,
 "nbformat_minor": 2
}
