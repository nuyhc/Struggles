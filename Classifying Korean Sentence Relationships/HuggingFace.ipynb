{
  "cells": [
    {
      "cell_type": "markdown",
      "metadata": {
        "id": "vKOZtjI-Z0yg"
      },
      "source": [
        "# DACON 월간 데이콘 한국어 문장 관계 분류 경진대회\n",
        "[월간 데이콘 한국어 문장 관계 분류 경진대회](https://dacon.io/competitions/official/235875/overview/description)  \n",
        "[참고 노트북 | Hugging Face를 활용한 Modeling(public: 0.841)](https://dacon.io/competitions/official/235875/codeshare/4520?page=1&dtype=recent)"
      ]
    },
    {
      "cell_type": "markdown",
      "metadata": {
        "id": "wakv20FrZ0yj"
      },
      "source": [
        "### EDA\n",
        "데이터셋의 구조와 문장 분포 확인"
      ]
    },
    {
      "cell_type": "code",
      "execution_count": 1,
      "metadata": {
        "id": "jflBR0pbZ0yj"
      },
      "outputs": [],
      "source": [
        "import os\n",
        "import  pandas as pd\n",
        "import numpy as np\n",
        "import matplotlib.pyplot as plt\n",
        "import seaborn as sns\n",
        "# import koreanize_matplotlib"
      ]
    },
    {
      "cell_type": "code",
      "execution_count": 2,
      "metadata": {
        "colab": {
          "base_uri": "https://localhost:8080/"
        },
        "id": "T1umLnGXZ6aP",
        "outputId": "1ff925a6-a9e2-4976-af95-9521cb3193d1"
      },
      "outputs": [
        {
          "name": "stdout",
          "output_type": "stream",
          "text": [
            "Drive already mounted at /content/drive; to attempt to forcibly remount, call drive.mount(\"/content/drive\", force_remount=True).\n"
          ]
        }
      ],
      "source": [
        "from google.colab import drive\n",
        "drive.mount('/content/drive')"
      ]
    },
    {
      "cell_type": "markdown",
      "metadata": {
        "id": "grXjpfP8Z0yk"
      },
      "source": [
        "#### Data Load"
      ]
    },
    {
      "cell_type": "code",
      "execution_count": 3,
      "metadata": {
        "colab": {
          "base_uri": "https://localhost:8080/"
        },
        "id": "Ddspm-bsZ0yl",
        "outputId": "cf512e64-f6bd-48f8-f62d-720338a36dcb"
      },
      "outputs": [
        {
          "data": {
            "text/plain": [
              "((24998, 4), (1666, 4))"
            ]
          },
          "execution_count": 3,
          "metadata": {},
          "output_type": "execute_result"
        }
      ],
      "source": [
        "# PATH = \"./dataset/\"\n",
        "PATH = \"/content/drive/MyDrive/Classifying Korean Sentence Relationships/dataset\"\n",
        "\n",
        "train = pd.read_csv(os.path.join(PATH, \"train_data.csv\"), encoding=\"utf8\")\n",
        "test =  pd.read_csv(os.path.join(PATH, \"test_data.csv\"),  encoding=\"utf8\")\n",
        "\n",
        "train.shape, test.shape"
      ]
    },
    {
      "cell_type": "code",
      "execution_count": 4,
      "metadata": {
        "colab": {
          "base_uri": "https://localhost:8080/",
          "height": 206
        },
        "id": "wP7gS1FoZ0ym",
        "outputId": "d4cd2c9b-a7de-441e-86f4-623ed53d51ca"
      },
      "outputs": [
        {
          "data": {
            "text/html": [
              "\n",
              "  <div id=\"df-0ac69199-d446-4866-8083-14fb3f445289\">\n",
              "    <div class=\"colab-df-container\">\n",
              "      <div>\n",
              "<style scoped>\n",
              "    .dataframe tbody tr th:only-of-type {\n",
              "        vertical-align: middle;\n",
              "    }\n",
              "\n",
              "    .dataframe tbody tr th {\n",
              "        vertical-align: top;\n",
              "    }\n",
              "\n",
              "    .dataframe thead th {\n",
              "        text-align: right;\n",
              "    }\n",
              "</style>\n",
              "<table border=\"1\" class=\"dataframe\">\n",
              "  <thead>\n",
              "    <tr style=\"text-align: right;\">\n",
              "      <th></th>\n",
              "      <th>index</th>\n",
              "      <th>premise</th>\n",
              "      <th>hypothesis</th>\n",
              "      <th>label</th>\n",
              "    </tr>\n",
              "  </thead>\n",
              "  <tbody>\n",
              "    <tr>\n",
              "      <th>0</th>\n",
              "      <td>0</td>\n",
              "      <td>씨름은 상고시대로부터 전해져 내려오는 남자들의 대표적인 놀이로서, 소년이나 장정들이...</td>\n",
              "      <td>씨름의 여자들의 놀이이다.</td>\n",
              "      <td>contradiction</td>\n",
              "    </tr>\n",
              "    <tr>\n",
              "      <th>1</th>\n",
              "      <td>1</td>\n",
              "      <td>삼성은 자작극을 벌인 2명에게 형사 고소 등의 법적 대응을 검토 중이라고 하였으나,...</td>\n",
              "      <td>자작극을 벌인 이는 3명이다.</td>\n",
              "      <td>contradiction</td>\n",
              "    </tr>\n",
              "    <tr>\n",
              "      <th>2</th>\n",
              "      <td>2</td>\n",
              "      <td>이를 위해 예측적 범죄예방 시스템을 구축하고 고도화한다.</td>\n",
              "      <td>예측적 범죄예방 시스템 구축하고 고도화하는 것은 목적이 있기 때문이다.</td>\n",
              "      <td>entailment</td>\n",
              "    </tr>\n",
              "    <tr>\n",
              "      <th>3</th>\n",
              "      <td>3</td>\n",
              "      <td>광주광역시가 재개발 정비사업 원주민들에 대한 종합대책을 마련하는 등 원주민 보호에 ...</td>\n",
              "      <td>원주민들은 종합대책에 만족했다.</td>\n",
              "      <td>neutral</td>\n",
              "    </tr>\n",
              "    <tr>\n",
              "      <th>4</th>\n",
              "      <td>4</td>\n",
              "      <td>진정 소비자와 직원들에게 사랑 받는 기업으로 오래 지속되고 싶으면, 이런 상황에서는...</td>\n",
              "      <td>이런 상황에서 책임 있는 모습을 보여주는 기업은 아주 드물다.</td>\n",
              "      <td>neutral</td>\n",
              "    </tr>\n",
              "  </tbody>\n",
              "</table>\n",
              "</div>\n",
              "      <button class=\"colab-df-convert\" onclick=\"convertToInteractive('df-0ac69199-d446-4866-8083-14fb3f445289')\"\n",
              "              title=\"Convert this dataframe to an interactive table.\"\n",
              "              style=\"display:none;\">\n",
              "        \n",
              "  <svg xmlns=\"http://www.w3.org/2000/svg\" height=\"24px\"viewBox=\"0 0 24 24\"\n",
              "       width=\"24px\">\n",
              "    <path d=\"M0 0h24v24H0V0z\" fill=\"none\"/>\n",
              "    <path d=\"M18.56 5.44l.94 2.06.94-2.06 2.06-.94-2.06-.94-.94-2.06-.94 2.06-2.06.94zm-11 1L8.5 8.5l.94-2.06 2.06-.94-2.06-.94L8.5 2.5l-.94 2.06-2.06.94zm10 10l.94 2.06.94-2.06 2.06-.94-2.06-.94-.94-2.06-.94 2.06-2.06.94z\"/><path d=\"M17.41 7.96l-1.37-1.37c-.4-.4-.92-.59-1.43-.59-.52 0-1.04.2-1.43.59L10.3 9.45l-7.72 7.72c-.78.78-.78 2.05 0 2.83L4 21.41c.39.39.9.59 1.41.59.51 0 1.02-.2 1.41-.59l7.78-7.78 2.81-2.81c.8-.78.8-2.07 0-2.86zM5.41 20L4 18.59l7.72-7.72 1.47 1.35L5.41 20z\"/>\n",
              "  </svg>\n",
              "      </button>\n",
              "      \n",
              "  <style>\n",
              "    .colab-df-container {\n",
              "      display:flex;\n",
              "      flex-wrap:wrap;\n",
              "      gap: 12px;\n",
              "    }\n",
              "\n",
              "    .colab-df-convert {\n",
              "      background-color: #E8F0FE;\n",
              "      border: none;\n",
              "      border-radius: 50%;\n",
              "      cursor: pointer;\n",
              "      display: none;\n",
              "      fill: #1967D2;\n",
              "      height: 32px;\n",
              "      padding: 0 0 0 0;\n",
              "      width: 32px;\n",
              "    }\n",
              "\n",
              "    .colab-df-convert:hover {\n",
              "      background-color: #E2EBFA;\n",
              "      box-shadow: 0px 1px 2px rgba(60, 64, 67, 0.3), 0px 1px 3px 1px rgba(60, 64, 67, 0.15);\n",
              "      fill: #174EA6;\n",
              "    }\n",
              "\n",
              "    [theme=dark] .colab-df-convert {\n",
              "      background-color: #3B4455;\n",
              "      fill: #D2E3FC;\n",
              "    }\n",
              "\n",
              "    [theme=dark] .colab-df-convert:hover {\n",
              "      background-color: #434B5C;\n",
              "      box-shadow: 0px 1px 3px 1px rgba(0, 0, 0, 0.15);\n",
              "      filter: drop-shadow(0px 1px 2px rgba(0, 0, 0, 0.3));\n",
              "      fill: #FFFFFF;\n",
              "    }\n",
              "  </style>\n",
              "\n",
              "      <script>\n",
              "        const buttonEl =\n",
              "          document.querySelector('#df-0ac69199-d446-4866-8083-14fb3f445289 button.colab-df-convert');\n",
              "        buttonEl.style.display =\n",
              "          google.colab.kernel.accessAllowed ? 'block' : 'none';\n",
              "\n",
              "        async function convertToInteractive(key) {\n",
              "          const element = document.querySelector('#df-0ac69199-d446-4866-8083-14fb3f445289');\n",
              "          const dataTable =\n",
              "            await google.colab.kernel.invokeFunction('convertToInteractive',\n",
              "                                                     [key], {});\n",
              "          if (!dataTable) return;\n",
              "\n",
              "          const docLinkHtml = 'Like what you see? Visit the ' +\n",
              "            '<a target=\"_blank\" href=https://colab.research.google.com/notebooks/data_table.ipynb>data table notebook</a>'\n",
              "            + ' to learn more about interactive tables.';\n",
              "          element.innerHTML = '';\n",
              "          dataTable['output_type'] = 'display_data';\n",
              "          await google.colab.output.renderOutput(dataTable, element);\n",
              "          const docLink = document.createElement('div');\n",
              "          docLink.innerHTML = docLinkHtml;\n",
              "          element.appendChild(docLink);\n",
              "        }\n",
              "      </script>\n",
              "    </div>\n",
              "  </div>\n",
              "  "
            ],
            "text/plain": [
              "   index                                            premise  \\\n",
              "0      0  씨름은 상고시대로부터 전해져 내려오는 남자들의 대표적인 놀이로서, 소년이나 장정들이...   \n",
              "1      1  삼성은 자작극을 벌인 2명에게 형사 고소 등의 법적 대응을 검토 중이라고 하였으나,...   \n",
              "2      2                    이를 위해 예측적 범죄예방 시스템을 구축하고 고도화한다.   \n",
              "3      3  광주광역시가 재개발 정비사업 원주민들에 대한 종합대책을 마련하는 등 원주민 보호에 ...   \n",
              "4      4  진정 소비자와 직원들에게 사랑 받는 기업으로 오래 지속되고 싶으면, 이런 상황에서는...   \n",
              "\n",
              "                                hypothesis          label  \n",
              "0                           씨름의 여자들의 놀이이다.  contradiction  \n",
              "1                         자작극을 벌인 이는 3명이다.  contradiction  \n",
              "2  예측적 범죄예방 시스템 구축하고 고도화하는 것은 목적이 있기 때문이다.     entailment  \n",
              "3                        원주민들은 종합대책에 만족했다.        neutral  \n",
              "4       이런 상황에서 책임 있는 모습을 보여주는 기업은 아주 드물다.        neutral  "
            ]
          },
          "execution_count": 4,
          "metadata": {},
          "output_type": "execute_result"
        }
      ],
      "source": [
        "train.head()"
      ]
    },
    {
      "cell_type": "markdown",
      "metadata": {
        "id": "_814eBgRZ0ym"
      },
      "source": [
        "#### 분포 확인"
      ]
    },
    {
      "cell_type": "code",
      "execution_count": 5,
      "metadata": {
        "colab": {
          "base_uri": "https://localhost:8080/"
        },
        "id": "S1wbgiO2Z0yn",
        "outputId": "d40ff7b0-68de-4927-d2d5-9afb0207e595"
      },
      "outputs": [
        {
          "name": "stdout",
          "output_type": "stream",
          "text": [
            "<class 'pandas.core.frame.DataFrame'>\n",
            "RangeIndex: 24998 entries, 0 to 24997\n",
            "Data columns (total 4 columns):\n",
            " #   Column      Non-Null Count  Dtype \n",
            "---  ------      --------------  ----- \n",
            " 0   index       24998 non-null  int64 \n",
            " 1   premise     24998 non-null  object\n",
            " 2   hypothesis  24998 non-null  object\n",
            " 3   label       24998 non-null  object\n",
            "dtypes: int64(1), object(3)\n",
            "memory usage: 781.3+ KB\n",
            "None\n",
            "\n",
            "<class 'pandas.core.frame.DataFrame'>\n",
            "RangeIndex: 1666 entries, 0 to 1665\n",
            "Data columns (total 4 columns):\n",
            " #   Column      Non-Null Count  Dtype \n",
            "---  ------      --------------  ----- \n",
            " 0   index       1666 non-null   int64 \n",
            " 1   premise     1666 non-null   object\n",
            " 2   hypothesis  1666 non-null   object\n",
            " 3   label       1666 non-null   object\n",
            "dtypes: int64(1), object(3)\n",
            "memory usage: 52.2+ KB\n",
            "None\n"
          ]
        }
      ],
      "source": [
        "print(train.info(), end=\"\\n\\n\")\n",
        "print(test.info())"
      ]
    },
    {
      "cell_type": "code",
      "execution_count": 6,
      "metadata": {
        "colab": {
          "base_uri": "https://localhost:8080/",
          "height": 264
        },
        "id": "QAWa_FSQZ0yo",
        "outputId": "96f94e0b-e1a9-4168-a664-29c2098b8cef"
      },
      "outputs": [
        {
          "data": {
            "image/png": "[encoded data removed]",
            "text/plain": [
              "<Figure size 432x288 with 1 Axes>"
            ]
          },
          "metadata": {},
          "output_type": "display_data"
        }
      ],
      "source": [
        "plt.figure(facecolor=\"white\")\n",
        "plt.title(\"Train Labels Distribution\")\n",
        "plt.pie(train[\"label\"].value_counts().values, labels=train[\"label\"].value_counts().index, autopct=\"%.2f%%\");"
      ]
    },
    {
      "cell_type": "code",
      "execution_count": 7,
      "metadata": {
        "colab": {
          "base_uri": "https://localhost:8080/",
          "height": 295
        },
        "id": "52xgaXPTZ0yo",
        "outputId": "7dd8d8bc-1992-40bc-cd22-47d4b25745b1"
      },
      "outputs": [
        {
          "data": {
            "image/png": "[encoded data removed]",
            "text/plain": [
              "<Figure size 432x288 with 1 Axes>"
            ]
          },
          "metadata": {
            "needs_background": "light"
          },
          "output_type": "display_data"
        }
      ],
      "source": [
        "sns.countplot(x=train[\"label\"]).set_title(\"Train Labels Distribution - Count Plot\");"
      ]
    },
    {
      "cell_type": "markdown",
      "metadata": {
        "id": "wXoXAaPVZ0yp"
      },
      "source": [
        "#### 결측치 확인"
      ]
    },
    {
      "cell_type": "code",
      "execution_count": 8,
      "metadata": {
        "colab": {
          "base_uri": "https://localhost:8080/",
          "height": 325
        },
        "id": "B0D6iDqoZ0yp",
        "outputId": "c4f97dc2-082d-47bf-a5eb-c163233f56f4"
      },
      "outputs": [
        {
          "data": {
            "image/png": "[encoded data removed]",
            "text/plain": [
              "<Figure size 864x360 with 4 Axes>"
            ]
          },
          "metadata": {
            "needs_background": "light"
          },
          "output_type": "display_data"
        }
      ],
      "source": [
        "fig, ax = plt.subplots(1, 2, figsize=(12,  5))\n",
        "sns.heatmap(train.isna(), ax=ax[0])\n",
        "sns.heatmap(test.isna(), ax=ax[1])\n",
        "plt.show()"
      ]
    },
    {
      "cell_type": "markdown",
      "metadata": {
        "id": "Dht5kb7RZ0yp"
      },
      "source": [
        "#### 전제, 가설 길이 확인\n",
        "`train`에 존재하는 전제(Premise)와 가설(Hypothesus)의 길이를 확인하고 이를 통해 `Tokenizer`의  `max_length`  설정이 가능"
      ]
    },
    {
      "cell_type": "code",
      "execution_count": 9,
      "metadata": {
        "colab": {
          "base_uri": "https://localhost:8080/"
        },
        "id": "MoezUssdZ0yp",
        "outputId": "b9409b7a-582b-4444-d0e4-73822a8e2a62"
      },
      "outputs": [
        {
          "name": "stdout",
          "output_type": "stream",
          "text": [
            "Premise -\n",
            "Max Len: 90\n",
            "Mean Len: 45.406552524201935\n",
            "Min Len: 19\n",
            "\n",
            "Hypothesis -\n",
            "Max Len: 103\n",
            "Mean Len: 24.924433954716378\n",
            "Min Len: 5\n"
          ]
        }
      ],
      "source": [
        "max_len = np.max(train[\"premise\"].str.len())\n",
        "min_len = np.min(train[\"premise\"].str.len())\n",
        "mean_len = np.mean(train[\"premise\"].str.len())\n",
        "print(f\"Premise -\\nMax Len: {max_len}\\nMean Len: {mean_len}\\nMin Len: {min_len}\")\n",
        "\n",
        "max_len = np.max(train[\"hypothesis\"].str.len())\n",
        "min_len = np.min(train[\"hypothesis\"].str.len())\n",
        "mean_len = np.mean(train[\"hypothesis\"].str.len())\n",
        "print()\n",
        "print(f\"Hypothesis -\\nMax Len: {max_len}\\nMean Len: {mean_len}\\nMin Len: {min_len}\")"
      ]
    },
    {
      "cell_type": "code",
      "execution_count": 10,
      "metadata": {
        "colab": {
          "base_uri": "https://localhost:8080/",
          "height": 444
        },
        "id": "EIuYUeQfZ0yq",
        "outputId": "3f660c88-f1ab-4a85-844e-8687b8efa733"
      },
      "outputs": [
        {
          "data": {
            "image/png": "[encoded data removed]",
            "text/plain": [
              "<Figure size 720x504 with 1 Axes>"
            ]
          },
          "metadata": {
            "needs_background": "light"
          },
          "output_type": "display_data"
        }
      ],
      "source": [
        "from collections import Counter\n",
        "\n",
        "plt.figure(figsize=(10, 7))\n",
        "plt.title(\"Premise Length\")\n",
        "plt.hist(train[\"premise\"].str.len());"
      ]
    },
    {
      "cell_type": "markdown",
      "metadata": {
        "id": "onqEEnHFZ0yq"
      },
      "source": [
        "#### Test Preporcessing\n",
        "전제, 가설에 존재하는 한글 단어가 아닌 다른 단어들은 전부 제거"
      ]
    },
    {
      "cell_type": "code",
      "execution_count": 11,
      "metadata": {
        "id": "o-vD72-mZ0yq"
      },
      "outputs": [],
      "source": [
        "train[\"premise\"] = train[\"premise\"].str.replace(\"[^ㄱ-ㅎ ㅏ-ㅣ 가-힣 0-9]\",\"\", regex=True)\n",
        "test[\"premise\"] = test[\"premise\"].str.replace(\"[^ㄱ-ㅎ ㅏ-ㅣ 가-힣 0-9]\",\"\", regex=True)"
      ]
    },
    {
      "cell_type": "code",
      "execution_count": 12,
      "metadata": {
        "id": "en9qGIrOZ0yr"
      },
      "outputs": [],
      "source": [
        "train[\"hypothesis\"] = train[\"hypothesis\"].str.replace(\"[^ㄱ-ㅎ ㅏ-ㅣ 가-힣 0-9]\",\"\", regex=True)\n",
        "test[\"hypothesis\"] = test[\"hypothesis\"].str.replace(\"[^ㄱ-ㅎ ㅏ-ㅣ 가-힣 0-9]\",\"\", regex=True)"
      ]
    },
    {
      "cell_type": "markdown",
      "metadata": {
        "id": "ER5HEgwuZ0yr"
      },
      "source": [
        "### Modeling"
      ]
    },
    {
      "cell_type": "code",
      "execution_count": 13,
      "metadata": {
        "colab": {
          "base_uri": "https://localhost:8080/"
        },
        "id": "Uqdtt07RaX8h",
        "outputId": "e3889b4a-dcd3-49ce-c9ce-afae00ad2a8e"
      },
      "outputs": [
        {
          "name": "stdout",
          "output_type": "stream",
          "text": [
            "Looking in indexes: https://pypi.org/simple, https://us-python.pkg.dev/colab-wheels/public/simple/\n",
            "Requirement already satisfied: transformers in /usr/local/lib/python3.7/dist-packages (4.21.3)\n",
            "Requirement already satisfied: packaging>=20.0 in /usr/local/lib/python3.7/dist-packages (from transformers) (21.3)\n",
            "Requirement already satisfied: huggingface-hub<1.0,>=0.1.0 in /usr/local/lib/python3.7/dist-packages (from transformers) (0.9.1)\n",
            "Requirement already satisfied: tokenizers!=0.11.3,<0.13,>=0.11.1 in /usr/local/lib/python3.7/dist-packages (from transformers) (0.12.1)\n",
            "Requirement already satisfied: filelock in /usr/local/lib/python3.7/dist-packages (from transformers) (3.8.0)\n",
            "Requirement already satisfied: importlib-metadata in /usr/local/lib/python3.7/dist-packages (from transformers) (4.12.0)\n",
            "Requirement already satisfied: regex!=2019.12.17 in /usr/local/lib/python3.7/dist-packages (from transformers) (2022.6.2)\n",
            "Requirement already satisfied: tqdm>=4.27 in /usr/local/lib/python3.7/dist-packages (from transformers) (4.64.0)\n",
            "Requirement already satisfied: numpy>=1.17 in /usr/local/lib/python3.7/dist-packages (from transformers) (1.21.6)\n",
            "Requirement already satisfied: requests in /usr/local/lib/python3.7/dist-packages (from transformers) (2.23.0)\n",
            "Requirement already satisfied: pyyaml>=5.1 in /usr/local/lib/python3.7/dist-packages (from transformers) (6.0)\n",
            "Requirement already satisfied: typing-extensions>=3.7.4.3 in /usr/local/lib/python3.7/dist-packages (from huggingface-hub<1.0,>=0.1.0->transformers) (4.1.1)\n",
            "Requirement already satisfied: pyparsing!=3.0.5,>=2.0.2 in /usr/local/lib/python3.7/dist-packages (from packaging>=20.0->transformers) (3.0.9)\n",
            "Requirement already satisfied: zipp>=0.5 in /usr/local/lib/python3.7/dist-packages (from importlib-metadata->transformers) (3.8.1)\n",
            "Requirement already satisfied: chardet<4,>=3.0.2 in /usr/local/lib/python3.7/dist-packages (from requests->transformers) (3.0.4)\n",
            "Requirement already satisfied: idna<3,>=2.5 in /usr/local/lib/python3.7/dist-packages (from requests->transformers) (2.10)\n",
            "Requirement already satisfied: urllib3!=1.25.0,!=1.25.1,<1.26,>=1.21.1 in /usr/local/lib/python3.7/dist-packages (from requests->transformers) (1.24.3)\n",
            "Requirement already satisfied: certifi>=2017.4.17 in /usr/local/lib/python3.7/dist-packages (from requests->transformers) (2022.6.15)\n"
          ]
        }
      ],
      "source": [
        "!pip install transformers"
      ]
    },
    {
      "cell_type": "code",
      "execution_count": 14,
      "metadata": {
        "id": "68u8UBlMZ0yr"
      },
      "outputs": [],
      "source": [
        "import os\n",
        "import random\n",
        "from tqdm import tqdm\n",
        "import torch\n",
        "import torch.nn.functional as F\n",
        "from torch.utils.data import DataLoader\n",
        "from sklearn.metrics import accuracy_score\n",
        "from sklearn.model_selection import train_test_split\n",
        "from transformers import TrainingArguments, Trainer\n",
        "from transformers import AutoModelForSequenceClassification, AutoConfig, AutoTokenizer"
      ]
    },
    {
      "cell_type": "code",
      "execution_count": 15,
      "metadata": {
        "colab": {
          "base_uri": "https://localhost:8080/"
        },
        "id": "-0_HprLIZ0yr",
        "outputId": "66923c7e-8a1f-4e95-af91-26f685b330b2"
      },
      "outputs": [
        {
          "data": {
            "text/plain": [
              "device(type='cuda', index=0)"
            ]
          },
          "execution_count": 15,
          "metadata": {},
          "output_type": "execute_result"
        }
      ],
      "source": [
        "device = torch.device(\"cuda:0\" if torch.cuda.is_available() else \"cpu\")\n",
        "device"
      ]
    },
    {
      "cell_type": "markdown",
      "metadata": {
        "id": "90tGVTO_Z0ys"
      },
      "source": [
        "#### Load Tokenizer\n",
        "Hugging Face Hub에 존재하는 사전 훈련된 tokenizer와 모델 및 모델 설정 이용"
      ]
    },
    {
      "cell_type": "code",
      "execution_count": 16,
      "metadata": {
        "colab": {
          "base_uri": "https://localhost:8080/"
        },
        "id": "YAp5PGHwZ0ys",
        "outputId": "f7f32799-06bf-4db0-c12c-008d93903f7c"
      },
      "outputs": [
        {
          "name": "stderr",
          "output_type": "stream",
          "text": [
            "Some weights of the model checkpoint at klue/roberta-large were not used when initializing RobertaForSequenceClassification: ['lm_head.bias', 'lm_head.layer_norm.bias', 'lm_head.decoder.bias', 'lm_head.decoder.weight', 'lm_head.dense.bias', 'lm_head.dense.weight', 'lm_head.layer_norm.weight']\n",
            "- This IS expected if you are initializing RobertaForSequenceClassification from the checkpoint of a model trained on another task or with another architecture (e.g. initializing a BertForSequenceClassification model from a BertForPreTraining model).\n",
            "- This IS NOT expected if you are initializing RobertaForSequenceClassification from the checkpoint of a model that you expect to be exactly identical (initializing a BertForSequenceClassification model from a BertForSequenceClassification model).\n",
            "Some weights of RobertaForSequenceClassification were not initialized from the model checkpoint at klue/roberta-large and are newly initialized: ['classifier.out_proj.bias', 'classifier.dense.bias', 'classifier.out_proj.weight', 'classifier.dense.weight']\n",
            "You should probably TRAIN this model on a down-stream task to be able to use it for predictions and inference.\n"
          ]
        }
      ],
      "source": [
        "MODEL_NAME = \"klue/roberta-large\"\n",
        "\n",
        "tokenizer = AutoTokenizer.from_pretrained(MODEL_NAME)\n",
        "\n",
        "config =  AutoConfig.from_pretrained(MODEL_NAME)\n",
        "config.num_labels = 3\n",
        "\n",
        "model = AutoModelForSequenceClassification.from_pretrained(MODEL_NAME, config=config)"
      ]
    },
    {
      "cell_type": "code",
      "execution_count": 17,
      "metadata": {
        "colab": {
          "base_uri": "https://localhost:8080/"
        },
        "id": "-FPWk6EwZ0ys",
        "outputId": "eb7a53ae-cdc1-4250-f3ce-429964d5fb59"
      },
      "outputs": [
        {
          "name": "stdout",
          "output_type": "stream",
          "text": [
            "RobertaForSequenceClassification(\n",
            "  (roberta): RobertaModel(\n",
            "    (embeddings): RobertaEmbeddings(\n",
            "      (word_embeddings): Embedding(32000, 1024, padding_idx=1)\n",
            "      (position_embeddings): Embedding(514, 1024, padding_idx=1)\n",
            "      (token_type_embeddings): Embedding(1, 1024)\n",
            "      (LayerNorm): LayerNorm((1024,), eps=1e-05, elementwise_affine=True)\n",
            "      (dropout): Dropout(p=0.1, inplace=False)\n",
            "    )\n",
            "    (encoder): RobertaEncoder(\n",
            "      (layer): ModuleList(\n",
            "        (0): RobertaLayer(\n",
            "          (attention): RobertaAttention(\n",
            "            (self): RobertaSelfAttention(\n",
            "              (query): Linear(in_features=1024, out_features=1024, bias=True)\n",
            "              (key): Linear(in_features=1024, out_features=1024, bias=True)\n",
            "              (value): Linear(in_features=1024, out_features=1024, bias=True)\n",
            "              (dropout): Dropout(p=0.1, inplace=False)\n",
            "            )\n",
            "            (output): RobertaSelfOutput(\n",
            "              (dense): Linear(in_features=1024, out_features=1024, bias=True)\n",
            "              (LayerNorm): LayerNorm((1024,), eps=1e-05, elementwise_affine=True)\n",
            "              (dropout): Dropout(p=0.1, inplace=False)\n",
            "            )\n",
            "          )\n",
            "          (intermediate): RobertaIntermediate(\n",
            "            (dense): Linear(in_features=1024, out_features=4096, bias=True)\n",
            "            (intermediate_act_fn): GELUActivation()\n",
            "          )\n",
            "          (output): RobertaOutput(\n",
            "            (dense): Linear(in_features=4096, out_features=1024, bias=True)\n",
            "            (LayerNorm): LayerNorm((1024,), eps=1e-05, elementwise_affine=True)\n",
            "            (dropout): Dropout(p=0.1, inplace=False)\n",
            "          )\n",
            "        )\n",
            "        (1): RobertaLayer(\n",
            "          (attention): RobertaAttention(\n",
            "            (self): RobertaSelfAttention(\n",
            "              (query): Linear(in_features=1024, out_features=1024, bias=True)\n",
            "              (key): Linear(in_features=1024, out_features=1024, bias=True)\n",
            "              (value): Linear(in_features=1024, out_features=1024, bias=True)\n",
            "              (dropout): Dropout(p=0.1, inplace=False)\n",
            "            )\n",
            "            (output): RobertaSelfOutput(\n",
            "              (dense): Linear(in_features=1024, out_features=1024, bias=True)\n",
            "              (LayerNorm): LayerNorm((1024,), eps=1e-05, elementwise_affine=True)\n",
            "              (dropout): Dropout(p=0.1, inplace=False)\n",
            "            )\n",
            "          )\n",
            "          (intermediate): RobertaIntermediate(\n",
            "            (dense): Linear(in_features=1024, out_features=4096, bias=True)\n",
            "            (intermediate_act_fn): GELUActivation()\n",
            "          )\n",
            "          (output): RobertaOutput(\n",
            "            (dense): Linear(in_features=4096, out_features=1024, bias=True)\n",
            "            (LayerNorm): LayerNorm((1024,), eps=1e-05, elementwise_affine=True)\n",
            "            (dropout): Dropout(p=0.1, inplace=False)\n",
            "          )\n",
            "        )\n",
            "        (2): RobertaLayer(\n",
            "          (attention): RobertaAttention(\n",
            "            (self): RobertaSelfAttention(\n",
            "              (query): Linear(in_features=1024, out_features=1024, bias=True)\n",
            "              (key): Linear(in_features=1024, out_features=1024, bias=True)\n",
            "              (value): Linear(in_features=1024, out_features=1024, bias=True)\n",
            "              (dropout): Dropout(p=0.1, inplace=False)\n",
            "            )\n",
            "            (output): RobertaSelfOutput(\n",
            "              (dense): Linear(in_features=1024, out_features=1024, bias=True)\n",
            "              (LayerNorm): LayerNorm((1024,), eps=1e-05, elementwise_affine=True)\n",
            "              (dropout): Dropout(p=0.1, inplace=False)\n",
            "            )\n",
            "          )\n",
            "          (intermediate): RobertaIntermediate(\n",
            "            (dense): Linear(in_features=1024, out_features=4096, bias=True)\n",
            "            (intermediate_act_fn): GELUActivation()\n",
            "          )\n",
            "          (output): RobertaOutput(\n",
            "            (dense): Linear(in_features=4096, out_features=1024, bias=True)\n",
            "            (LayerNorm): LayerNorm((1024,), eps=1e-05, elementwise_affine=True)\n",
            "            (dropout): Dropout(p=0.1, inplace=False)\n",
            "          )\n",
            "        )\n",
            "        (3): RobertaLayer(\n",
            "          (attention): RobertaAttention(\n",
            "            (self): RobertaSelfAttention(\n",
            "              (query): Linear(in_features=1024, out_features=1024, bias=True)\n",
            "              (key): Linear(in_features=1024, out_features=1024, bias=True)\n",
            "              (value): Linear(in_features=1024, out_features=1024, bias=True)\n",
            "              (dropout): Dropout(p=0.1, inplace=False)\n",
            "            )\n",
            "            (output): RobertaSelfOutput(\n",
            "              (dense): Linear(in_features=1024, out_features=1024, bias=True)\n",
            "              (LayerNorm): LayerNorm((1024,), eps=1e-05, elementwise_affine=True)\n",
            "              (dropout): Dropout(p=0.1, inplace=False)\n",
            "            )\n",
            "          )\n",
            "          (intermediate): RobertaIntermediate(\n",
            "            (dense): Linear(in_features=1024, out_features=4096, bias=True)\n",
            "            (intermediate_act_fn): GELUActivation()\n",
            "          )\n",
            "          (output): RobertaOutput(\n",
            "            (dense): Linear(in_features=4096, out_features=1024, bias=True)\n",
            "            (LayerNorm): LayerNorm((1024,), eps=1e-05, elementwise_affine=True)\n",
            "            (dropout): Dropout(p=0.1, inplace=False)\n",
            "          )\n",
            "        )\n",
            "        (4): RobertaLayer(\n",
            "          (attention): RobertaAttention(\n",
            "            (self): RobertaSelfAttention(\n",
            "              (query): Linear(in_features=1024, out_features=1024, bias=True)\n",
            "              (key): Linear(in_features=1024, out_features=1024, bias=True)\n",
            "              (value): Linear(in_features=1024, out_features=1024, bias=True)\n",
            "              (dropout): Dropout(p=0.1, inplace=False)\n",
            "            )\n",
            "            (output): RobertaSelfOutput(\n",
            "              (dense): Linear(in_features=1024, out_features=1024, bias=True)\n",
            "              (LayerNorm): LayerNorm((1024,), eps=1e-05, elementwise_affine=True)\n",
            "              (dropout): Dropout(p=0.1, inplace=False)\n",
            "            )\n",
            "          )\n",
            "          (intermediate): RobertaIntermediate(\n",
            "            (dense): Linear(in_features=1024, out_features=4096, bias=True)\n",
            "            (intermediate_act_fn): GELUActivation()\n",
            "          )\n",
            "          (output): RobertaOutput(\n",
            "            (dense): Linear(in_features=4096, out_features=1024, bias=True)\n",
            "            (LayerNorm): LayerNorm((1024,), eps=1e-05, elementwise_affine=True)\n",
            "            (dropout): Dropout(p=0.1, inplace=False)\n",
            "          )\n",
            "        )\n",
            "        (5): RobertaLayer(\n",
            "          (attention): RobertaAttention(\n",
            "            (self): RobertaSelfAttention(\n",
            "              (query): Linear(in_features=1024, out_features=1024, bias=True)\n",
            "              (key): Linear(in_features=1024, out_features=1024, bias=True)\n",
            "              (value): Linear(in_features=1024, out_features=1024, bias=True)\n",
            "              (dropout): Dropout(p=0.1, inplace=False)\n",
            "            )\n",
            "            (output): RobertaSelfOutput(\n",
            "              (dense): Linear(in_features=1024, out_features=1024, bias=True)\n",
            "              (LayerNorm): LayerNorm((1024,), eps=1e-05, elementwise_affine=True)\n",
            "              (dropout): Dropout(p=0.1, inplace=False)\n",
            "            )\n",
            "          )\n",
            "          (intermediate): RobertaIntermediate(\n",
            "            (dense): Linear(in_features=1024, out_features=4096, bias=True)\n",
            "            (intermediate_act_fn): GELUActivation()\n",
            "          )\n",
            "          (output): RobertaOutput(\n",
            "            (dense): Linear(in_features=4096, out_features=1024, bias=True)\n",
            "            (LayerNorm): LayerNorm((1024,), eps=1e-05, elementwise_affine=True)\n",
            "            (dropout): Dropout(p=0.1, inplace=False)\n",
            "          )\n",
            "        )\n",
            "        (6): RobertaLayer(\n",
            "          (attention): RobertaAttention(\n",
            "            (self): RobertaSelfAttention(\n",
            "              (query): Linear(in_features=1024, out_features=1024, bias=True)\n",
            "              (key): Linear(in_features=1024, out_features=1024, bias=True)\n",
            "              (value): Linear(in_features=1024, out_features=1024, bias=True)\n",
            "              (dropout): Dropout(p=0.1, inplace=False)\n",
            "            )\n",
            "            (output): RobertaSelfOutput(\n",
            "              (dense): Linear(in_features=1024, out_features=1024, bias=True)\n",
            "              (LayerNorm): LayerNorm((1024,), eps=1e-05, elementwise_affine=True)\n",
            "              (dropout): Dropout(p=0.1, inplace=False)\n",
            "            )\n",
            "          )\n",
            "          (intermediate): RobertaIntermediate(\n",
            "            (dense): Linear(in_features=1024, out_features=4096, bias=True)\n",
            "            (intermediate_act_fn): GELUActivation()\n",
            "          )\n",
            "          (output): RobertaOutput(\n",
            "            (dense): Linear(in_features=4096, out_features=1024, bias=True)\n",
            "            (LayerNorm): LayerNorm((1024,), eps=1e-05, elementwise_affine=True)\n",
            "            (dropout): Dropout(p=0.1, inplace=False)\n",
            "          )\n",
            "        )\n",
            "        (7): RobertaLayer(\n",
            "          (attention): RobertaAttention(\n",
            "            (self): RobertaSelfAttention(\n",
            "              (query): Linear(in_features=1024, out_features=1024, bias=True)\n",
            "              (key): Linear(in_features=1024, out_features=1024, bias=True)\n",
            "              (value): Linear(in_features=1024, out_features=1024, bias=True)\n",
            "              (dropout): Dropout(p=0.1, inplace=False)\n",
            "            )\n",
            "            (output): RobertaSelfOutput(\n",
            "              (dense): Linear(in_features=1024, out_features=1024, bias=True)\n",
            "              (LayerNorm): LayerNorm((1024,), eps=1e-05, elementwise_affine=True)\n",
            "              (dropout): Dropout(p=0.1, inplace=False)\n",
            "            )\n",
            "          )\n",
            "          (intermediate): RobertaIntermediate(\n",
            "            (dense): Linear(in_features=1024, out_features=4096, bias=True)\n",
            "            (intermediate_act_fn): GELUActivation()\n",
            "          )\n",
            "          (output): RobertaOutput(\n",
            "            (dense): Linear(in_features=4096, out_features=1024, bias=True)\n",
            "            (LayerNorm): LayerNorm((1024,), eps=1e-05, elementwise_affine=True)\n",
            "            (dropout): Dropout(p=0.1, inplace=False)\n",
            "          )\n",
            "        )\n",
            "        (8): RobertaLayer(\n",
            "          (attention): RobertaAttention(\n",
            "            (self): RobertaSelfAttention(\n",
            "              (query): Linear(in_features=1024, out_features=1024, bias=True)\n",
            "              (key): Linear(in_features=1024, out_features=1024, bias=True)\n",
            "              (value): Linear(in_features=1024, out_features=1024, bias=True)\n",
            "              (dropout): Dropout(p=0.1, inplace=False)\n",
            "            )\n",
            "            (output): RobertaSelfOutput(\n",
            "              (dense): Linear(in_features=1024, out_features=1024, bias=True)\n",
            "              (LayerNorm): LayerNorm((1024,), eps=1e-05, elementwise_affine=True)\n",
            "              (dropout): Dropout(p=0.1, inplace=False)\n",
            "            )\n",
            "          )\n",
            "          (intermediate): RobertaIntermediate(\n",
            "            (dense): Linear(in_features=1024, out_features=4096, bias=True)\n",
            "            (intermediate_act_fn): GELUActivation()\n",
            "          )\n",
            "          (output): RobertaOutput(\n",
            "            (dense): Linear(in_features=4096, out_features=1024, bias=True)\n",
            "            (LayerNorm): LayerNorm((1024,), eps=1e-05, elementwise_affine=True)\n",
            "            (dropout): Dropout(p=0.1, inplace=False)\n",
            "          )\n",
            "        )\n",
            "        (9): RobertaLayer(\n",
            "          (attention): RobertaAttention(\n",
            "            (self): RobertaSelfAttention(\n",
            "              (query): Linear(in_features=1024, out_features=1024, bias=True)\n",
            "              (key): Linear(in_features=1024, out_features=1024, bias=True)\n",
            "              (value): Linear(in_features=1024, out_features=1024, bias=True)\n",
            "              (dropout): Dropout(p=0.1, inplace=False)\n",
            "            )\n",
            "            (output): RobertaSelfOutput(\n",
            "              (dense): Linear(in_features=1024, out_features=1024, bias=True)\n",
            "              (LayerNorm): LayerNorm((1024,), eps=1e-05, elementwise_affine=True)\n",
            "              (dropout): Dropout(p=0.1, inplace=False)\n",
            "            )\n",
            "          )\n",
            "          (intermediate): RobertaIntermediate(\n",
            "            (dense): Linear(in_features=1024, out_features=4096, bias=True)\n",
            "            (intermediate_act_fn): GELUActivation()\n",
            "          )\n",
            "          (output): RobertaOutput(\n",
            "            (dense): Linear(in_features=4096, out_features=1024, bias=True)\n",
            "            (LayerNorm): LayerNorm((1024,), eps=1e-05, elementwise_affine=True)\n",
            "            (dropout): Dropout(p=0.1, inplace=False)\n",
            "          )\n",
            "        )\n",
            "        (10): RobertaLayer(\n",
            "          (attention): RobertaAttention(\n",
            "            (self): RobertaSelfAttention(\n",
            "              (query): Linear(in_features=1024, out_features=1024, bias=True)\n",
            "              (key): Linear(in_features=1024, out_features=1024, bias=True)\n",
            "              (value): Linear(in_features=1024, out_features=1024, bias=True)\n",
            "              (dropout): Dropout(p=0.1, inplace=False)\n",
            "            )\n",
            "            (output): RobertaSelfOutput(\n",
            "              (dense): Linear(in_features=1024, out_features=1024, bias=True)\n",
            "              (LayerNorm): LayerNorm((1024,), eps=1e-05, elementwise_affine=True)\n",
            "              (dropout): Dropout(p=0.1, inplace=False)\n",
            "            )\n",
            "          )\n",
            "          (intermediate): RobertaIntermediate(\n",
            "            (dense): Linear(in_features=1024, out_features=4096, bias=True)\n",
            "            (intermediate_act_fn): GELUActivation()\n",
            "          )\n",
            "          (output): RobertaOutput(\n",
            "            (dense): Linear(in_features=4096, out_features=1024, bias=True)\n",
            "            (LayerNorm): LayerNorm((1024,), eps=1e-05, elementwise_affine=True)\n",
            "            (dropout): Dropout(p=0.1, inplace=False)\n",
            "          )\n",
            "        )\n",
            "        (11): RobertaLayer(\n",
            "          (attention): RobertaAttention(\n",
            "            (self): RobertaSelfAttention(\n",
            "              (query): Linear(in_features=1024, out_features=1024, bias=True)\n",
            "              (key): Linear(in_features=1024, out_features=1024, bias=True)\n",
            "              (value): Linear(in_features=1024, out_features=1024, bias=True)\n",
            "              (dropout): Dropout(p=0.1, inplace=False)\n",
            "            )\n",
            "            (output): RobertaSelfOutput(\n",
            "              (dense): Linear(in_features=1024, out_features=1024, bias=True)\n",
            "              (LayerNorm): LayerNorm((1024,), eps=1e-05, elementwise_affine=True)\n",
            "              (dropout): Dropout(p=0.1, inplace=False)\n",
            "            )\n",
            "          )\n",
            "          (intermediate): RobertaIntermediate(\n",
            "            (dense): Linear(in_features=1024, out_features=4096, bias=True)\n",
            "            (intermediate_act_fn): GELUActivation()\n",
            "          )\n",
            "          (output): RobertaOutput(\n",
            "            (dense): Linear(in_features=4096, out_features=1024, bias=True)\n",
            "            (LayerNorm): LayerNorm((1024,), eps=1e-05, elementwise_affine=True)\n",
            "            (dropout): Dropout(p=0.1, inplace=False)\n",
            "          )\n",
            "        )\n",
            "        (12): RobertaLayer(\n",
            "          (attention): RobertaAttention(\n",
            "            (self): RobertaSelfAttention(\n",
            "              (query): Linear(in_features=1024, out_features=1024, bias=True)\n",
            "              (key): Linear(in_features=1024, out_features=1024, bias=True)\n",
            "              (value): Linear(in_features=1024, out_features=1024, bias=True)\n",
            "              (dropout): Dropout(p=0.1, inplace=False)\n",
            "            )\n",
            "            (output): RobertaSelfOutput(\n",
            "              (dense): Linear(in_features=1024, out_features=1024, bias=True)\n",
            "              (LayerNorm): LayerNorm((1024,), eps=1e-05, elementwise_affine=True)\n",
            "              (dropout): Dropout(p=0.1, inplace=False)\n",
            "            )\n",
            "          )\n",
            "          (intermediate): RobertaIntermediate(\n",
            "            (dense): Linear(in_features=1024, out_features=4096, bias=True)\n",
            "            (intermediate_act_fn): GELUActivation()\n",
            "          )\n",
            "          (output): RobertaOutput(\n",
            "            (dense): Linear(in_features=4096, out_features=1024, bias=True)\n",
            "            (LayerNorm): LayerNorm((1024,), eps=1e-05, elementwise_affine=True)\n",
            "            (dropout): Dropout(p=0.1, inplace=False)\n",
            "          )\n",
            "        )\n",
            "        (13): RobertaLayer(\n",
            "          (attention): RobertaAttention(\n",
            "            (self): RobertaSelfAttention(\n",
            "              (query): Linear(in_features=1024, out_features=1024, bias=True)\n",
            "              (key): Linear(in_features=1024, out_features=1024, bias=True)\n",
            "              (value): Linear(in_features=1024, out_features=1024, bias=True)\n",
            "              (dropout): Dropout(p=0.1, inplace=False)\n",
            "            )\n",
            "            (output): RobertaSelfOutput(\n",
            "              (dense): Linear(in_features=1024, out_features=1024, bias=True)\n",
            "              (LayerNorm): LayerNorm((1024,), eps=1e-05, elementwise_affine=True)\n",
            "              (dropout): Dropout(p=0.1, inplace=False)\n",
            "            )\n",
            "          )\n",
            "          (intermediate): RobertaIntermediate(\n",
            "            (dense): Linear(in_features=1024, out_features=4096, bias=True)\n",
            "            (intermediate_act_fn): GELUActivation()\n",
            "          )\n",
            "          (output): RobertaOutput(\n",
            "            (dense): Linear(in_features=4096, out_features=1024, bias=True)\n",
            "            (LayerNorm): LayerNorm((1024,), eps=1e-05, elementwise_affine=True)\n",
            "            (dropout): Dropout(p=0.1, inplace=False)\n",
            "          )\n",
            "        )\n",
            "        (14): RobertaLayer(\n",
            "          (attention): RobertaAttention(\n",
            "            (self): RobertaSelfAttention(\n",
            "              (query): Linear(in_features=1024, out_features=1024, bias=True)\n",
            "              (key): Linear(in_features=1024, out_features=1024, bias=True)\n",
            "              (value): Linear(in_features=1024, out_features=1024, bias=True)\n",
            "              (dropout): Dropout(p=0.1, inplace=False)\n",
            "            )\n",
            "            (output): RobertaSelfOutput(\n",
            "              (dense): Linear(in_features=1024, out_features=1024, bias=True)\n",
            "              (LayerNorm): LayerNorm((1024,), eps=1e-05, elementwise_affine=True)\n",
            "              (dropout): Dropout(p=0.1, inplace=False)\n",
            "            )\n",
            "          )\n",
            "          (intermediate): RobertaIntermediate(\n",
            "            (dense): Linear(in_features=1024, out_features=4096, bias=True)\n",
            "            (intermediate_act_fn): GELUActivation()\n",
            "          )\n",
            "          (output): RobertaOutput(\n",
            "            (dense): Linear(in_features=4096, out_features=1024, bias=True)\n",
            "            (LayerNorm): LayerNorm((1024,), eps=1e-05, elementwise_affine=True)\n",
            "            (dropout): Dropout(p=0.1, inplace=False)\n",
            "          )\n",
            "        )\n",
            "        (15): RobertaLayer(\n",
            "          (attention): RobertaAttention(\n",
            "            (self): RobertaSelfAttention(\n",
            "              (query): Linear(in_features=1024, out_features=1024, bias=True)\n",
            "              (key): Linear(in_features=1024, out_features=1024, bias=True)\n",
            "              (value): Linear(in_features=1024, out_features=1024, bias=True)\n",
            "              (dropout): Dropout(p=0.1, inplace=False)\n",
            "            )\n",
            "            (output): RobertaSelfOutput(\n",
            "              (dense): Linear(in_features=1024, out_features=1024, bias=True)\n",
            "              (LayerNorm): LayerNorm((1024,), eps=1e-05, elementwise_affine=True)\n",
            "              (dropout): Dropout(p=0.1, inplace=False)\n",
            "            )\n",
            "          )\n",
            "          (intermediate): RobertaIntermediate(\n",
            "            (dense): Linear(in_features=1024, out_features=4096, bias=True)\n",
            "            (intermediate_act_fn): GELUActivation()\n",
            "          )\n",
            "          (output): RobertaOutput(\n",
            "            (dense): Linear(in_features=4096, out_features=1024, bias=True)\n",
            "            (LayerNorm): LayerNorm((1024,), eps=1e-05, elementwise_affine=True)\n",
            "            (dropout): Dropout(p=0.1, inplace=False)\n",
            "          )\n",
            "        )\n",
            "        (16): RobertaLayer(\n",
            "          (attention): RobertaAttention(\n",
            "            (self): RobertaSelfAttention(\n",
            "              (query): Linear(in_features=1024, out_features=1024, bias=True)\n",
            "              (key): Linear(in_features=1024, out_features=1024, bias=True)\n",
            "              (value): Linear(in_features=1024, out_features=1024, bias=True)\n",
            "              (dropout): Dropout(p=0.1, inplace=False)\n",
            "            )\n",
            "            (output): RobertaSelfOutput(\n",
            "              (dense): Linear(in_features=1024, out_features=1024, bias=True)\n",
            "              (LayerNorm): LayerNorm((1024,), eps=1e-05, elementwise_affine=True)\n",
            "              (dropout): Dropout(p=0.1, inplace=False)\n",
            "            )\n",
            "          )\n",
            "          (intermediate): RobertaIntermediate(\n",
            "            (dense): Linear(in_features=1024, out_features=4096, bias=True)\n",
            "            (intermediate_act_fn): GELUActivation()\n",
            "          )\n",
            "          (output): RobertaOutput(\n",
            "            (dense): Linear(in_features=4096, out_features=1024, bias=True)\n",
            "            (LayerNorm): LayerNorm((1024,), eps=1e-05, elementwise_affine=True)\n",
            "            (dropout): Dropout(p=0.1, inplace=False)\n",
            "          )\n",
            "        )\n",
            "        (17): RobertaLayer(\n",
            "          (attention): RobertaAttention(\n",
            "            (self): RobertaSelfAttention(\n",
            "              (query): Linear(in_features=1024, out_features=1024, bias=True)\n",
            "              (key): Linear(in_features=1024, out_features=1024, bias=True)\n",
            "              (value): Linear(in_features=1024, out_features=1024, bias=True)\n",
            "              (dropout): Dropout(p=0.1, inplace=False)\n",
            "            )\n",
            "            (output): RobertaSelfOutput(\n",
            "              (dense): Linear(in_features=1024, out_features=1024, bias=True)\n",
            "              (LayerNorm): LayerNorm((1024,), eps=1e-05, elementwise_affine=True)\n",
            "              (dropout): Dropout(p=0.1, inplace=False)\n",
            "            )\n",
            "          )\n",
            "          (intermediate): RobertaIntermediate(\n",
            "            (dense): Linear(in_features=1024, out_features=4096, bias=True)\n",
            "            (intermediate_act_fn): GELUActivation()\n",
            "          )\n",
            "          (output): RobertaOutput(\n",
            "            (dense): Linear(in_features=4096, out_features=1024, bias=True)\n",
            "            (LayerNorm): LayerNorm((1024,), eps=1e-05, elementwise_affine=True)\n",
            "            (dropout): Dropout(p=0.1, inplace=False)\n",
            "          )\n",
            "        )\n",
            "        (18): RobertaLayer(\n",
            "          (attention): RobertaAttention(\n",
            "            (self): RobertaSelfAttention(\n",
            "              (query): Linear(in_features=1024, out_features=1024, bias=True)\n",
            "              (key): Linear(in_features=1024, out_features=1024, bias=True)\n",
            "              (value): Linear(in_features=1024, out_features=1024, bias=True)\n",
            "              (dropout): Dropout(p=0.1, inplace=False)\n",
            "            )\n",
            "            (output): RobertaSelfOutput(\n",
            "              (dense): Linear(in_features=1024, out_features=1024, bias=True)\n",
            "              (LayerNorm): LayerNorm((1024,), eps=1e-05, elementwise_affine=True)\n",
            "              (dropout): Dropout(p=0.1, inplace=False)\n",
            "            )\n",
            "          )\n",
            "          (intermediate): RobertaIntermediate(\n",
            "            (dense): Linear(in_features=1024, out_features=4096, bias=True)\n",
            "            (intermediate_act_fn): GELUActivation()\n",
            "          )\n",
            "          (output): RobertaOutput(\n",
            "            (dense): Linear(in_features=4096, out_features=1024, bias=True)\n",
            "            (LayerNorm): LayerNorm((1024,), eps=1e-05, elementwise_affine=True)\n",
            "            (dropout): Dropout(p=0.1, inplace=False)\n",
            "          )\n",
            "        )\n",
            "        (19): RobertaLayer(\n",
            "          (attention): RobertaAttention(\n",
            "            (self): RobertaSelfAttention(\n",
            "              (query): Linear(in_features=1024, out_features=1024, bias=True)\n",
            "              (key): Linear(in_features=1024, out_features=1024, bias=True)\n",
            "              (value): Linear(in_features=1024, out_features=1024, bias=True)\n",
            "              (dropout): Dropout(p=0.1, inplace=False)\n",
            "            )\n",
            "            (output): RobertaSelfOutput(\n",
            "              (dense): Linear(in_features=1024, out_features=1024, bias=True)\n",
            "              (LayerNorm): LayerNorm((1024,), eps=1e-05, elementwise_affine=True)\n",
            "              (dropout): Dropout(p=0.1, inplace=False)\n",
            "            )\n",
            "          )\n",
            "          (intermediate): RobertaIntermediate(\n",
            "            (dense): Linear(in_features=1024, out_features=4096, bias=True)\n",
            "            (intermediate_act_fn): GELUActivation()\n",
            "          )\n",
            "          (output): RobertaOutput(\n",
            "            (dense): Linear(in_features=4096, out_features=1024, bias=True)\n",
            "            (LayerNorm): LayerNorm((1024,), eps=1e-05, elementwise_affine=True)\n",
            "            (dropout): Dropout(p=0.1, inplace=False)\n",
            "          )\n",
            "        )\n",
            "        (20): RobertaLayer(\n",
            "          (attention): RobertaAttention(\n",
            "            (self): RobertaSelfAttention(\n",
            "              (query): Linear(in_features=1024, out_features=1024, bias=True)\n",
            "              (key): Linear(in_features=1024, out_features=1024, bias=True)\n",
            "              (value): Linear(in_features=1024, out_features=1024, bias=True)\n",
            "              (dropout): Dropout(p=0.1, inplace=False)\n",
            "            )\n",
            "            (output): RobertaSelfOutput(\n",
            "              (dense): Linear(in_features=1024, out_features=1024, bias=True)\n",
            "              (LayerNorm): LayerNorm((1024,), eps=1e-05, elementwise_affine=True)\n",
            "              (dropout): Dropout(p=0.1, inplace=False)\n",
            "            )\n",
            "          )\n",
            "          (intermediate): RobertaIntermediate(\n",
            "            (dense): Linear(in_features=1024, out_features=4096, bias=True)\n",
            "            (intermediate_act_fn): GELUActivation()\n",
            "          )\n",
            "          (output): RobertaOutput(\n",
            "            (dense): Linear(in_features=4096, out_features=1024, bias=True)\n",
            "            (LayerNorm): LayerNorm((1024,), eps=1e-05, elementwise_affine=True)\n",
            "            (dropout): Dropout(p=0.1, inplace=False)\n",
            "          )\n",
            "        )\n",
            "        (21): RobertaLayer(\n",
            "          (attention): RobertaAttention(\n",
            "            (self): RobertaSelfAttention(\n",
            "              (query): Linear(in_features=1024, out_features=1024, bias=True)\n",
            "              (key): Linear(in_features=1024, out_features=1024, bias=True)\n",
            "              (value): Linear(in_features=1024, out_features=1024, bias=True)\n",
            "              (dropout): Dropout(p=0.1, inplace=False)\n",
            "            )\n",
            "            (output): RobertaSelfOutput(\n",
            "              (dense): Linear(in_features=1024, out_features=1024, bias=True)\n",
            "              (LayerNorm): LayerNorm((1024,), eps=1e-05, elementwise_affine=True)\n",
            "              (dropout): Dropout(p=0.1, inplace=False)\n",
            "            )\n",
            "          )\n",
            "          (intermediate): RobertaIntermediate(\n",
            "            (dense): Linear(in_features=1024, out_features=4096, bias=True)\n",
            "            (intermediate_act_fn): GELUActivation()\n",
            "          )\n",
            "          (output): RobertaOutput(\n",
            "            (dense): Linear(in_features=4096, out_features=1024, bias=True)\n",
            "            (LayerNorm): LayerNorm((1024,), eps=1e-05, elementwise_affine=True)\n",
            "            (dropout): Dropout(p=0.1, inplace=False)\n",
            "          )\n",
            "        )\n",
            "        (22): RobertaLayer(\n",
            "          (attention): RobertaAttention(\n",
            "            (self): RobertaSelfAttention(\n",
            "              (query): Linear(in_features=1024, out_features=1024, bias=True)\n",
            "              (key): Linear(in_features=1024, out_features=1024, bias=True)\n",
            "              (value): Linear(in_features=1024, out_features=1024, bias=True)\n",
            "              (dropout): Dropout(p=0.1, inplace=False)\n",
            "            )\n",
            "            (output): RobertaSelfOutput(\n",
            "              (dense): Linear(in_features=1024, out_features=1024, bias=True)\n",
            "              (LayerNorm): LayerNorm((1024,), eps=1e-05, elementwise_affine=True)\n",
            "              (dropout): Dropout(p=0.1, inplace=False)\n",
            "            )\n",
            "          )\n",
            "          (intermediate): RobertaIntermediate(\n",
            "            (dense): Linear(in_features=1024, out_features=4096, bias=True)\n",
            "            (intermediate_act_fn): GELUActivation()\n",
            "          )\n",
            "          (output): RobertaOutput(\n",
            "            (dense): Linear(in_features=4096, out_features=1024, bias=True)\n",
            "            (LayerNorm): LayerNorm((1024,), eps=1e-05, elementwise_affine=True)\n",
            "            (dropout): Dropout(p=0.1, inplace=False)\n",
            "          )\n",
            "        )\n",
            "        (23): RobertaLayer(\n",
            "          (attention): RobertaAttention(\n",
            "            (self): RobertaSelfAttention(\n",
            "              (query): Linear(in_features=1024, out_features=1024, bias=True)\n",
            "              (key): Linear(in_features=1024, out_features=1024, bias=True)\n",
            "              (value): Linear(in_features=1024, out_features=1024, bias=True)\n",
            "              (dropout): Dropout(p=0.1, inplace=False)\n",
            "            )\n",
            "            (output): RobertaSelfOutput(\n",
            "              (dense): Linear(in_features=1024, out_features=1024, bias=True)\n",
            "              (LayerNorm): LayerNorm((1024,), eps=1e-05, elementwise_affine=True)\n",
            "              (dropout): Dropout(p=0.1, inplace=False)\n",
            "            )\n",
            "          )\n",
            "          (intermediate): RobertaIntermediate(\n",
            "            (dense): Linear(in_features=1024, out_features=4096, bias=True)\n",
            "            (intermediate_act_fn): GELUActivation()\n",
            "          )\n",
            "          (output): RobertaOutput(\n",
            "            (dense): Linear(in_features=4096, out_features=1024, bias=True)\n",
            "            (LayerNorm): LayerNorm((1024,), eps=1e-05, elementwise_affine=True)\n",
            "            (dropout): Dropout(p=0.1, inplace=False)\n",
            "          )\n",
            "        )\n",
            "      )\n",
            "    )\n",
            "  )\n",
            "  (classifier): RobertaClassificationHead(\n",
            "    (dense): Linear(in_features=1024, out_features=1024, bias=True)\n",
            "    (dropout): Dropout(p=0.1, inplace=False)\n",
            "    (out_proj): Linear(in_features=1024, out_features=3, bias=True)\n",
            "  )\n",
            ")\n"
          ]
        }
      ],
      "source": [
        "print(model)"
      ]
    },
    {
      "cell_type": "code",
      "execution_count": 18,
      "metadata": {
        "colab": {
          "base_uri": "https://localhost:8080/"
        },
        "id": "cE2KmoVhZ0ys",
        "outputId": "83140f20-1dcf-4e5b-8532-75558012596e"
      },
      "outputs": [
        {
          "name": "stdout",
          "output_type": "stream",
          "text": [
            "RobertaConfig {\n",
            "  \"_name_or_path\": \"klue/roberta-large\",\n",
            "  \"architectures\": [\n",
            "    \"RobertaForMaskedLM\"\n",
            "  ],\n",
            "  \"attention_probs_dropout_prob\": 0.1,\n",
            "  \"bos_token_id\": 0,\n",
            "  \"classifier_dropout\": null,\n",
            "  \"eos_token_id\": 2,\n",
            "  \"gradient_checkpointing\": false,\n",
            "  \"hidden_act\": \"gelu\",\n",
            "  \"hidden_dropout_prob\": 0.1,\n",
            "  \"hidden_size\": 1024,\n",
            "  \"id2label\": {\n",
            "    \"0\": \"LABEL_0\",\n",
            "    \"1\": \"LABEL_1\",\n",
            "    \"2\": \"LABEL_2\"\n",
            "  },\n",
            "  \"initializer_range\": 0.02,\n",
            "  \"intermediate_size\": 4096,\n",
            "  \"label2id\": {\n",
            "    \"LABEL_0\": 0,\n",
            "    \"LABEL_1\": 1,\n",
            "    \"LABEL_2\": 2\n",
            "  },\n",
            "  \"layer_norm_eps\": 1e-05,\n",
            "  \"max_position_embeddings\": 514,\n",
            "  \"model_type\": \"roberta\",\n",
            "  \"num_attention_heads\": 16,\n",
            "  \"num_hidden_layers\": 24,\n",
            "  \"pad_token_id\": 1,\n",
            "  \"position_embedding_type\": \"absolute\",\n",
            "  \"tokenizer_class\": \"BertTokenizer\",\n",
            "  \"transformers_version\": \"4.21.3\",\n",
            "  \"type_vocab_size\": 1,\n",
            "  \"use_cache\": true,\n",
            "  \"vocab_size\": 32000\n",
            "}\n",
            "\n"
          ]
        }
      ],
      "source": [
        "print(config)"
      ]
    },
    {
      "cell_type": "markdown",
      "metadata": {
        "id": "MROrc83CZ0yt"
      },
      "source": [
        "#### Tokenizing\n",
        "Train 데이터를 Train과 Validation으로 나누고 각각 데이터를 토큰화  \n",
        "토큰화되는 문장ㅇ은 전제와 가설을 `concat`한 문장"
      ]
    },
    {
      "cell_type": "code",
      "execution_count": 19,
      "metadata": {
        "colab": {
          "base_uri": "https://localhost:8080/"
        },
        "id": "uUxz9HKmZ0yt",
        "outputId": "bc2a4f7c-21d8-4d9c-d14a-3551cc681f93"
      },
      "outputs": [
        {
          "data": {
            "text/plain": [
              "((19998, 4), (5000, 4))"
            ]
          },
          "execution_count": 19,
          "metadata": {},
          "output_type": "execute_result"
        }
      ],
      "source": [
        "train, valid = train_test_split(train, test_size=0.2, shuffle=True, stratify=train[\"label\"])\n",
        "\n",
        "train.shape, valid.shape"
      ]
    },
    {
      "cell_type": "code",
      "execution_count": 20,
      "metadata": {
        "id": "3cRSWD4DZ0yt"
      },
      "outputs": [],
      "source": [
        "tokenized_train = tokenizer(\n",
        "    list(train[\"premise\"]),\n",
        "    list(train[\"hypothesis\"]),\n",
        "    return_tensors=\"pt\",\n",
        "    max_length=256,\n",
        "    padding=True,\n",
        "    truncation=True,\n",
        "    add_special_tokens=True\n",
        ")\n",
        "\n",
        "tokenized_valid = tokenizer(\n",
        "    list(valid[\"premise\"]),\n",
        "    list(valid[\"hypothesis\"]),\n",
        "    return_tensors=\"pt\",\n",
        "    max_length=256,\n",
        "    padding=True,\n",
        "    truncation=True,\n",
        "    add_special_tokens=True\n",
        ")"
      ]
    },
    {
      "cell_type": "code",
      "execution_count": 21,
      "metadata": {
        "colab": {
          "base_uri": "https://localhost:8080/"
        },
        "id": "kptJL5nnZ0yt",
        "outputId": "5a5362a8-7387-4dbb-a017-128374a70a1a"
      },
      "outputs": [
        {
          "name": "stdout",
          "output_type": "stream",
          "text": [
            "tensor([    0,  3624,  2170,  4107,  2211,  6233,  7475,  2470,  1485, 11497,\n",
            "         2052,  3669,  7399,  2079,  5289,  2138, 14689,  4683,  7629, 31302,\n",
            "         2259,  4258,  2062,     2, 11497,  2073,  4041,  2211,  2299,  3683,\n",
            "         7475,  2116,  3662,  2205,  2062,     2,     1,     1,     1,     1,\n",
            "            1,     1,     1,     1,     1,     1,     1,     1,     1,     1,\n",
            "            1,     1,     1,     1,     1,     1,     1,     1,     1,     1,\n",
            "            1,     1,     1,     1,     1,     1,     1,     1,     1,     1,\n",
            "            1,     1,     1,     1,     1,     1,     1,     1,     1,     1,\n",
            "            1,     1,     1,     1,     1,     1,     1,     1,     1,     1,\n",
            "            1,     1,     1,     1,     1,     1,     1,     1])\n"
          ]
        }
      ],
      "source": [
        "print(tokenized_train[\"input_ids\"][0])"
      ]
    },
    {
      "cell_type": "code",
      "execution_count": 22,
      "metadata": {
        "colab": {
          "base_uri": "https://localhost:8080/"
        },
        "id": "Nh_lR84ZZ0yt",
        "outputId": "bf971859-20eb-4644-95ea-92c4ccbe36ee"
      },
      "outputs": [
        {
          "name": "stdout",
          "output_type": "stream",
          "text": [
            "[CLS] 때문에 22명으로 기재한 위 칼럼이 사실 왜곡의 의도를 지녔다고 판정하기는 어렵다 [SEP] 칼럼은 21명까지만 기재가 가능하다 [SEP] [PAD] [PAD] [PAD] [PAD] [PAD] [PAD] [PAD] [PAD] [PAD] [PAD] [PAD] [PAD] [PAD] [PAD] [PAD] [PAD] [PAD] [PAD] [PAD] [PAD] [PAD] [PAD] [PAD] [PAD] [PAD] [PAD] [PAD] [PAD] [PAD] [PAD] [PAD] [PAD] [PAD] [PAD] [PAD] [PAD] [PAD] [PAD] [PAD] [PAD] [PAD] [PAD] [PAD] [PAD] [PAD] [PAD] [PAD] [PAD] [PAD] [PAD] [PAD] [PAD] [PAD] [PAD] [PAD] [PAD] [PAD] [PAD] [PAD] [PAD] [PAD] [PAD]\n"
          ]
        }
      ],
      "source": [
        "print(tokenizer.decode(tokenized_train[\"input_ids\"][0]))"
      ]
    },
    {
      "cell_type": "code",
      "execution_count": 23,
      "metadata": {
        "id": "WdDozDMYZ0yt"
      },
      "outputs": [],
      "source": [
        "class BERTDataset(torch.utils.data.Dataset):\n",
        "    def __init__(self, pair_dataset, label):\n",
        "        self.pair_dataset = pair_dataset\n",
        "        self.label = label\n",
        "    def __getitem__(self, idx):\n",
        "        item = {key:val[idx].clone().detach() for key, val in self.pair_dataset.items()}\n",
        "        item[\"label\"] = torch.tensor(self.label[idx])\n",
        "        return item\n",
        "    def __len__(self):\n",
        "        return len(self.label)"
      ]
    },
    {
      "cell_type": "code",
      "execution_count": 24,
      "metadata": {
        "id": "NsnRspPMZ0yu"
      },
      "outputs": [],
      "source": [
        "def label_to_num(label):\n",
        "    label_dict = {\"entailment\":0, \"contradiction\":1, \"neutral\":2, \"answer\":3}\n",
        "    num_label = []\n",
        "    for v in label:\n",
        "        num_label.append(label_dict[v])\n",
        "    return num_label"
      ]
    },
    {
      "cell_type": "code",
      "execution_count": 25,
      "metadata": {
        "id": "QSm28MGhZ0yu"
      },
      "outputs": [],
      "source": [
        "train_label = label_to_num(train[\"label\"].values)\n",
        "valid_label = label_to_num(valid[\"label\"].values)"
      ]
    },
    {
      "cell_type": "code",
      "execution_count": 26,
      "metadata": {
        "colab": {
          "base_uri": "https://localhost:8080/"
        },
        "id": "vAqHHAWIZ0yu",
        "outputId": "fc4dad8a-49d2-412e-98b0-4db91a303c08"
      },
      "outputs": [
        {
          "name": "stdout",
          "output_type": "stream",
          "text": [
            "19998\n",
            "{'input_ids': tensor([    0,  4739,  6233, 15447,   570,  2408,  2069,  9381, 19521,  1545,\n",
            "         2256,   570,  2408,  2069,  8585,  2073,  6099,  2470, 19777,  2348,\n",
            "         2209,  8739,     2, 15447,   570,  2408,  2069,  9381, 19521,  1545,\n",
            "         2256,   570,  2408,  2069, 16925,  2470,  6099,  2470, 19777,  2348,\n",
            "         2209,  8739,     2,     1,     1,     1,     1,     1,     1,     1,\n",
            "            1,     1,     1,     1,     1,     1,     1,     1,     1,     1,\n",
            "            1,     1,     1,     1,     1,     1,     1,     1,     1,     1,\n",
            "            1,     1,     1,     1,     1,     1,     1,     1,     1,     1,\n",
            "            1,     1,     1,     1,     1,     1,     1,     1,     1,     1,\n",
            "            1,     1,     1,     1,     1,     1,     1,     1]), 'token_type_ids': tensor([0, 0, 0, 0, 0, 0, 0, 0, 0, 0, 0, 0, 0, 0, 0, 0, 0, 0, 0, 0, 0, 0, 0, 0,\n",
            "        0, 0, 0, 0, 0, 0, 0, 0, 0, 0, 0, 0, 0, 0, 0, 0, 0, 0, 0, 0, 0, 0, 0, 0,\n",
            "        0, 0, 0, 0, 0, 0, 0, 0, 0, 0, 0, 0, 0, 0, 0, 0, 0, 0, 0, 0, 0, 0, 0, 0,\n",
            "        0, 0, 0, 0, 0, 0, 0, 0, 0, 0, 0, 0, 0, 0, 0, 0, 0, 0, 0, 0, 0, 0, 0, 0,\n",
            "        0, 0]), 'attention_mask': tensor([1, 1, 1, 1, 1, 1, 1, 1, 1, 1, 1, 1, 1, 1, 1, 1, 1, 1, 1, 1, 1, 1, 1, 1,\n",
            "        1, 1, 1, 1, 1, 1, 1, 1, 1, 1, 1, 1, 1, 1, 1, 1, 1, 1, 1, 0, 0, 0, 0, 0,\n",
            "        0, 0, 0, 0, 0, 0, 0, 0, 0, 0, 0, 0, 0, 0, 0, 0, 0, 0, 0, 0, 0, 0, 0, 0,\n",
            "        0, 0, 0, 0, 0, 0, 0, 0, 0, 0, 0, 0, 0, 0, 0, 0, 0, 0, 0, 0, 0, 0, 0, 0,\n",
            "        0, 0]), 'label': tensor(0)}\n",
            "[CLS] 진정으로 퍼스트 건담을 계승하고 제타 건담을 뛰어넘은 영원한 걸작애니메이션 [SEP] 퍼스트 건담을 계승하고 제타 건담을 추월한 영원한 걸작애니메이션 [SEP] [PAD] [PAD] [PAD] [PAD] [PAD] [PAD] [PAD] [PAD] [PAD] [PAD] [PAD] [PAD] [PAD] [PAD] [PAD] [PAD] [PAD] [PAD] [PAD] [PAD] [PAD] [PAD] [PAD] [PAD] [PAD] [PAD] [PAD] [PAD] [PAD] [PAD] [PAD] [PAD] [PAD] [PAD] [PAD] [PAD] [PAD] [PAD] [PAD] [PAD] [PAD] [PAD] [PAD] [PAD] [PAD] [PAD] [PAD] [PAD] [PAD] [PAD] [PAD] [PAD] [PAD] [PAD] [PAD]\n"
          ]
        }
      ],
      "source": [
        "train_dataset = BERTDataset(tokenized_train, train_label)\n",
        "valid_dataset = BERTDataset(tokenized_valid, valid_label)\n",
        "\n",
        "print(train_dataset.__len__())\n",
        "print(train_dataset.__getitem__(19997))\n",
        "print(tokenizer.decode(train_dataset.__getitem__(19997)[\"input_ids\"]))"
      ]
    },
    {
      "cell_type": "code",
      "execution_count": 27,
      "metadata": {
        "id": "_xkLStscZ0yu"
      },
      "outputs": [],
      "source": [
        "def compute_metrics(pred):\n",
        "    # validation을 위한 metrics func.\n",
        "    labels = pred.label_ids\n",
        "    preds = pred.predictions.argmax(-1)\n",
        "    probs = pred.predictions\n",
        "    acc = accuracy_score(labels, preds)\n",
        "    return {\"accuracy\":acc}"
      ]
    },
    {
      "cell_type": "code",
      "execution_count": 28,
      "metadata": {
        "id": "ea2UOQRQZ0yu"
      },
      "outputs": [],
      "source": [
        "training_ars = TrainingArguments(\n",
        "    output_dir=\"./result\",\n",
        "    num_train_epochs=7,\n",
        "    per_device_train_batch_size=32,\n",
        "    save_total_limit=5,\n",
        "    save_steps=500,\n",
        "    evaluation_strategy=\"steps\",\n",
        "    eval_steps=500,\n",
        "    load_best_model_at_end=True\n",
        ")\n",
        "\n",
        "trainer = Trainer(\n",
        "    model = model,\n",
        "    args = training_ars,\n",
        "    train_dataset=train_dataset,\n",
        "    eval_dataset=valid_dataset,\n",
        "    tokenizer=tokenizer,\n",
        "    compute_metrics=compute_metrics\n",
        ")"
      ]
    },
    {
      "cell_type": "code",
      "execution_count": 29,
      "metadata": {
        "colab": {
          "base_uri": "https://localhost:8080/",
          "height": 1000
        },
        "id": "-mbRshzIZ0yu",
        "outputId": "7f711f16-7aa0-4637-9c07-ade7f02564df"
      },
      "outputs": [
        {
          "name": "stderr",
          "output_type": "stream",
          "text": [
            "/usr/local/lib/python3.7/dist-packages/transformers/optimization.py:310: FutureWarning: This implementation of AdamW is deprecated and will be removed in a future version. Use the PyTorch implementation torch.optim.AdamW instead, or set `no_deprecation_warning=True` to disable this warning\n",
            "  FutureWarning,\n",
            "***** Running training *****\n",
            "  Num examples = 19998\n",
            "  Num Epochs = 7\n",
            "  Instantaneous batch size per device = 32\n",
            "  Total train batch size (w. parallel, distributed & accumulation) = 32\n",
            "  Gradient Accumulation steps = 1\n",
            "  Total optimization steps = 4375\n"
          ]
        },
        {
          "data": {
            "text/html": [
              "\n",
              "    <div>\n",
              "      \n",
              "      <progress value='4375' max='4375' style='width:300px; height:20px; vertical-align: middle;'></progress>\n",
              "      [4375/4375 2:23:00, Epoch 7/7]\n",
              "    </div>\n",
              "    <table border=\"1\" class=\"dataframe\">\n",
              "  <thead>\n",
              " <tr style=\"text-align: left;\">\n",
              "      <th>Step</th>\n",
              "      <th>Training Loss</th>\n",
              "      <th>Validation Loss</th>\n",
              "      <th>Accuracy</th>\n",
              "    </tr>\n",
              "  </thead>\n",
              "  <tbody>\n",
              "    <tr>\n",
              "      <td>500</td>\n",
              "      <td>1.116300</td>\n",
              "      <td>1.099470</td>\n",
              "      <td>0.339600</td>\n",
              "    </tr>\n",
              "    <tr>\n",
              "      <td>1000</td>\n",
              "      <td>1.109100</td>\n",
              "      <td>1.099542</td>\n",
              "      <td>0.339600</td>\n",
              "    </tr>\n",
              "    <tr>\n",
              "      <td>1500</td>\n",
              "      <td>1.106200</td>\n",
              "      <td>1.104970</td>\n",
              "      <td>0.339600</td>\n",
              "    </tr>\n",
              "    <tr>\n",
              "      <td>2000</td>\n",
              "      <td>1.104500</td>\n",
              "      <td>1.109457</td>\n",
              "      <td>0.342400</td>\n",
              "    </tr>\n",
              "    <tr>\n",
              "      <td>2500</td>\n",
              "      <td>1.103100</td>\n",
              "      <td>1.098380</td>\n",
              "      <td>0.339600</td>\n",
              "    </tr>\n",
              "    <tr>\n",
              "      <td>3000</td>\n",
              "      <td>1.102200</td>\n",
              "      <td>1.098596</td>\n",
              "      <td>0.339600</td>\n",
              "    </tr>\n",
              "    <tr>\n",
              "      <td>3500</td>\n",
              "      <td>1.101200</td>\n",
              "      <td>1.098708</td>\n",
              "      <td>0.342400</td>\n",
              "    </tr>\n",
              "    <tr>\n",
              "      <td>4000</td>\n",
              "      <td>1.101300</td>\n",
              "      <td>1.098195</td>\n",
              "      <td>0.342400</td>\n",
              "    </tr>\n",
              "  </tbody>\n",
              "</table><p>"
            ],
            "text/plain": [
              "<IPython.core.display.HTML object>"
            ]
          },
          "metadata": {},
          "output_type": "display_data"
        },
        {
          "name": "stderr",
          "output_type": "stream",
          "text": [
            "***** Running Evaluation *****\n",
            "  Num examples = 5000\n",
            "  Batch size = 8\n",
            "Saving model checkpoint to ./result/checkpoint-500\n",
            "Configuration saved in ./result/checkpoint-500/config.json\n",
            "Model weights saved in ./result/checkpoint-500/pytorch_model.bin\n",
            "tokenizer config file saved in ./result/checkpoint-500/tokenizer_config.json\n",
            "Special tokens file saved in ./result/checkpoint-500/special_tokens_map.json\n",
            "***** Running Evaluation *****\n",
            "  Num examples = 5000\n",
            "  Batch size = 8\n",
            "Saving model checkpoint to ./result/checkpoint-1000\n",
            "Configuration saved in ./result/checkpoint-1000/config.json\n",
            "Model weights saved in ./result/checkpoint-1000/pytorch_model.bin\n",
            "tokenizer config file saved in ./result/checkpoint-1000/tokenizer_config.json\n",
            "Special tokens file saved in ./result/checkpoint-1000/special_tokens_map.json\n",
            "***** Running Evaluation *****\n",
            "  Num examples = 5000\n",
            "  Batch size = 8\n",
            "Saving model checkpoint to ./result/checkpoint-1500\n",
            "Configuration saved in ./result/checkpoint-1500/config.json\n",
            "Model weights saved in ./result/checkpoint-1500/pytorch_model.bin\n",
            "tokenizer config file saved in ./result/checkpoint-1500/tokenizer_config.json\n",
            "Special tokens file saved in ./result/checkpoint-1500/special_tokens_map.json\n",
            "***** Running Evaluation *****\n",
            "  Num examples = 5000\n",
            "  Batch size = 8\n",
            "Saving model checkpoint to ./result/checkpoint-2000\n",
            "Configuration saved in ./result/checkpoint-2000/config.json\n",
            "Model weights saved in ./result/checkpoint-2000/pytorch_model.bin\n",
            "tokenizer config file saved in ./result/checkpoint-2000/tokenizer_config.json\n",
            "Special tokens file saved in ./result/checkpoint-2000/special_tokens_map.json\n",
            "***** Running Evaluation *****\n",
            "  Num examples = 5000\n",
            "  Batch size = 8\n",
            "Saving model checkpoint to ./result/checkpoint-2500\n",
            "Configuration saved in ./result/checkpoint-2500/config.json\n",
            "Model weights saved in ./result/checkpoint-2500/pytorch_model.bin\n",
            "tokenizer config file saved in ./result/checkpoint-2500/tokenizer_config.json\n",
            "Special tokens file saved in ./result/checkpoint-2500/special_tokens_map.json\n",
            "***** Running Evaluation *****\n",
            "  Num examples = 5000\n",
            "  Batch size = 8\n",
            "Saving model checkpoint to ./result/checkpoint-3000\n",
            "Configuration saved in ./result/checkpoint-3000/config.json\n",
            "Model weights saved in ./result/checkpoint-3000/pytorch_model.bin\n",
            "tokenizer config file saved in ./result/checkpoint-3000/tokenizer_config.json\n",
            "Special tokens file saved in ./result/checkpoint-3000/special_tokens_map.json\n",
            "Deleting older checkpoint [result/checkpoint-500] due to args.save_total_limit\n",
            "***** Running Evaluation *****\n",
            "  Num examples = 5000\n",
            "  Batch size = 8\n",
            "Saving model checkpoint to ./result/checkpoint-3500\n",
            "Configuration saved in ./result/checkpoint-3500/config.json\n",
            "Model weights saved in ./result/checkpoint-3500/pytorch_model.bin\n",
            "tokenizer config file saved in ./result/checkpoint-3500/tokenizer_config.json\n",
            "Special tokens file saved in ./result/checkpoint-3500/special_tokens_map.json\n",
            "Deleting older checkpoint [result/checkpoint-1000] due to args.save_total_limit\n",
            "***** Running Evaluation *****\n",
            "  Num examples = 5000\n",
            "  Batch size = 8\n",
            "Saving model checkpoint to ./result/checkpoint-4000\n",
            "Configuration saved in ./result/checkpoint-4000/config.json\n",
            "Model weights saved in ./result/checkpoint-4000/pytorch_model.bin\n",
            "tokenizer config file saved in ./result/checkpoint-4000/tokenizer_config.json\n",
            "Special tokens file saved in ./result/checkpoint-4000/special_tokens_map.json\n",
            "Deleting older checkpoint [result/checkpoint-1500] due to args.save_total_limit\n",
            "\n",
            "\n",
            "Training completed. Do not forget to share your model on huggingface.co/models =)\n",
            "\n",
            "\n",
            "Loading best model from ./result/checkpoint-4000 (score: 1.098195195198059).\n",
            "Configuration saved in ./result/best_model/config.json\n",
            "Model weights saved in ./result/best_model/pytorch_model.bin\n"
          ]
        }
      ],
      "source": [
        "trainer.train()\n",
        "model.save_pretrained(\"./result/best_model\")"
      ]
    },
    {
      "cell_type": "code",
      "execution_count": 30,
      "metadata": {
        "colab": {
          "base_uri": "https://localhost:8080/"
        },
        "id": "11ap39YjZguE",
        "outputId": "b62ff273-18f9-4f20-9cc2-75cb15a63665"
      },
      "outputs": [
        {
          "name": "stderr",
          "output_type": "stream",
          "text": [
            "loading file https://huggingface.co/klue/roberta-large/resolve/main/vocab.txt from cache at /root/.cache/huggingface/transformers/4eb906e7d0da2b04e56c7cc31ba068d7c295240a51690153c2ced71c9e4c9fc5.d1b86bed49516351c7bb29b19d7e7be2ab53b931bcb1f9b2aacfb71f2124d25a\n",
            "loading file https://huggingface.co/klue/roberta-large/resolve/main/tokenizer.json from cache at /root/.cache/huggingface/transformers/360b579947002f14f22331a026821b56f70679f1be1e95fe5dc5a80edc4a59e0.44c30ade4958fcfd446e66025e10a5b380cdd0bbe9b3fb7a794f357e7f0f34c2\n",
            "loading file https://huggingface.co/klue/roberta-large/resolve/main/added_tokens.json from cache at None\n",
            "loading file https://huggingface.co/klue/roberta-large/resolve/main/special_tokens_map.json from cache at /root/.cache/huggingface/transformers/1a24ab4628028ed80dea35ce3334a636dc656fd9a17a09bad377f88f0cbecdac.70c17d6e4d492c8f24f5bb97ab56c7f272e947112c6faf9dd846da42ba13eb23\n",
            "loading file https://huggingface.co/klue/roberta-large/resolve/main/tokenizer_config.json from cache at /root/.cache/huggingface/transformers/8f31ccbd66730704a8400c96db0647b10c47cd0c838ea2cabf0a86ef878f31cf.5b0ba083b234382bb4c99ee0c9f4fca4cadaa053dd17c32dabfe0de2f629af1f\n",
            "loading configuration file ./result/checkpoint-4000/config.json\n",
            "Model config RobertaConfig {\n",
            "  \"_name_or_path\": \"./result/checkpoint-4000\",\n",
            "  \"architectures\": [\n",
            "    \"RobertaForSequenceClassification\"\n",
            "  ],\n",
            "  \"attention_probs_dropout_prob\": 0.1,\n",
            "  \"bos_token_id\": 0,\n",
            "  \"classifier_dropout\": null,\n",
            "  \"eos_token_id\": 2,\n",
            "  \"gradient_checkpointing\": false,\n",
            "  \"hidden_act\": \"gelu\",\n",
            "  \"hidden_dropout_prob\": 0.1,\n",
            "  \"hidden_size\": 1024,\n",
            "  \"id2label\": {\n",
            "    \"0\": \"LABEL_0\",\n",
            "    \"1\": \"LABEL_1\",\n",
            "    \"2\": \"LABEL_2\"\n",
            "  },\n",
            "  \"initializer_range\": 0.02,\n",
            "  \"intermediate_size\": 4096,\n",
            "  \"label2id\": {\n",
            "    \"LABEL_0\": 0,\n",
            "    \"LABEL_1\": 1,\n",
            "    \"LABEL_2\": 2\n",
            "  },\n",
            "  \"layer_norm_eps\": 1e-05,\n",
            "  \"max_position_embeddings\": 514,\n",
            "  \"model_type\": \"roberta\",\n",
            "  \"num_attention_heads\": 16,\n",
            "  \"num_hidden_layers\": 24,\n",
            "  \"pad_token_id\": 1,\n",
            "  \"position_embedding_type\": \"absolute\",\n",
            "  \"problem_type\": \"single_label_classification\",\n",
            "  \"tokenizer_class\": \"BertTokenizer\",\n",
            "  \"torch_dtype\": \"float32\",\n",
            "  \"transformers_version\": \"4.21.3\",\n",
            "  \"type_vocab_size\": 1,\n",
            "  \"use_cache\": true,\n",
            "  \"vocab_size\": 32000\n",
            "}\n",
            "\n",
            "loading weights file ./result/checkpoint-4000/pytorch_model.bin\n",
            "All model checkpoint weights were used when initializing RobertaForSequenceClassification.\n",
            "\n",
            "All the weights of RobertaForSequenceClassification were initialized from the model checkpoint at ./result/checkpoint-4000.\n",
            "If your task is similar to the task the model of the checkpoint was trained on, you can already use RobertaForSequenceClassification for predictions without further training.\n"
          ]
        },
        {
          "name": "stdout",
          "output_type": "stream",
          "text": [
            "PreTrainedTokenizerFast(name_or_path='klue/roberta-large', vocab_size=32000, model_max_len=512, is_fast=True, padding_side='right', truncation_side='right', special_tokens={'bos_token': '[CLS]', 'eos_token': '[SEP]', 'unk_token': '[UNK]', 'sep_token': '[SEP]', 'pad_token': '[PAD]', 'cls_token': '[CLS]', 'mask_token': '[MASK]'})\n"
          ]
        }
      ],
      "source": [
        "device = torch.device('cuda:0' if torch.cuda.is_available() else 'cpu')\n",
        "\n",
        "Tokenizer_NAME = \"klue/roberta-large\"\n",
        "tokenizer = AutoTokenizer.from_pretrained(Tokenizer_NAME)\n",
        "\n",
        "MODEL_NAME = './result/checkpoint-4000'\n",
        "model = AutoModelForSequenceClassification.from_pretrained(MODEL_NAME)\n",
        "model.resize_token_embeddings(tokenizer.vocab_size)\n",
        "model.to(device)\n",
        "\n",
        "print(tokenizer)"
      ]
    },
    {
      "cell_type": "code",
      "execution_count": 31,
      "metadata": {
        "colab": {
          "base_uri": "https://localhost:8080/"
        },
        "id": "9YxxPgNzi8m8",
        "outputId": "a50deb4c-ca71-41fa-b457-aa0c95dbc015"
      },
      "outputs": [
        {
          "name": "stdout",
          "output_type": "stream",
          "text": [
            "1666\n",
            "{'input_ids': tensor([    0,   720,  3994,  2052, 10428,  2775,   647,  3657,  2119,  1085,\n",
            "            3,     2,   720,  3994,  2052,   911,  2075,  3669,  2119,  3926,\n",
            "         2088,  1513,  2359, 13964,     2,     1,     1,     1,     1,     1,\n",
            "            1,     1,     1,     1,     1,     1,     1,     1,     1,     1,\n",
            "            1,     1,     1,     1,     1,     1,     1,     1,     1,     1,\n",
            "            1,     1,     1,     1,     1,     1,     1,     1,     1,     1,\n",
            "            1,     1,     1,     1,     1,     1,     1,     1,     1,     1,\n",
            "            1,     1,     1,     1,     1,     1,     1,     1,     1,     1]), 'token_type_ids': tensor([0, 0, 0, 0, 0, 0, 0, 0, 0, 0, 0, 0, 0, 0, 0, 0, 0, 0, 0, 0, 0, 0, 0, 0,\n",
            "        0, 0, 0, 0, 0, 0, 0, 0, 0, 0, 0, 0, 0, 0, 0, 0, 0, 0, 0, 0, 0, 0, 0, 0,\n",
            "        0, 0, 0, 0, 0, 0, 0, 0, 0, 0, 0, 0, 0, 0, 0, 0, 0, 0, 0, 0, 0, 0, 0, 0,\n",
            "        0, 0, 0, 0, 0, 0, 0, 0]), 'attention_mask': tensor([1, 1, 1, 1, 1, 1, 1, 1, 1, 1, 1, 1, 1, 1, 1, 1, 1, 1, 1, 1, 1, 1, 1, 1,\n",
            "        1, 0, 0, 0, 0, 0, 0, 0, 0, 0, 0, 0, 0, 0, 0, 0, 0, 0, 0, 0, 0, 0, 0, 0,\n",
            "        0, 0, 0, 0, 0, 0, 0, 0, 0, 0, 0, 0, 0, 0, 0, 0, 0, 0, 0, 0, 0, 0, 0, 0,\n",
            "        0, 0, 0, 0, 0, 0, 0, 0]), 'label': tensor(3)}\n",
            "[CLS] 18일 귀국이라 발인도 지켜드리지 못해 더욱 죄송할 따름입니다 [SEP] 18일 배를 타고 여행을 떠났습니다 [SEP] [PAD] [PAD] [PAD] [PAD] [PAD] [PAD] [PAD] [PAD] [PAD] [PAD] [PAD] [PAD] [PAD] [PAD] [PAD] [PAD] [PAD] [PAD] [PAD] [PAD] [PAD] [PAD] [PAD] [PAD] [PAD] [PAD] [PAD] [PAD] [PAD] [PAD] [PAD] [PAD] [PAD] [PAD] [PAD] [PAD] [PAD] [PAD] [PAD] [PAD] [PAD] [PAD] [PAD] [PAD] [PAD] [PAD] [PAD] [PAD] [PAD] [PAD]\n"
          ]
        }
      ],
      "source": [
        "test_label = label_to_num(test['label'].values)\n",
        "\n",
        "tokenized_test = tokenizer(\n",
        "    list(test['premise']),\n",
        "    list(test['hypothesis']),\n",
        "    return_tensors=\"pt\",\n",
        "    max_length=128,\n",
        "    padding=True,\n",
        "    truncation=True,\n",
        "    add_special_tokens=True\n",
        ")\n",
        "\n",
        "test_dataset = BERTDataset(tokenized_test, test_label)\n",
        "\n",
        "print(test_dataset.__len__())\n",
        "print(test_dataset.__getitem__(1665))\n",
        "print(tokenizer.decode(test_dataset.__getitem__(6)['input_ids']))"
      ]
    },
    {
      "cell_type": "code",
      "execution_count": 32,
      "metadata": {
        "colab": {
          "base_uri": "https://localhost:8080/"
        },
        "id": "yCwEJgxsi-4s",
        "outputId": "e50ee63f-ce50-419c-f1ab-e922092df1c9"
      },
      "outputs": [
        {
          "name": "stderr",
          "output_type": "stream",
          "text": [
            "100%|██████████| 105/105 [00:21<00:00,  4.80it/s]"
          ]
        },
        {
          "name": "stdout",
          "output_type": "stream",
          "text": [
            "[0, 0, 0, 0, 0, 0, 0, 0, 0, 0, 0, 0, 0, 0, 0, 0, 0, 0, 0, 0, 0, 0, 0, 0, 0, 0, 0, 0, 0, 0, 0, 0, 0, 0, 0, 0, 0, 0, 0, 0, 0, 0, 0, 0, 0, 0, 0, 0, 0, 0, 0, 0, 0, 0, 0, 0, 0, 0, 0, 0, 0, 0, 0, 0, 0, 0, 0, 0, 0, 0, 0, 0, 0, 0, 0, 0, 0, 0, 0, 0, 0, 0, 0, 0, 0, 0, 0, 0, 0, 0, 0, 0, 0, 0, 0, 0, 0, 0, 0, 0, 0, 0, 0, 0, 0, 0, 0, 0, 0, 0, 0, 0, 0, 0, 0, 0, 0, 0, 0, 0, 0, 0, 0, 0, 0, 0, 0, 0, 0, 0, 0, 0, 0, 0, 0, 0, 0, 0, 0, 0, 0, 0, 0, 0, 0, 0, 0, 0, 0, 0, 0, 0, 0, 0, 0, 0, 0, 0, 0, 0, 0, 0, 0, 0, 0, 0, 0, 0, 0, 0, 0, 0, 0, 0, 0, 0, 0, 0, 0, 0, 0, 0, 0, 0, 0, 0, 0, 0, 0, 0, 0, 0, 0, 0, 0, 0, 0, 0, 0, 0, 0, 0, 0, 0, 0, 0, 0, 0, 0, 0, 0, 0, 0, 0, 0, 0, 0, 0, 0, 0, 0, 0, 0, 0, 0, 0, 0, 0, 0, 0, 0, 0, 0, 0, 0, 0, 0, 0, 0, 0, 0, 0, 0, 0, 0, 0, 0, 0, 0, 0, 0, 0, 0, 0, 0, 0, 0, 0, 0, 0, 0, 0, 0, 0, 0, 0, 0, 0, 0, 0, 0, 0, 0, 0, 0, 0, 0, 0, 0, 0, 0, 0, 0, 0, 0, 0, 0, 0, 0, 0, 0, 0, 0, 0, 0, 0, 0, 0, 0, 0, 0, 0, 0, 0, 0, 0, 0, 0, 0, 0, 0, 0, 0, 0, 0, 0, 0, 0, 0, 0, 0, 0, 0, 0, 0, 0, 0, 0, 0, 0, 0, 0, 0, 0, 0, 0, 0, 0, 0, 0, 0, 0, 0, 0, 0, 0, 0, 0, 0, 0, 0, 0, 0, 0, 0, 0, 0, 0, 0, 0, 0, 0, 0, 0, 0, 0, 0, 0, 0, 0, 0, 0, 0, 0, 0, 0, 0, 0, 0, 0, 0, 0, 0, 0, 0, 0, 0, 0, 0, 0, 0, 0, 0, 0, 0, 0, 0, 0, 0, 0, 0, 0, 0, 0, 0, 0, 0, 0, 0, 0, 0, 0, 0, 0, 0, 0, 0, 0, 0, 0, 0, 0, 0, 0, 0, 0, 0, 0, 0, 0, 0, 0, 0, 0, 0, 0, 0, 0, 0, 0, 0, 0, 0, 0, 0, 0, 0, 0, 0, 0, 0, 0, 0, 0, 0, 0, 0, 0, 0, 0, 0, 0, 0, 0, 0, 0, 0, 0, 0, 0, 0, 0, 0, 0, 0, 0, 0, 0, 0, 0, 0, 0, 0, 0, 0, 0, 0, 0, 0, 0, 0, 0, 0, 0, 0, 0, 0, 0, 0, 0, 0, 0, 0, 0, 0, 0, 0, 0, 0, 0, 0, 0, 0, 0, 0, 0, 0, 0, 0, 0, 0, 0, 0, 0, 0, 0, 0, 0, 0, 0, 0, 0, 0, 0, 0, 0, 0, 0, 0, 0, 0, 0, 0, 0, 0, 0, 0, 0, 0, 0, 0, 0, 0, 0, 0, 0, 0, 0, 0, 0, 0, 0, 0, 0, 0, 0, 0, 0, 0, 0, 0, 0, 0, 0, 0, 0, 0, 0, 0, 0, 0, 0, 0, 0, 0, 0, 0, 0, 0, 0, 0, 0, 0, 0, 0, 0, 0, 0, 0, 0, 0, 0, 0, 0, 0, 0, 0, 0, 0, 0, 0, 0, 0, 0, 0, 0, 0, 0, 0, 0, 0, 0, 0, 0, 0, 0, 0, 0, 0, 0, 0, 0, 0, 0, 0, 0, 0, 0, 0, 0, 0, 0, 0, 0, 0, 0, 0, 0, 0, 0, 0, 0, 0, 0, 0, 0, 0, 0, 0, 0, 0, 0, 0, 0, 0, 0, 0, 0, 0, 0, 0, 0, 0, 0, 0, 0, 0, 0, 0, 0, 0, 0, 0, 0, 0, 0, 0, 0, 0, 0, 0, 0, 0, 0, 0, 0, 0, 0, 0, 0, 0, 0, 0, 0, 0, 0, 0, 0, 0, 0, 0, 0, 0, 0, 0, 0, 0, 0, 0, 0, 0, 0, 0, 0, 0, 0, 0, 0, 0, 0, 0, 0, 0, 0, 0, 0, 0, 0, 0, 0, 0, 0, 0, 0, 0, 0, 0, 0, 0, 0, 0, 0, 0, 0, 0, 0, 0, 0, 0, 0, 0, 0, 0, 0, 0, 0, 0, 0, 0, 0, 0, 0, 0, 0, 0, 0, 0, 0, 0, 0, 0, 0, 0, 0, 0, 0, 0, 0, 0, 0, 0, 0, 0, 0, 0, 0, 0, 0, 0, 0, 0, 0, 0, 0, 0, 0, 0, 0, 0, 0, 0, 0, 0, 0, 0, 0, 0, 0, 0, 0, 0, 0, 0, 0, 0, 0, 0, 0, 0, 0, 0, 0, 0, 0, 0, 0, 0, 0, 0, 0, 0, 0, 0, 0, 0, 0, 0, 0, 0, 0, 0, 0, 0, 0, 0, 0, 0, 0, 0, 0, 0, 0, 0, 0, 0, 0, 0, 0, 0, 0, 0, 0, 0, 0, 0, 0, 0, 0, 0, 0, 0, 0, 0, 0, 0, 0, 0, 0, 0, 0, 0, 0, 0, 0, 0, 0, 0, 0, 0, 0, 0, 0, 0, 0, 0, 0, 0, 0, 0, 0, 0, 0, 0, 0, 0, 0, 0, 0, 0, 0, 0, 0, 0, 0, 0, 0, 0, 0, 0, 0, 0, 0, 0, 0, 0, 0, 0, 0, 0, 0, 0, 0, 0, 0, 0, 0, 0, 0, 0, 0, 0, 0, 0, 0, 0, 0, 0, 0, 0, 0, 0, 0, 0, 0, 0, 0, 0, 0, 0, 0, 0, 0, 0, 0, 0, 0, 0, 0, 0, 0, 0, 0, 0, 0, 0, 0, 0, 0, 0, 0, 0, 0, 0, 0, 0, 0, 0, 0, 0, 0, 0, 0, 0, 0, 0, 0, 0, 0, 0, 0, 0, 0, 0, 0, 0, 0, 0, 0, 0, 0, 0, 0, 0, 0, 0, 0, 0, 0, 0, 0, 0, 0, 0, 0, 0, 0, 0, 0, 0, 0, 0, 0, 0, 0, 0, 0, 0, 0, 0, 0, 0, 0, 0, 0, 0, 0, 0, 0, 0, 0, 0, 0, 0, 0, 0, 0, 0, 0, 0, 0, 0, 0, 0, 0, 0, 0, 0, 0, 0, 0, 0, 0, 0, 0, 0, 0, 0, 0, 0, 0, 0, 0, 0, 0, 0, 0, 0, 0, 0, 0, 0, 0, 0, 0, 0, 0, 0, 0, 0, 0, 0, 0, 0, 0, 0, 0, 0, 0, 0, 0, 0, 0, 0, 0, 0, 0, 0, 0, 0, 0, 0, 0, 0, 0, 0, 0, 0, 0, 0, 0, 0, 0, 0, 0, 0, 0, 0, 0, 0, 0, 0, 0, 0, 0, 0, 0, 0, 0, 0, 0, 0, 0, 0, 0, 0, 0, 0, 0, 0, 0, 0, 0, 0, 0, 0, 0, 0, 0, 0, 0, 0, 0, 0, 0, 0, 0, 0, 0, 0, 0, 0, 0, 0, 0, 0, 0, 0, 0, 0, 0, 0, 0, 0, 0, 0, 0, 0, 0, 0, 0, 0, 0, 0, 0, 0, 0, 0, 0, 0, 0, 0, 0, 0, 0, 0, 0, 0, 0, 0, 0, 0, 0, 0, 0, 0, 0, 0, 0, 0, 0, 0, 0, 0, 0, 0, 0, 0, 0, 0, 0, 0, 0, 0, 0, 0, 0, 0, 0, 0, 0, 0, 0, 0, 0, 0, 0, 0, 0, 0, 0, 0, 0, 0, 0, 0, 0, 0, 0, 0, 0, 0, 0, 0, 0, 0, 0, 0, 0, 0, 0, 0, 0, 0, 0, 0, 0, 0, 0, 0, 0, 0, 0, 0, 0, 0, 0, 0, 0, 0, 0, 0, 0, 0, 0, 0, 0, 0, 0, 0, 0, 0, 0, 0, 0, 0, 0, 0, 0, 0, 0, 0, 0, 0, 0, 0, 0, 0, 0, 0, 0, 0, 0, 0, 0, 0, 0, 0, 0, 0, 0, 0, 0, 0, 0, 0, 0, 0, 0, 0, 0, 0, 0, 0, 0, 0, 0, 0, 0, 0, 0, 0, 0, 0, 0, 0, 0, 0, 0, 0, 0, 0, 0, 0, 0, 0, 0, 0, 0, 0, 0, 0, 0, 0, 0, 0, 0, 0, 0, 0, 0, 0, 0, 0, 0, 0, 0, 0, 0, 0, 0, 0, 0, 0, 0, 0, 0, 0, 0, 0, 0, 0, 0, 0, 0, 0, 0, 0, 0, 0, 0, 0, 0, 0, 0, 0, 0, 0, 0, 0, 0, 0, 0, 0, 0, 0, 0, 0, 0, 0, 0, 0, 0, 0, 0, 0, 0, 0, 0, 0, 0, 0, 0, 0, 0, 0, 0, 0, 0, 0, 0, 0, 0, 0, 0, 0, 0, 0, 0, 0, 0, 0, 0, 0, 0, 0, 0, 0, 0, 0, 0, 0, 0, 0, 0, 0, 0, 0, 0, 0, 0, 0, 0, 0, 0, 0, 0, 0, 0, 0, 0, 0, 0, 0, 0, 0, 0, 0, 0, 0, 0, 0, 0, 0, 0, 0, 0, 0, 0, 0, 0, 0, 0, 0, 0, 0, 0, 0, 0, 0, 0, 0, 0, 0, 0, 0, 0, 0, 0, 0, 0, 0, 0, 0, 0, 0, 0, 0, 0, 0, 0, 0, 0, 0, 0, 0, 0, 0, 0, 0, 0, 0, 0, 0, 0, 0, 0, 0, 0, 0, 0, 0, 0, 0, 0, 0, 0, 0, 0, 0, 0, 0, 0, 0, 0, 0, 0, 0, 0, 0, 0, 0, 0, 0, 0, 0, 0, 0, 0, 0, 0, 0, 0, 0, 0, 0, 0, 0, 0, 0, 0, 0, 0, 0, 0, 0, 0, 0, 0, 0, 0, 0, 0, 0, 0, 0, 0, 0, 0, 0, 0, 0, 0, 0, 0, 0, 0, 0, 0, 0, 0, 0, 0, 0, 0, 0, 0, 0, 0, 0, 0, 0, 0, 0, 0, 0, 0]\n"
          ]
        },
        {
          "name": "stderr",
          "output_type": "stream",
          "text": [
            "\n"
          ]
        }
      ],
      "source": [
        "dataloader = DataLoader(test_dataset, batch_size=16, shuffle=False)\n",
        "\n",
        "model.eval()\n",
        "output_pred = []\n",
        "output_prob = []\n",
        "\n",
        "for i, data in enumerate(tqdm(dataloader)):\n",
        "    with torch.no_grad():\n",
        "        outputs = model(\n",
        "            input_ids=data['input_ids'].to(device),\n",
        "            attention_mask=data['attention_mask'].to(device),\n",
        "            token_type_ids=data['token_type_ids'].to(device)\n",
        "        )\n",
        "    logits = outputs[0]\n",
        "    prob = F.softmax(logits, dim=-1).detach().cpu().numpy()\n",
        "    logits = logits.detach().cpu().numpy()\n",
        "    result = np.argmax(logits, axis=-1)\n",
        "\n",
        "    output_pred.append(result)\n",
        "    output_prob.append(prob)\n",
        "  \n",
        "pred_answer, output_prob = np.concatenate(output_pred).tolist(), np.concatenate(output_prob, axis=0).tolist()\n",
        "print(pred_answer)"
      ]
    },
    {
      "cell_type": "code",
      "execution_count": 33,
      "metadata": {
        "colab": {
          "base_uri": "https://localhost:8080/"
        },
        "id": "i1jAovQBjAvj",
        "outputId": "df908edf-aab7-4f0b-8f35-976d74ba153f"
      },
      "outputs": [
        {
          "name": "stdout",
          "output_type": "stream",
          "text": [
            "[[0, 'entailment'], [1, 'entailment'], [2, 'entailment'], [3, 'entailment'], [4, 'entailment'], [5, 'entailment'], [6, 'entailment'], [7, 'entailment'], [8, 'entailment'], [9, 'entailment'], [10, 'entailment'], [11, 'entailment'], [12, 'entailment'], [13, 'entailment'], [14, 'entailment'], [15, 'entailment'], [16, 'entailment'], [17, 'entailment'], [18, 'entailment'], [19, 'entailment'], [20, 'entailment'], [21, 'entailment'], [22, 'entailment'], [23, 'entailment'], [24, 'entailment'], [25, 'entailment'], [26, 'entailment'], [27, 'entailment'], [28, 'entailment'], [29, 'entailment'], [30, 'entailment'], [31, 'entailment'], [32, 'entailment'], [33, 'entailment'], [34, 'entailment'], [35, 'entailment'], [36, 'entailment'], [37, 'entailment'], [38, 'entailment'], [39, 'entailment'], [40, 'entailment'], [41, 'entailment'], [42, 'entailment'], [43, 'entailment'], [44, 'entailment'], [45, 'entailment'], [46, 'entailment'], [47, 'entailment'], [48, 'entailment'], [49, 'entailment'], [50, 'entailment'], [51, 'entailment'], [52, 'entailment'], [53, 'entailment'], [54, 'entailment'], [55, 'entailment'], [56, 'entailment'], [57, 'entailment'], [58, 'entailment'], [59, 'entailment'], [60, 'entailment'], [61, 'entailment'], [62, 'entailment'], [63, 'entailment'], [64, 'entailment'], [65, 'entailment'], [66, 'entailment'], [67, 'entailment'], [68, 'entailment'], [69, 'entailment'], [70, 'entailment'], [71, 'entailment'], [72, 'entailment'], [73, 'entailment'], [74, 'entailment'], [75, 'entailment'], [76, 'entailment'], [77, 'entailment'], [78, 'entailment'], [79, 'entailment'], [80, 'entailment'], [81, 'entailment'], [82, 'entailment'], [83, 'entailment'], [84, 'entailment'], [85, 'entailment'], [86, 'entailment'], [87, 'entailment'], [88, 'entailment'], [89, 'entailment'], [90, 'entailment'], [91, 'entailment'], [92, 'entailment'], [93, 'entailment'], [94, 'entailment'], [95, 'entailment'], [96, 'entailment'], [97, 'entailment'], [98, 'entailment'], [99, 'entailment'], [100, 'entailment'], [101, 'entailment'], [102, 'entailment'], [103, 'entailment'], [104, 'entailment'], [105, 'entailment'], [106, 'entailment'], [107, 'entailment'], [108, 'entailment'], [109, 'entailment'], [110, 'entailment'], [111, 'entailment'], [112, 'entailment'], [113, 'entailment'], [114, 'entailment'], [115, 'entailment'], [116, 'entailment'], [117, 'entailment'], [118, 'entailment'], [119, 'entailment'], [120, 'entailment'], [121, 'entailment'], [122, 'entailment'], [123, 'entailment'], [124, 'entailment'], [125, 'entailment'], [126, 'entailment'], [127, 'entailment'], [128, 'entailment'], [129, 'entailment'], [130, 'entailment'], [131, 'entailment'], [132, 'entailment'], [133, 'entailment'], [134, 'entailment'], [135, 'entailment'], [136, 'entailment'], [137, 'entailment'], [138, 'entailment'], [139, 'entailment'], [140, 'entailment'], [141, 'entailment'], [142, 'entailment'], [143, 'entailment'], [144, 'entailment'], [145, 'entailment'], [146, 'entailment'], [147, 'entailment'], [148, 'entailment'], [149, 'entailment'], [150, 'entailment'], [151, 'entailment'], [152, 'entailment'], [153, 'entailment'], [154, 'entailment'], [155, 'entailment'], [156, 'entailment'], [157, 'entailment'], [158, 'entailment'], [159, 'entailment'], [160, 'entailment'], [161, 'entailment'], [162, 'entailment'], [163, 'entailment'], [164, 'entailment'], [165, 'entailment'], [166, 'entailment'], [167, 'entailment'], [168, 'entailment'], [169, 'entailment'], [170, 'entailment'], [171, 'entailment'], [172, 'entailment'], [173, 'entailment'], [174, 'entailment'], [175, 'entailment'], [176, 'entailment'], [177, 'entailment'], [178, 'entailment'], [179, 'entailment'], [180, 'entailment'], [181, 'entailment'], [182, 'entailment'], [183, 'entailment'], [184, 'entailment'], [185, 'entailment'], [186, 'entailment'], [187, 'entailment'], [188, 'entailment'], [189, 'entailment'], [190, 'entailment'], [191, 'entailment'], [192, 'entailment'], [193, 'entailment'], [194, 'entailment'], [195, 'entailment'], [196, 'entailment'], [197, 'entailment'], [198, 'entailment'], [199, 'entailment'], [200, 'entailment'], [201, 'entailment'], [202, 'entailment'], [203, 'entailment'], [204, 'entailment'], [205, 'entailment'], [206, 'entailment'], [207, 'entailment'], [208, 'entailment'], [209, 'entailment'], [210, 'entailment'], [211, 'entailment'], [212, 'entailment'], [213, 'entailment'], [214, 'entailment'], [215, 'entailment'], [216, 'entailment'], [217, 'entailment'], [218, 'entailment'], [219, 'entailment'], [220, 'entailment'], [221, 'entailment'], [222, 'entailment'], [223, 'entailment'], [224, 'entailment'], [225, 'entailment'], [226, 'entailment'], [227, 'entailment'], [228, 'entailment'], [229, 'entailment'], [230, 'entailment'], [231, 'entailment'], [232, 'entailment'], [233, 'entailment'], [234, 'entailment'], [235, 'entailment'], [236, 'entailment'], [237, 'entailment'], [238, 'entailment'], [239, 'entailment'], [240, 'entailment'], [241, 'entailment'], [242, 'entailment'], [243, 'entailment'], [244, 'entailment'], [245, 'entailment'], [246, 'entailment'], [247, 'entailment'], [248, 'entailment'], [249, 'entailment'], [250, 'entailment'], [251, 'entailment'], [252, 'entailment'], [253, 'entailment'], [254, 'entailment'], [255, 'entailment'], [256, 'entailment'], [257, 'entailment'], [258, 'entailment'], [259, 'entailment'], [260, 'entailment'], [261, 'entailment'], [262, 'entailment'], [263, 'entailment'], [264, 'entailment'], [265, 'entailment'], [266, 'entailment'], [267, 'entailment'], [268, 'entailment'], [269, 'entailment'], [270, 'entailment'], [271, 'entailment'], [272, 'entailment'], [273, 'entailment'], [274, 'entailment'], [275, 'entailment'], [276, 'entailment'], [277, 'entailment'], [278, 'entailment'], [279, 'entailment'], [280, 'entailment'], [281, 'entailment'], [282, 'entailment'], [283, 'entailment'], [284, 'entailment'], [285, 'entailment'], [286, 'entailment'], [287, 'entailment'], [288, 'entailment'], [289, 'entailment'], [290, 'entailment'], [291, 'entailment'], [292, 'entailment'], [293, 'entailment'], [294, 'entailment'], [295, 'entailment'], [296, 'entailment'], [297, 'entailment'], [298, 'entailment'], [299, 'entailment'], [300, 'entailment'], [301, 'entailment'], [302, 'entailment'], [303, 'entailment'], [304, 'entailment'], [305, 'entailment'], [306, 'entailment'], [307, 'entailment'], [308, 'entailment'], [309, 'entailment'], [310, 'entailment'], [311, 'entailment'], [312, 'entailment'], [313, 'entailment'], [314, 'entailment'], [315, 'entailment'], [316, 'entailment'], [317, 'entailment'], [318, 'entailment'], [319, 'entailment'], [320, 'entailment'], [321, 'entailment'], [322, 'entailment'], [323, 'entailment'], [324, 'entailment'], [325, 'entailment'], [326, 'entailment'], [327, 'entailment'], [328, 'entailment'], [329, 'entailment'], [330, 'entailment'], [331, 'entailment'], [332, 'entailment'], [333, 'entailment'], [334, 'entailment'], [335, 'entailment'], [336, 'entailment'], [337, 'entailment'], [338, 'entailment'], [339, 'entailment'], [340, 'entailment'], [341, 'entailment'], [342, 'entailment'], [343, 'entailment'], [344, 'entailment'], [345, 'entailment'], [346, 'entailment'], [347, 'entailment'], [348, 'entailment'], [349, 'entailment'], [350, 'entailment'], [351, 'entailment'], [352, 'entailment'], [353, 'entailment'], [354, 'entailment'], [355, 'entailment'], [356, 'entailment'], [357, 'entailment'], [358, 'entailment'], [359, 'entailment'], [360, 'entailment'], [361, 'entailment'], [362, 'entailment'], [363, 'entailment'], [364, 'entailment'], [365, 'entailment'], [366, 'entailment'], [367, 'entailment'], [368, 'entailment'], [369, 'entailment'], [370, 'entailment'], [371, 'entailment'], [372, 'entailment'], [373, 'entailment'], [374, 'entailment'], [375, 'entailment'], [376, 'entailment'], [377, 'entailment'], [378, 'entailment'], [379, 'entailment'], [380, 'entailment'], [381, 'entailment'], [382, 'entailment'], [383, 'entailment'], [384, 'entailment'], [385, 'entailment'], [386, 'entailment'], [387, 'entailment'], [388, 'entailment'], [389, 'entailment'], [390, 'entailment'], [391, 'entailment'], [392, 'entailment'], [393, 'entailment'], [394, 'entailment'], [395, 'entailment'], [396, 'entailment'], [397, 'entailment'], [398, 'entailment'], [399, 'entailment'], [400, 'entailment'], [401, 'entailment'], [402, 'entailment'], [403, 'entailment'], [404, 'entailment'], [405, 'entailment'], [406, 'entailment'], [407, 'entailment'], [408, 'entailment'], [409, 'entailment'], [410, 'entailment'], [411, 'entailment'], [412, 'entailment'], [413, 'entailment'], [414, 'entailment'], [415, 'entailment'], [416, 'entailment'], [417, 'entailment'], [418, 'entailment'], [419, 'entailment'], [420, 'entailment'], [421, 'entailment'], [422, 'entailment'], [423, 'entailment'], [424, 'entailment'], [425, 'entailment'], [426, 'entailment'], [427, 'entailment'], [428, 'entailment'], [429, 'entailment'], [430, 'entailment'], [431, 'entailment'], [432, 'entailment'], [433, 'entailment'], [434, 'entailment'], [435, 'entailment'], [436, 'entailment'], [437, 'entailment'], [438, 'entailment'], [439, 'entailment'], [440, 'entailment'], [441, 'entailment'], [442, 'entailment'], [443, 'entailment'], [444, 'entailment'], [445, 'entailment'], [446, 'entailment'], [447, 'entailment'], [448, 'entailment'], [449, 'entailment'], [450, 'entailment'], [451, 'entailment'], [452, 'entailment'], [453, 'entailment'], [454, 'entailment'], [455, 'entailment'], [456, 'entailment'], [457, 'entailment'], [458, 'entailment'], [459, 'entailment'], [460, 'entailment'], [461, 'entailment'], [462, 'entailment'], [463, 'entailment'], [464, 'entailment'], [465, 'entailment'], [466, 'entailment'], [467, 'entailment'], [468, 'entailment'], [469, 'entailment'], [470, 'entailment'], [471, 'entailment'], [472, 'entailment'], [473, 'entailment'], [474, 'entailment'], [475, 'entailment'], [476, 'entailment'], [477, 'entailment'], [478, 'entailment'], [479, 'entailment'], [480, 'entailment'], [481, 'entailment'], [482, 'entailment'], [483, 'entailment'], [484, 'entailment'], [485, 'entailment'], [486, 'entailment'], [487, 'entailment'], [488, 'entailment'], [489, 'entailment'], [490, 'entailment'], [491, 'entailment'], [492, 'entailment'], [493, 'entailment'], [494, 'entailment'], [495, 'entailment'], [496, 'entailment'], [497, 'entailment'], [498, 'entailment'], [499, 'entailment'], [500, 'entailment'], [501, 'entailment'], [502, 'entailment'], [503, 'entailment'], [504, 'entailment'], [505, 'entailment'], [506, 'entailment'], [507, 'entailment'], [508, 'entailment'], [509, 'entailment'], [510, 'entailment'], [511, 'entailment'], [512, 'entailment'], [513, 'entailment'], [514, 'entailment'], [515, 'entailment'], [516, 'entailment'], [517, 'entailment'], [518, 'entailment'], [519, 'entailment'], [520, 'entailment'], [521, 'entailment'], [522, 'entailment'], [523, 'entailment'], [524, 'entailment'], [525, 'entailment'], [526, 'entailment'], [527, 'entailment'], [528, 'entailment'], [529, 'entailment'], [530, 'entailment'], [531, 'entailment'], [532, 'entailment'], [533, 'entailment'], [534, 'entailment'], [535, 'entailment'], [536, 'entailment'], [537, 'entailment'], [538, 'entailment'], [539, 'entailment'], [540, 'entailment'], [541, 'entailment'], [542, 'entailment'], [543, 'entailment'], [544, 'entailment'], [545, 'entailment'], [546, 'entailment'], [547, 'entailment'], [548, 'entailment'], [549, 'entailment'], [550, 'entailment'], [551, 'entailment'], [552, 'entailment'], [553, 'entailment'], [554, 'entailment'], [555, 'entailment'], [556, 'entailment'], [557, 'entailment'], [558, 'entailment'], [559, 'entailment'], [560, 'entailment'], [561, 'entailment'], [562, 'entailment'], [563, 'entailment'], [564, 'entailment'], [565, 'entailment'], [566, 'entailment'], [567, 'entailment'], [568, 'entailment'], [569, 'entailment'], [570, 'entailment'], [571, 'entailment'], [572, 'entailment'], [573, 'entailment'], [574, 'entailment'], [575, 'entailment'], [576, 'entailment'], [577, 'entailment'], [578, 'entailment'], [579, 'entailment'], [580, 'entailment'], [581, 'entailment'], [582, 'entailment'], [583, 'entailment'], [584, 'entailment'], [585, 'entailment'], [586, 'entailment'], [587, 'entailment'], [588, 'entailment'], [589, 'entailment'], [590, 'entailment'], [591, 'entailment'], [592, 'entailment'], [593, 'entailment'], [594, 'entailment'], [595, 'entailment'], [596, 'entailment'], [597, 'entailment'], [598, 'entailment'], [599, 'entailment'], [600, 'entailment'], [601, 'entailment'], [602, 'entailment'], [603, 'entailment'], [604, 'entailment'], [605, 'entailment'], [606, 'entailment'], [607, 'entailment'], [608, 'entailment'], [609, 'entailment'], [610, 'entailment'], [611, 'entailment'], [612, 'entailment'], [613, 'entailment'], [614, 'entailment'], [615, 'entailment'], [616, 'entailment'], [617, 'entailment'], [618, 'entailment'], [619, 'entailment'], [620, 'entailment'], [621, 'entailment'], [622, 'entailment'], [623, 'entailment'], [624, 'entailment'], [625, 'entailment'], [626, 'entailment'], [627, 'entailment'], [628, 'entailment'], [629, 'entailment'], [630, 'entailment'], [631, 'entailment'], [632, 'entailment'], [633, 'entailment'], [634, 'entailment'], [635, 'entailment'], [636, 'entailment'], [637, 'entailment'], [638, 'entailment'], [639, 'entailment'], [640, 'entailment'], [641, 'entailment'], [642, 'entailment'], [643, 'entailment'], [644, 'entailment'], [645, 'entailment'], [646, 'entailment'], [647, 'entailment'], [648, 'entailment'], [649, 'entailment'], [650, 'entailment'], [651, 'entailment'], [652, 'entailment'], [653, 'entailment'], [654, 'entailment'], [655, 'entailment'], [656, 'entailment'], [657, 'entailment'], [658, 'entailment'], [659, 'entailment'], [660, 'entailment'], [661, 'entailment'], [662, 'entailment'], [663, 'entailment'], [664, 'entailment'], [665, 'entailment'], [666, 'entailment'], [667, 'entailment'], [668, 'entailment'], [669, 'entailment'], [670, 'entailment'], [671, 'entailment'], [672, 'entailment'], [673, 'entailment'], [674, 'entailment'], [675, 'entailment'], [676, 'entailment'], [677, 'entailment'], [678, 'entailment'], [679, 'entailment'], [680, 'entailment'], [681, 'entailment'], [682, 'entailment'], [683, 'entailment'], [684, 'entailment'], [685, 'entailment'], [686, 'entailment'], [687, 'entailment'], [688, 'entailment'], [689, 'entailment'], [690, 'entailment'], [691, 'entailment'], [692, 'entailment'], [693, 'entailment'], [694, 'entailment'], [695, 'entailment'], [696, 'entailment'], [697, 'entailment'], [698, 'entailment'], [699, 'entailment'], [700, 'entailment'], [701, 'entailment'], [702, 'entailment'], [703, 'entailment'], [704, 'entailment'], [705, 'entailment'], [706, 'entailment'], [707, 'entailment'], [708, 'entailment'], [709, 'entailment'], [710, 'entailment'], [711, 'entailment'], [712, 'entailment'], [713, 'entailment'], [714, 'entailment'], [715, 'entailment'], [716, 'entailment'], [717, 'entailment'], [718, 'entailment'], [719, 'entailment'], [720, 'entailment'], [721, 'entailment'], [722, 'entailment'], [723, 'entailment'], [724, 'entailment'], [725, 'entailment'], [726, 'entailment'], [727, 'entailment'], [728, 'entailment'], [729, 'entailment'], [730, 'entailment'], [731, 'entailment'], [732, 'entailment'], [733, 'entailment'], [734, 'entailment'], [735, 'entailment'], [736, 'entailment'], [737, 'entailment'], [738, 'entailment'], [739, 'entailment'], [740, 'entailment'], [741, 'entailment'], [742, 'entailment'], [743, 'entailment'], [744, 'entailment'], [745, 'entailment'], [746, 'entailment'], [747, 'entailment'], [748, 'entailment'], [749, 'entailment'], [750, 'entailment'], [751, 'entailment'], [752, 'entailment'], [753, 'entailment'], [754, 'entailment'], [755, 'entailment'], [756, 'entailment'], [757, 'entailment'], [758, 'entailment'], [759, 'entailment'], [760, 'entailment'], [761, 'entailment'], [762, 'entailment'], [763, 'entailment'], [764, 'entailment'], [765, 'entailment'], [766, 'entailment'], [767, 'entailment'], [768, 'entailment'], [769, 'entailment'], [770, 'entailment'], [771, 'entailment'], [772, 'entailment'], [773, 'entailment'], [774, 'entailment'], [775, 'entailment'], [776, 'entailment'], [777, 'entailment'], [778, 'entailment'], [779, 'entailment'], [780, 'entailment'], [781, 'entailment'], [782, 'entailment'], [783, 'entailment'], [784, 'entailment'], [785, 'entailment'], [786, 'entailment'], [787, 'entailment'], [788, 'entailment'], [789, 'entailment'], [790, 'entailment'], [791, 'entailment'], [792, 'entailment'], [793, 'entailment'], [794, 'entailment'], [795, 'entailment'], [796, 'entailment'], [797, 'entailment'], [798, 'entailment'], [799, 'entailment'], [800, 'entailment'], [801, 'entailment'], [802, 'entailment'], [803, 'entailment'], [804, 'entailment'], [805, 'entailment'], [806, 'entailment'], [807, 'entailment'], [808, 'entailment'], [809, 'entailment'], [810, 'entailment'], [811, 'entailment'], [812, 'entailment'], [813, 'entailment'], [814, 'entailment'], [815, 'entailment'], [816, 'entailment'], [817, 'entailment'], [818, 'entailment'], [819, 'entailment'], [820, 'entailment'], [821, 'entailment'], [822, 'entailment'], [823, 'entailment'], [824, 'entailment'], [825, 'entailment'], [826, 'entailment'], [827, 'entailment'], [828, 'entailment'], [829, 'entailment'], [830, 'entailment'], [831, 'entailment'], [832, 'entailment'], [833, 'entailment'], [834, 'entailment'], [835, 'entailment'], [836, 'entailment'], [837, 'entailment'], [838, 'entailment'], [839, 'entailment'], [840, 'entailment'], [841, 'entailment'], [842, 'entailment'], [843, 'entailment'], [844, 'entailment'], [845, 'entailment'], [846, 'entailment'], [847, 'entailment'], [848, 'entailment'], [849, 'entailment'], [850, 'entailment'], [851, 'entailment'], [852, 'entailment'], [853, 'entailment'], [854, 'entailment'], [855, 'entailment'], [856, 'entailment'], [857, 'entailment'], [858, 'entailment'], [859, 'entailment'], [860, 'entailment'], [861, 'entailment'], [862, 'entailment'], [863, 'entailment'], [864, 'entailment'], [865, 'entailment'], [866, 'entailment'], [867, 'entailment'], [868, 'entailment'], [869, 'entailment'], [870, 'entailment'], [871, 'entailment'], [872, 'entailment'], [873, 'entailment'], [874, 'entailment'], [875, 'entailment'], [876, 'entailment'], [877, 'entailment'], [878, 'entailment'], [879, 'entailment'], [880, 'entailment'], [881, 'entailment'], [882, 'entailment'], [883, 'entailment'], [884, 'entailment'], [885, 'entailment'], [886, 'entailment'], [887, 'entailment'], [888, 'entailment'], [889, 'entailment'], [890, 'entailment'], [891, 'entailment'], [892, 'entailment'], [893, 'entailment'], [894, 'entailment'], [895, 'entailment'], [896, 'entailment'], [897, 'entailment'], [898, 'entailment'], [899, 'entailment'], [900, 'entailment'], [901, 'entailment'], [902, 'entailment'], [903, 'entailment'], [904, 'entailment'], [905, 'entailment'], [906, 'entailment'], [907, 'entailment'], [908, 'entailment'], [909, 'entailment'], [910, 'entailment'], [911, 'entailment'], [912, 'entailment'], [913, 'entailment'], [914, 'entailment'], [915, 'entailment'], [916, 'entailment'], [917, 'entailment'], [918, 'entailment'], [919, 'entailment'], [920, 'entailment'], [921, 'entailment'], [922, 'entailment'], [923, 'entailment'], [924, 'entailment'], [925, 'entailment'], [926, 'entailment'], [927, 'entailment'], [928, 'entailment'], [929, 'entailment'], [930, 'entailment'], [931, 'entailment'], [932, 'entailment'], [933, 'entailment'], [934, 'entailment'], [935, 'entailment'], [936, 'entailment'], [937, 'entailment'], [938, 'entailment'], [939, 'entailment'], [940, 'entailment'], [941, 'entailment'], [942, 'entailment'], [943, 'entailment'], [944, 'entailment'], [945, 'entailment'], [946, 'entailment'], [947, 'entailment'], [948, 'entailment'], [949, 'entailment'], [950, 'entailment'], [951, 'entailment'], [952, 'entailment'], [953, 'entailment'], [954, 'entailment'], [955, 'entailment'], [956, 'entailment'], [957, 'entailment'], [958, 'entailment'], [959, 'entailment'], [960, 'entailment'], [961, 'entailment'], [962, 'entailment'], [963, 'entailment'], [964, 'entailment'], [965, 'entailment'], [966, 'entailment'], [967, 'entailment'], [968, 'entailment'], [969, 'entailment'], [970, 'entailment'], [971, 'entailment'], [972, 'entailment'], [973, 'entailment'], [974, 'entailment'], [975, 'entailment'], [976, 'entailment'], [977, 'entailment'], [978, 'entailment'], [979, 'entailment'], [980, 'entailment'], [981, 'entailment'], [982, 'entailment'], [983, 'entailment'], [984, 'entailment'], [985, 'entailment'], [986, 'entailment'], [987, 'entailment'], [988, 'entailment'], [989, 'entailment'], [990, 'entailment'], [991, 'entailment'], [992, 'entailment'], [993, 'entailment'], [994, 'entailment'], [995, 'entailment'], [996, 'entailment'], [997, 'entailment'], [998, 'entailment'], [999, 'entailment'], [1000, 'entailment'], [1001, 'entailment'], [1002, 'entailment'], [1003, 'entailment'], [1004, 'entailment'], [1005, 'entailment'], [1006, 'entailment'], [1007, 'entailment'], [1008, 'entailment'], [1009, 'entailment'], [1010, 'entailment'], [1011, 'entailment'], [1012, 'entailment'], [1013, 'entailment'], [1014, 'entailment'], [1015, 'entailment'], [1016, 'entailment'], [1017, 'entailment'], [1018, 'entailment'], [1019, 'entailment'], [1020, 'entailment'], [1021, 'entailment'], [1022, 'entailment'], [1023, 'entailment'], [1024, 'entailment'], [1025, 'entailment'], [1026, 'entailment'], [1027, 'entailment'], [1028, 'entailment'], [1029, 'entailment'], [1030, 'entailment'], [1031, 'entailment'], [1032, 'entailment'], [1033, 'entailment'], [1034, 'entailment'], [1035, 'entailment'], [1036, 'entailment'], [1037, 'entailment'], [1038, 'entailment'], [1039, 'entailment'], [1040, 'entailment'], [1041, 'entailment'], [1042, 'entailment'], [1043, 'entailment'], [1044, 'entailment'], [1045, 'entailment'], [1046, 'entailment'], [1047, 'entailment'], [1048, 'entailment'], [1049, 'entailment'], [1050, 'entailment'], [1051, 'entailment'], [1052, 'entailment'], [1053, 'entailment'], [1054, 'entailment'], [1055, 'entailment'], [1056, 'entailment'], [1057, 'entailment'], [1058, 'entailment'], [1059, 'entailment'], [1060, 'entailment'], [1061, 'entailment'], [1062, 'entailment'], [1063, 'entailment'], [1064, 'entailment'], [1065, 'entailment'], [1066, 'entailment'], [1067, 'entailment'], [1068, 'entailment'], [1069, 'entailment'], [1070, 'entailment'], [1071, 'entailment'], [1072, 'entailment'], [1073, 'entailment'], [1074, 'entailment'], [1075, 'entailment'], [1076, 'entailment'], [1077, 'entailment'], [1078, 'entailment'], [1079, 'entailment'], [1080, 'entailment'], [1081, 'entailment'], [1082, 'entailment'], [1083, 'entailment'], [1084, 'entailment'], [1085, 'entailment'], [1086, 'entailment'], [1087, 'entailment'], [1088, 'entailment'], [1089, 'entailment'], [1090, 'entailment'], [1091, 'entailment'], [1092, 'entailment'], [1093, 'entailment'], [1094, 'entailment'], [1095, 'entailment'], [1096, 'entailment'], [1097, 'entailment'], [1098, 'entailment'], [1099, 'entailment'], [1100, 'entailment'], [1101, 'entailment'], [1102, 'entailment'], [1103, 'entailment'], [1104, 'entailment'], [1105, 'entailment'], [1106, 'entailment'], [1107, 'entailment'], [1108, 'entailment'], [1109, 'entailment'], [1110, 'entailment'], [1111, 'entailment'], [1112, 'entailment'], [1113, 'entailment'], [1114, 'entailment'], [1115, 'entailment'], [1116, 'entailment'], [1117, 'entailment'], [1118, 'entailment'], [1119, 'entailment'], [1120, 'entailment'], [1121, 'entailment'], [1122, 'entailment'], [1123, 'entailment'], [1124, 'entailment'], [1125, 'entailment'], [1126, 'entailment'], [1127, 'entailment'], [1128, 'entailment'], [1129, 'entailment'], [1130, 'entailment'], [1131, 'entailment'], [1132, 'entailment'], [1133, 'entailment'], [1134, 'entailment'], [1135, 'entailment'], [1136, 'entailment'], [1137, 'entailment'], [1138, 'entailment'], [1139, 'entailment'], [1140, 'entailment'], [1141, 'entailment'], [1142, 'entailment'], [1143, 'entailment'], [1144, 'entailment'], [1145, 'entailment'], [1146, 'entailment'], [1147, 'entailment'], [1148, 'entailment'], [1149, 'entailment'], [1150, 'entailment'], [1151, 'entailment'], [1152, 'entailment'], [1153, 'entailment'], [1154, 'entailment'], [1155, 'entailment'], [1156, 'entailment'], [1157, 'entailment'], [1158, 'entailment'], [1159, 'entailment'], [1160, 'entailment'], [1161, 'entailment'], [1162, 'entailment'], [1163, 'entailment'], [1164, 'entailment'], [1165, 'entailment'], [1166, 'entailment'], [1167, 'entailment'], [1168, 'entailment'], [1169, 'entailment'], [1170, 'entailment'], [1171, 'entailment'], [1172, 'entailment'], [1173, 'entailment'], [1174, 'entailment'], [1175, 'entailment'], [1176, 'entailment'], [1177, 'entailment'], [1178, 'entailment'], [1179, 'entailment'], [1180, 'entailment'], [1181, 'entailment'], [1182, 'entailment'], [1183, 'entailment'], [1184, 'entailment'], [1185, 'entailment'], [1186, 'entailment'], [1187, 'entailment'], [1188, 'entailment'], [1189, 'entailment'], [1190, 'entailment'], [1191, 'entailment'], [1192, 'entailment'], [1193, 'entailment'], [1194, 'entailment'], [1195, 'entailment'], [1196, 'entailment'], [1197, 'entailment'], [1198, 'entailment'], [1199, 'entailment'], [1200, 'entailment'], [1201, 'entailment'], [1202, 'entailment'], [1203, 'entailment'], [1204, 'entailment'], [1205, 'entailment'], [1206, 'entailment'], [1207, 'entailment'], [1208, 'entailment'], [1209, 'entailment'], [1210, 'entailment'], [1211, 'entailment'], [1212, 'entailment'], [1213, 'entailment'], [1214, 'entailment'], [1215, 'entailment'], [1216, 'entailment'], [1217, 'entailment'], [1218, 'entailment'], [1219, 'entailment'], [1220, 'entailment'], [1221, 'entailment'], [1222, 'entailment'], [1223, 'entailment'], [1224, 'entailment'], [1225, 'entailment'], [1226, 'entailment'], [1227, 'entailment'], [1228, 'entailment'], [1229, 'entailment'], [1230, 'entailment'], [1231, 'entailment'], [1232, 'entailment'], [1233, 'entailment'], [1234, 'entailment'], [1235, 'entailment'], [1236, 'entailment'], [1237, 'entailment'], [1238, 'entailment'], [1239, 'entailment'], [1240, 'entailment'], [1241, 'entailment'], [1242, 'entailment'], [1243, 'entailment'], [1244, 'entailment'], [1245, 'entailment'], [1246, 'entailment'], [1247, 'entailment'], [1248, 'entailment'], [1249, 'entailment'], [1250, 'entailment'], [1251, 'entailment'], [1252, 'entailment'], [1253, 'entailment'], [1254, 'entailment'], [1255, 'entailment'], [1256, 'entailment'], [1257, 'entailment'], [1258, 'entailment'], [1259, 'entailment'], [1260, 'entailment'], [1261, 'entailment'], [1262, 'entailment'], [1263, 'entailment'], [1264, 'entailment'], [1265, 'entailment'], [1266, 'entailment'], [1267, 'entailment'], [1268, 'entailment'], [1269, 'entailment'], [1270, 'entailment'], [1271, 'entailment'], [1272, 'entailment'], [1273, 'entailment'], [1274, 'entailment'], [1275, 'entailment'], [1276, 'entailment'], [1277, 'entailment'], [1278, 'entailment'], [1279, 'entailment'], [1280, 'entailment'], [1281, 'entailment'], [1282, 'entailment'], [1283, 'entailment'], [1284, 'entailment'], [1285, 'entailment'], [1286, 'entailment'], [1287, 'entailment'], [1288, 'entailment'], [1289, 'entailment'], [1290, 'entailment'], [1291, 'entailment'], [1292, 'entailment'], [1293, 'entailment'], [1294, 'entailment'], [1295, 'entailment'], [1296, 'entailment'], [1297, 'entailment'], [1298, 'entailment'], [1299, 'entailment'], [1300, 'entailment'], [1301, 'entailment'], [1302, 'entailment'], [1303, 'entailment'], [1304, 'entailment'], [1305, 'entailment'], [1306, 'entailment'], [1307, 'entailment'], [1308, 'entailment'], [1309, 'entailment'], [1310, 'entailment'], [1311, 'entailment'], [1312, 'entailment'], [1313, 'entailment'], [1314, 'entailment'], [1315, 'entailment'], [1316, 'entailment'], [1317, 'entailment'], [1318, 'entailment'], [1319, 'entailment'], [1320, 'entailment'], [1321, 'entailment'], [1322, 'entailment'], [1323, 'entailment'], [1324, 'entailment'], [1325, 'entailment'], [1326, 'entailment'], [1327, 'entailment'], [1328, 'entailment'], [1329, 'entailment'], [1330, 'entailment'], [1331, 'entailment'], [1332, 'entailment'], [1333, 'entailment'], [1334, 'entailment'], [1335, 'entailment'], [1336, 'entailment'], [1337, 'entailment'], [1338, 'entailment'], [1339, 'entailment'], [1340, 'entailment'], [1341, 'entailment'], [1342, 'entailment'], [1343, 'entailment'], [1344, 'entailment'], [1345, 'entailment'], [1346, 'entailment'], [1347, 'entailment'], [1348, 'entailment'], [1349, 'entailment'], [1350, 'entailment'], [1351, 'entailment'], [1352, 'entailment'], [1353, 'entailment'], [1354, 'entailment'], [1355, 'entailment'], [1356, 'entailment'], [1357, 'entailment'], [1358, 'entailment'], [1359, 'entailment'], [1360, 'entailment'], [1361, 'entailment'], [1362, 'entailment'], [1363, 'entailment'], [1364, 'entailment'], [1365, 'entailment'], [1366, 'entailment'], [1367, 'entailment'], [1368, 'entailment'], [1369, 'entailment'], [1370, 'entailment'], [1371, 'entailment'], [1372, 'entailment'], [1373, 'entailment'], [1374, 'entailment'], [1375, 'entailment'], [1376, 'entailment'], [1377, 'entailment'], [1378, 'entailment'], [1379, 'entailment'], [1380, 'entailment'], [1381, 'entailment'], [1382, 'entailment'], [1383, 'entailment'], [1384, 'entailment'], [1385, 'entailment'], [1386, 'entailment'], [1387, 'entailment'], [1388, 'entailment'], [1389, 'entailment'], [1390, 'entailment'], [1391, 'entailment'], [1392, 'entailment'], [1393, 'entailment'], [1394, 'entailment'], [1395, 'entailment'], [1396, 'entailment'], [1397, 'entailment'], [1398, 'entailment'], [1399, 'entailment'], [1400, 'entailment'], [1401, 'entailment'], [1402, 'entailment'], [1403, 'entailment'], [1404, 'entailment'], [1405, 'entailment'], [1406, 'entailment'], [1407, 'entailment'], [1408, 'entailment'], [1409, 'entailment'], [1410, 'entailment'], [1411, 'entailment'], [1412, 'entailment'], [1413, 'entailment'], [1414, 'entailment'], [1415, 'entailment'], [1416, 'entailment'], [1417, 'entailment'], [1418, 'entailment'], [1419, 'entailment'], [1420, 'entailment'], [1421, 'entailment'], [1422, 'entailment'], [1423, 'entailment'], [1424, 'entailment'], [1425, 'entailment'], [1426, 'entailment'], [1427, 'entailment'], [1428, 'entailment'], [1429, 'entailment'], [1430, 'entailment'], [1431, 'entailment'], [1432, 'entailment'], [1433, 'entailment'], [1434, 'entailment'], [1435, 'entailment'], [1436, 'entailment'], [1437, 'entailment'], [1438, 'entailment'], [1439, 'entailment'], [1440, 'entailment'], [1441, 'entailment'], [1442, 'entailment'], [1443, 'entailment'], [1444, 'entailment'], [1445, 'entailment'], [1446, 'entailment'], [1447, 'entailment'], [1448, 'entailment'], [1449, 'entailment'], [1450, 'entailment'], [1451, 'entailment'], [1452, 'entailment'], [1453, 'entailment'], [1454, 'entailment'], [1455, 'entailment'], [1456, 'entailment'], [1457, 'entailment'], [1458, 'entailment'], [1459, 'entailment'], [1460, 'entailment'], [1461, 'entailment'], [1462, 'entailment'], [1463, 'entailment'], [1464, 'entailment'], [1465, 'entailment'], [1466, 'entailment'], [1467, 'entailment'], [1468, 'entailment'], [1469, 'entailment'], [1470, 'entailment'], [1471, 'entailment'], [1472, 'entailment'], [1473, 'entailment'], [1474, 'entailment'], [1475, 'entailment'], [1476, 'entailment'], [1477, 'entailment'], [1478, 'entailment'], [1479, 'entailment'], [1480, 'entailment'], [1481, 'entailment'], [1482, 'entailment'], [1483, 'entailment'], [1484, 'entailment'], [1485, 'entailment'], [1486, 'entailment'], [1487, 'entailment'], [1488, 'entailment'], [1489, 'entailment'], [1490, 'entailment'], [1491, 'entailment'], [1492, 'entailment'], [1493, 'entailment'], [1494, 'entailment'], [1495, 'entailment'], [1496, 'entailment'], [1497, 'entailment'], [1498, 'entailment'], [1499, 'entailment'], [1500, 'entailment'], [1501, 'entailment'], [1502, 'entailment'], [1503, 'entailment'], [1504, 'entailment'], [1505, 'entailment'], [1506, 'entailment'], [1507, 'entailment'], [1508, 'entailment'], [1509, 'entailment'], [1510, 'entailment'], [1511, 'entailment'], [1512, 'entailment'], [1513, 'entailment'], [1514, 'entailment'], [1515, 'entailment'], [1516, 'entailment'], [1517, 'entailment'], [1518, 'entailment'], [1519, 'entailment'], [1520, 'entailment'], [1521, 'entailment'], [1522, 'entailment'], [1523, 'entailment'], [1524, 'entailment'], [1525, 'entailment'], [1526, 'entailment'], [1527, 'entailment'], [1528, 'entailment'], [1529, 'entailment'], [1530, 'entailment'], [1531, 'entailment'], [1532, 'entailment'], [1533, 'entailment'], [1534, 'entailment'], [1535, 'entailment'], [1536, 'entailment'], [1537, 'entailment'], [1538, 'entailment'], [1539, 'entailment'], [1540, 'entailment'], [1541, 'entailment'], [1542, 'entailment'], [1543, 'entailment'], [1544, 'entailment'], [1545, 'entailment'], [1546, 'entailment'], [1547, 'entailment'], [1548, 'entailment'], [1549, 'entailment'], [1550, 'entailment'], [1551, 'entailment'], [1552, 'entailment'], [1553, 'entailment'], [1554, 'entailment'], [1555, 'entailment'], [1556, 'entailment'], [1557, 'entailment'], [1558, 'entailment'], [1559, 'entailment'], [1560, 'entailment'], [1561, 'entailment'], [1562, 'entailment'], [1563, 'entailment'], [1564, 'entailment'], [1565, 'entailment'], [1566, 'entailment'], [1567, 'entailment'], [1568, 'entailment'], [1569, 'entailment'], [1570, 'entailment'], [1571, 'entailment'], [1572, 'entailment'], [1573, 'entailment'], [1574, 'entailment'], [1575, 'entailment'], [1576, 'entailment'], [1577, 'entailment'], [1578, 'entailment'], [1579, 'entailment'], [1580, 'entailment'], [1581, 'entailment'], [1582, 'entailment'], [1583, 'entailment'], [1584, 'entailment'], [1585, 'entailment'], [1586, 'entailment'], [1587, 'entailment'], [1588, 'entailment'], [1589, 'entailment'], [1590, 'entailment'], [1591, 'entailment'], [1592, 'entailment'], [1593, 'entailment'], [1594, 'entailment'], [1595, 'entailment'], [1596, 'entailment'], [1597, 'entailment'], [1598, 'entailment'], [1599, 'entailment'], [1600, 'entailment'], [1601, 'entailment'], [1602, 'entailment'], [1603, 'entailment'], [1604, 'entailment'], [1605, 'entailment'], [1606, 'entailment'], [1607, 'entailment'], [1608, 'entailment'], [1609, 'entailment'], [1610, 'entailment'], [1611, 'entailment'], [1612, 'entailment'], [1613, 'entailment'], [1614, 'entailment'], [1615, 'entailment'], [1616, 'entailment'], [1617, 'entailment'], [1618, 'entailment'], [1619, 'entailment'], [1620, 'entailment'], [1621, 'entailment'], [1622, 'entailment'], [1623, 'entailment'], [1624, 'entailment'], [1625, 'entailment'], [1626, 'entailment'], [1627, 'entailment'], [1628, 'entailment'], [1629, 'entailment'], [1630, 'entailment'], [1631, 'entailment'], [1632, 'entailment'], [1633, 'entailment'], [1634, 'entailment'], [1635, 'entailment'], [1636, 'entailment'], [1637, 'entailment'], [1638, 'entailment'], [1639, 'entailment'], [1640, 'entailment'], [1641, 'entailment'], [1642, 'entailment'], [1643, 'entailment'], [1644, 'entailment'], [1645, 'entailment'], [1646, 'entailment'], [1647, 'entailment'], [1648, 'entailment'], [1649, 'entailment'], [1650, 'entailment'], [1651, 'entailment'], [1652, 'entailment'], [1653, 'entailment'], [1654, 'entailment'], [1655, 'entailment'], [1656, 'entailment'], [1657, 'entailment'], [1658, 'entailment'], [1659, 'entailment'], [1660, 'entailment'], [1661, 'entailment'], [1662, 'entailment'], [1663, 'entailment'], [1664, 'entailment'], [1665, 'entailment']]\n"
          ]
        }
      ],
      "source": [
        "def num_to_label(label):\n",
        "    label_dict = {0: \"entailment\", 1: \"contradiction\", 2: \"neutral\"}\n",
        "    str_label = []\n",
        "\n",
        "    for i, v in enumerate(label):\n",
        "        str_label.append([i,label_dict[v]])\n",
        "    \n",
        "    return str_label\n",
        "\n",
        "answer = num_to_label(pred_answer)\n",
        "print(answer)"
      ]
    },
    {
      "cell_type": "code",
      "execution_count": 34,
      "metadata": {
        "colab": {
          "base_uri": "https://localhost:8080/"
        },
        "id": "Vg9PXCpWjDn2",
        "outputId": "98fcab84-2f26-44c8-daf1-28b28cafd514"
      },
      "outputs": [
        {
          "name": "stdout",
          "output_type": "stream",
          "text": [
            "      index       label\n",
            "0         0  entailment\n",
            "1         1  entailment\n",
            "2         2  entailment\n",
            "3         3  entailment\n",
            "4         4  entailment\n",
            "...     ...         ...\n",
            "1661   1661  entailment\n",
            "1662   1662  entailment\n",
            "1663   1663  entailment\n",
            "1664   1664  entailment\n",
            "1665   1665  entailment\n",
            "\n",
            "[1666 rows x 2 columns]\n"
          ]
        }
      ],
      "source": [
        "df = pd.DataFrame(answer, columns=['index', 'label'])\n",
        "\n",
        "df.to_csv('./result/submission.csv', index=False)\n",
        "\n",
        "print(df)"
      ]
    }
  ],
  "metadata": {
    "accelerator": "GPU",
    "colab": {
      "collapsed_sections": [],
      "provenance": []
    },
    "gpuClass": "standard",
    "kernelspec": {
      "display_name": "Python 3.8.13 ('struggle')",
      "language": "python",
      "name": "python3"
    },
    "language_info": {
      "codemirror_mode": {
        "name": "ipython",
        "version": 3
      },
      "file_extension": ".py",
      "mimetype": "text/x-python",
      "name": "python",
      "nbconvert_exporter": "python",
      "pygments_lexer": "ipython3",
      "version": "3.8.13"
    },
    "orig_nbformat": 4,
    "vscode": {
      "interpreter": {
        "hash": "c014defca481e07b590e8e37c9be8c5cc93d6e595cb3271c6e722904d1c7641d"
      }
    }
  },
  "nbformat": 4,
  "nbformat_minor": 0
}
