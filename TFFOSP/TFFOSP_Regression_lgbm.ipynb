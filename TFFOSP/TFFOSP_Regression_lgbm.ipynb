{
 "cells": [
  {
   "cell_type": "markdown",
   "metadata": {},
   "source": [
    "# DACON 해외 축구 선수 이적료 예측\n",
    "## Regression - LightGBM\n",
    "[참고 노트북](https://dacon.io/competitions/official/235538/codeshare/5071?page=1&dtype=recent)\n",
    "### 데이터 셋\n",
    "[DACON](https://dacon.io/competitions/open/235538/data)  \n",
    "\n",
    "### 사용 라이브러리"
   ]
  },
  {
   "cell_type": "code",
   "execution_count": 24,
   "metadata": {},
   "outputs": [],
   "source": [
    "import numpy as np\n",
    "import pandas as pd\n",
    "import seaborn as sns\n",
    "import matplotlib.pyplot as plt\n",
    "import koreanize_matplotlib\n",
    "import glob\n",
    "\n",
    "from sklearn.model_selection import train_test_split\n",
    "from sklearn.metrics import mean_squared_error, r2_score, mean_absolute_error\n",
    "from lightgbm import LGBMRegressor\n",
    "from lightgbm import plot_importance"
   ]
  },
  {
   "cell_type": "markdown",
   "metadata": {},
   "source": [
    "### Data Load"
   ]
  },
  {
   "cell_type": "code",
   "execution_count": 3,
   "metadata": {},
   "outputs": [
    {
     "data": {
      "text/plain": [
       "['data\\\\FIFA_test.csv',\n",
       " 'data\\\\FIFA_train.csv',\n",
       " 'data\\\\pre_test.csv',\n",
       " 'data\\\\pre_train.csv',\n",
       " 'data\\\\submission.csv']"
      ]
     },
     "execution_count": 3,
     "metadata": {},
     "output_type": "execute_result"
    }
   ],
   "source": [
    "path = glob.glob(\"data/*\")\n",
    "path"
   ]
  },
  {
   "cell_type": "code",
   "execution_count": 4,
   "metadata": {},
   "outputs": [
    {
     "data": {
      "text/plain": [
       "((8932, 19), (3828, 16), (3828, 2))"
      ]
     },
     "execution_count": 4,
     "metadata": {},
     "output_type": "execute_result"
    }
   ],
   "source": [
    "train = pd.read_csv(path[3])\n",
    "test = pd.read_csv(path[2])\n",
    "submit = pd.read_csv(path[4])\n",
    "\n",
    "train.shape, test.shape, submit.shape"
   ]
  },
  {
   "cell_type": "markdown",
   "metadata": {},
   "source": [
    "### Train - lgbm"
   ]
  },
  {
   "cell_type": "code",
   "execution_count": 7,
   "metadata": {},
   "outputs": [],
   "source": [
    "label = \"value_log\"\n",
    "feature_names = [\"age\", 'reputation', 'stat_overall', 'stat_potential', 'stat_skill_moves', 'asia', 'europe', 'oceania', 'south america', 'GK', 'MF', 'ST', 'right']"
   ]
  },
  {
   "cell_type": "code",
   "execution_count": 9,
   "metadata": {},
   "outputs": [
    {
     "name": "stdout",
     "output_type": "stream",
     "text": [
      "X_train: (7145, 13)\n",
      "y_train: (7145,)\n",
      "X_test: (1787, 13)\n",
      "y_test: (1787,)\n"
     ]
    }
   ],
   "source": [
    "X_train, X_test, y_train, y_test = train_test_split(train[feature_names], train[label], test_size=0.2, random_state=42)\n",
    "\n",
    "print(f\"X_train: {X_train.shape}\\ny_train: {y_train.shape}\\nX_test: {X_test.shape}\\ny_test: {y_test.shape}\")"
   ]
  },
  {
   "cell_type": "code",
   "execution_count": 23,
   "metadata": {},
   "outputs": [
    {
     "data": {
      "text/plain": [
       "LGBMRegressor(max_depth=3, metric='mse', n_estimators=400, random_state=42)"
      ]
     },
     "execution_count": 23,
     "metadata": {},
     "output_type": "execute_result"
    }
   ],
   "source": [
    "model_lgbm = LGBMRegressor(max_depth=3, n_estimators=400, learning_rate=0.1, metric=\"mse\", random_state=42)\n",
    "\n",
    "model_lgbm.fit(X_train, y_train)"
   ]
  },
  {
   "cell_type": "code",
   "execution_count": 25,
   "metadata": {},
   "outputs": [],
   "source": [
    "def reg_score(y_true, y_pred):\n",
    "    MSE = mean_squared_error(y_true, y_pred)\n",
    "    RMSE = np.sqrt(mean_squared_error(y_true,y_pred))\n",
    "    MAE = np.mean( np.abs((y_true - y_pred) / y_true) )\n",
    "    NMAE =mean_absolute_error(y_true, y_pred)/ np.mean( np.abs(y_true) )\n",
    "    MAPE = np.mean( np.abs((y_true - y_pred) / y_true) ) *100\n",
    "    R2 = r2_score(y_true, y_pred)\n",
    "  \n",
    "    return {'MSE' : np.round(MSE, 3), \n",
    "            'RMSE' : np.round(RMSE, 3),\n",
    "            'MAE' : np.round(MAE, 3),\n",
    "            'NMAE' : np.round(NMAE, 3),\n",
    "            'MAPE' : np.round(MAPE, 3),\n",
    "            'R2' : np.round(R2, 3)}\n",
    "        "
   ]
  },
  {
   "cell_type": "code",
   "execution_count": 26,
   "metadata": {},
   "outputs": [
    {
     "data": {
      "text/plain": [
       "{'MSE': 0.007,\n",
       " 'RMSE': 0.083,\n",
       " 'MAE': 0.004,\n",
       " 'NMAE': 0.004,\n",
       " 'MAPE': 0.392,\n",
       " 'R2': 0.997}"
      ]
     },
     "execution_count": 26,
     "metadata": {},
     "output_type": "execute_result"
    }
   ],
   "source": [
    "y_pred = model_lgbm.predict(X_test)\n",
    "\n",
    "reg_score(y_test, y_pred)"
   ]
  },
  {
   "cell_type": "code",
   "execution_count": 36,
   "metadata": {},
   "outputs": [
    {
     "data": {
      "image/png": "[encoded data removed]",
      "text/plain": [
       "<Figure size 432x288 with 1 Axes>"
      ]
     },
     "metadata": {
      "needs_background": "light"
     },
     "output_type": "display_data"
    }
   ],
   "source": [
    "_ = plot_importance(model_lgbm)"
   ]
  },
  {
   "cell_type": "markdown",
   "metadata": {},
   "source": [
    "### DACON 제출"
   ]
  },
  {
   "cell_type": "code",
   "execution_count": 28,
   "metadata": {},
   "outputs": [],
   "source": [
    "pred = model_lgbm.predict(test[feature_names])"
   ]
  },
  {
   "cell_type": "code",
   "execution_count": 31,
   "metadata": {},
   "outputs": [],
   "source": [
    "submit[\"value\"] = np.expm1(pred)"
   ]
  },
  {
   "cell_type": "code",
   "execution_count": 33,
   "metadata": {},
   "outputs": [],
   "source": [
    "submit.to_csv(\"submit_lgbm_rmse_083.csv\", index=False)"
   ]
  }
 ],
 "metadata": {
  "kernelspec": {
   "display_name": "Python 3.9.12 ('base')",
   "language": "python",
   "name": "python3"
  },
  "language_info": {
   "codemirror_mode": {
    "name": "ipython",
    "version": 3
   },
   "file_extension": ".py",
   "mimetype": "text/x-python",
   "name": "python",
   "nbconvert_exporter": "python",
   "pygments_lexer": "ipython3",
   "version": "3.9.12"
  },
  "orig_nbformat": 4,
  "vscode": {
   "interpreter": {
    "hash": "2adf3ccca9222a21ddf813ce3f7330ff220318730c13c08bb78e423c67466e5c"
   }
  }
 },
 "nbformat": 4,
 "nbformat_minor": 2
}
