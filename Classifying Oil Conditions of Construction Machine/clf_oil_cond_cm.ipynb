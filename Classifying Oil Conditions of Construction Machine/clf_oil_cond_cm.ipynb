{
 "cells": [
  {
   "cell_type": "markdown",
   "metadata": {},
   "source": [
    "# [DACON] 건설기계 오일 상태 분류 AI 경진대회\n",
    "### 배경\n",
    "- 건설기계 분야의 데이터를 분석, 활용하는 방안 제시\n",
    "- 건설 장비 산업의 지능화에 대한 연구활동 홍보 및 우수 인재 발굴\n",
    "\n",
    "### 주제\n",
    "- 건설장비에서 작동 오일의 상태를 실시간으로 모니터링하기 위한 **오일 상태 판단 모델 개발**\n",
    "- 적절한 교체 주기를 파악하고자 함\n",
    "\n",
    "### 평가방식\n",
    "- Macro F1 Score\n",
    "\n",
    "### Library"
   ]
  },
  {
   "cell_type": "code",
   "execution_count": 16,
   "metadata": {},
   "outputs": [],
   "source": [
    "import pandas as pd\n",
    "import numpy as np\n",
    "import os\n",
    "\n",
    "import matplotlib.pyplot as plt\n",
    "import seaborn as sns\n",
    "\n",
    "from sklearn.model_selection import train_test_split\n",
    "from sklearn.metrics import f1_score\n",
    "\n",
    "import xgboost as xgb\n",
    "import lightgbm as lgbm\n",
    "import catboost"
   ]
  },
  {
   "cell_type": "markdown",
   "metadata": {},
   "source": [
    "### Data Load"
   ]
  },
  {
   "cell_type": "code",
   "execution_count": 2,
   "metadata": {},
   "outputs": [
    {
     "data": {
      "text/plain": [
       "((14095, 54), (6041, 19))"
      ]
     },
     "execution_count": 2,
     "metadata": {},
     "output_type": "execute_result"
    }
   ],
   "source": [
    "main_path = \"./data\"\n",
    "\n",
    "train_df = pd.read_csv(os.path.join(main_path, \"train.csv\"))\n",
    "test_df = pd.read_csv(os.path.join(main_path, \"test.csv\"))\n",
    "\n",
    "train_df.shape, test_df.shape"
   ]
  },
  {
   "cell_type": "code",
   "execution_count": 3,
   "metadata": {},
   "outputs": [
    {
     "data": {
      "text/plain": [
       "19"
      ]
     },
     "execution_count": 3,
     "metadata": {},
     "output_type": "execute_result"
    }
   ],
   "source": [
    "# 실제 진단 환경(Inference)에 사용되는 컬럼\n",
    "test_stage_features = ['COMPONENT_ARBITRARY', 'ANONYMOUS_1', 'YEAR' , 'ANONYMOUS_2', 'AG', 'CO', 'CR', 'CU', 'FE', 'H2O', 'MN', 'MO', 'NI', 'PQINDEX', 'TI', 'V', 'V40', 'ZN']\n",
    "test_stage_features.append(\"Y_LABEL\")\n",
    "len(test_stage_features)"
   ]
  },
  {
   "cell_type": "code",
   "execution_count": 4,
   "metadata": {},
   "outputs": [
    {
     "data": {
      "text/plain": [
       "(14095, 19)"
      ]
     },
     "execution_count": 4,
     "metadata": {},
     "output_type": "execute_result"
    }
   ],
   "source": [
    "train_df = train_df[test_stage_features]\n",
    "train_df.shape"
   ]
  },
  {
   "cell_type": "code",
   "execution_count": 5,
   "metadata": {},
   "outputs": [
    {
     "data": {
      "text/plain": [
       "({'Y_LABEL'}, {'ID'})"
      ]
     },
     "execution_count": 5,
     "metadata": {},
     "output_type": "execute_result"
    }
   ],
   "source": [
    "set(train_df.columns.tolist()) - set(test_df.columns.tolist()), set(test_df.columns.tolist()) - set(train_df.columns.tolist())"
   ]
  },
  {
   "cell_type": "code",
   "execution_count": 6,
   "metadata": {},
   "outputs": [
    {
     "data": {
      "text/plain": [
       "(6041, 18)"
      ]
     },
     "execution_count": 6,
     "metadata": {},
     "output_type": "execute_result"
    }
   ],
   "source": [
    "# Test 데이터에서 필요없는 부분 제거\n",
    "test_df = test_df.drop(columns=\"ID\", axis=1)\n",
    "test_df.shape"
   ]
  },
  {
   "cell_type": "code",
   "execution_count": 7,
   "metadata": {},
   "outputs": [
    {
     "data": {
      "text/html": [
       "<div>\n",
       "<style scoped>\n",
       "    .dataframe tbody tr th:only-of-type {\n",
       "        vertical-align: middle;\n",
       "    }\n",
       "\n",
       "    .dataframe tbody tr th {\n",
       "        vertical-align: top;\n",
       "    }\n",
       "\n",
       "    .dataframe thead th {\n",
       "        text-align: right;\n",
       "    }\n",
       "</style>\n",
       "<table border=\"1\" class=\"dataframe\">\n",
       "  <thead>\n",
       "    <tr style=\"text-align: right;\">\n",
       "      <th></th>\n",
       "      <th>COMPONENT_ARBITRARY</th>\n",
       "      <th>ANONYMOUS_1</th>\n",
       "      <th>YEAR</th>\n",
       "      <th>ANONYMOUS_2</th>\n",
       "      <th>AG</th>\n",
       "      <th>CO</th>\n",
       "      <th>CR</th>\n",
       "      <th>CU</th>\n",
       "      <th>FE</th>\n",
       "      <th>H2O</th>\n",
       "      <th>MN</th>\n",
       "      <th>MO</th>\n",
       "      <th>NI</th>\n",
       "      <th>PQINDEX</th>\n",
       "      <th>TI</th>\n",
       "      <th>V</th>\n",
       "      <th>V40</th>\n",
       "      <th>ZN</th>\n",
       "      <th>Y_LABEL</th>\n",
       "    </tr>\n",
       "  </thead>\n",
       "  <tbody>\n",
       "    <tr>\n",
       "      <th>0</th>\n",
       "      <td>COMPONENT3</td>\n",
       "      <td>1486</td>\n",
       "      <td>2011</td>\n",
       "      <td>200</td>\n",
       "      <td>0</td>\n",
       "      <td>0</td>\n",
       "      <td>13</td>\n",
       "      <td>78</td>\n",
       "      <td>888</td>\n",
       "      <td>0.0</td>\n",
       "      <td>16</td>\n",
       "      <td>1</td>\n",
       "      <td>6</td>\n",
       "      <td>8504</td>\n",
       "      <td>5</td>\n",
       "      <td>0</td>\n",
       "      <td>154.0</td>\n",
       "      <td>75</td>\n",
       "      <td>0</td>\n",
       "    </tr>\n",
       "    <tr>\n",
       "      <th>1</th>\n",
       "      <td>COMPONENT2</td>\n",
       "      <td>1350</td>\n",
       "      <td>2021</td>\n",
       "      <td>375</td>\n",
       "      <td>0</td>\n",
       "      <td>0</td>\n",
       "      <td>0</td>\n",
       "      <td>31</td>\n",
       "      <td>2</td>\n",
       "      <td>0.0</td>\n",
       "      <td>0</td>\n",
       "      <td>0</td>\n",
       "      <td>0</td>\n",
       "      <td>19</td>\n",
       "      <td>0</td>\n",
       "      <td>0</td>\n",
       "      <td>44.0</td>\n",
       "      <td>652</td>\n",
       "      <td>0</td>\n",
       "    </tr>\n",
       "    <tr>\n",
       "      <th>2</th>\n",
       "      <td>COMPONENT2</td>\n",
       "      <td>2415</td>\n",
       "      <td>2015</td>\n",
       "      <td>200</td>\n",
       "      <td>0</td>\n",
       "      <td>0</td>\n",
       "      <td>1</td>\n",
       "      <td>2</td>\n",
       "      <td>4</td>\n",
       "      <td>0.0</td>\n",
       "      <td>0</td>\n",
       "      <td>0</td>\n",
       "      <td>0</td>\n",
       "      <td>17</td>\n",
       "      <td>0</td>\n",
       "      <td>0</td>\n",
       "      <td>72.6</td>\n",
       "      <td>412</td>\n",
       "      <td>1</td>\n",
       "    </tr>\n",
       "    <tr>\n",
       "      <th>3</th>\n",
       "      <td>COMPONENT3</td>\n",
       "      <td>7389</td>\n",
       "      <td>2010</td>\n",
       "      <td>200</td>\n",
       "      <td>0</td>\n",
       "      <td>0</td>\n",
       "      <td>0</td>\n",
       "      <td>1</td>\n",
       "      <td>37</td>\n",
       "      <td>0.0</td>\n",
       "      <td>1</td>\n",
       "      <td>0</td>\n",
       "      <td>0</td>\n",
       "      <td>44</td>\n",
       "      <td>0</td>\n",
       "      <td>0</td>\n",
       "      <td>133.3</td>\n",
       "      <td>7</td>\n",
       "      <td>0</td>\n",
       "    </tr>\n",
       "    <tr>\n",
       "      <th>4</th>\n",
       "      <td>COMPONENT3</td>\n",
       "      <td>3954</td>\n",
       "      <td>2015</td>\n",
       "      <td>200</td>\n",
       "      <td>0</td>\n",
       "      <td>0</td>\n",
       "      <td>0</td>\n",
       "      <td>0</td>\n",
       "      <td>71</td>\n",
       "      <td>0.0</td>\n",
       "      <td>0</td>\n",
       "      <td>0</td>\n",
       "      <td>0</td>\n",
       "      <td>217</td>\n",
       "      <td>0</td>\n",
       "      <td>0</td>\n",
       "      <td>133.1</td>\n",
       "      <td>128</td>\n",
       "      <td>0</td>\n",
       "    </tr>\n",
       "  </tbody>\n",
       "</table>\n",
       "</div>"
      ],
      "text/plain": [
       "  COMPONENT_ARBITRARY  ANONYMOUS_1  YEAR  ANONYMOUS_2  AG  CO  CR  CU   FE  \\\n",
       "0          COMPONENT3         1486  2011          200   0   0  13  78  888   \n",
       "1          COMPONENT2         1350  2021          375   0   0   0  31    2   \n",
       "2          COMPONENT2         2415  2015          200   0   0   1   2    4   \n",
       "3          COMPONENT3         7389  2010          200   0   0   0   1   37   \n",
       "4          COMPONENT3         3954  2015          200   0   0   0   0   71   \n",
       "\n",
       "   H2O  MN  MO  NI  PQINDEX  TI  V    V40   ZN  Y_LABEL  \n",
       "0  0.0  16   1   6     8504   5  0  154.0   75        0  \n",
       "1  0.0   0   0   0       19   0  0   44.0  652        0  \n",
       "2  0.0   0   0   0       17   0  0   72.6  412        1  \n",
       "3  0.0   1   0   0       44   0  0  133.3    7        0  \n",
       "4  0.0   0   0   0      217   0  0  133.1  128        0  "
      ]
     },
     "metadata": {},
     "output_type": "display_data"
    },
    {
     "data": {
      "text/html": [
       "<div>\n",
       "<style scoped>\n",
       "    .dataframe tbody tr th:only-of-type {\n",
       "        vertical-align: middle;\n",
       "    }\n",
       "\n",
       "    .dataframe tbody tr th {\n",
       "        vertical-align: top;\n",
       "    }\n",
       "\n",
       "    .dataframe thead th {\n",
       "        text-align: right;\n",
       "    }\n",
       "</style>\n",
       "<table border=\"1\" class=\"dataframe\">\n",
       "  <thead>\n",
       "    <tr style=\"text-align: right;\">\n",
       "      <th></th>\n",
       "      <th>COMPONENT_ARBITRARY</th>\n",
       "      <th>ANONYMOUS_1</th>\n",
       "      <th>YEAR</th>\n",
       "      <th>ANONYMOUS_2</th>\n",
       "      <th>AG</th>\n",
       "      <th>CO</th>\n",
       "      <th>CR</th>\n",
       "      <th>CU</th>\n",
       "      <th>FE</th>\n",
       "      <th>H2O</th>\n",
       "      <th>MN</th>\n",
       "      <th>MO</th>\n",
       "      <th>NI</th>\n",
       "      <th>PQINDEX</th>\n",
       "      <th>TI</th>\n",
       "      <th>V</th>\n",
       "      <th>V40</th>\n",
       "      <th>ZN</th>\n",
       "    </tr>\n",
       "  </thead>\n",
       "  <tbody>\n",
       "    <tr>\n",
       "      <th>0</th>\n",
       "      <td>COMPONENT1</td>\n",
       "      <td>2192</td>\n",
       "      <td>2016</td>\n",
       "      <td>200</td>\n",
       "      <td>0</td>\n",
       "      <td>0</td>\n",
       "      <td>0</td>\n",
       "      <td>1</td>\n",
       "      <td>12</td>\n",
       "      <td>0.0</td>\n",
       "      <td>0</td>\n",
       "      <td>0</td>\n",
       "      <td>0</td>\n",
       "      <td>10</td>\n",
       "      <td>0</td>\n",
       "      <td>0</td>\n",
       "      <td>91.3</td>\n",
       "      <td>1091</td>\n",
       "    </tr>\n",
       "    <tr>\n",
       "      <th>1</th>\n",
       "      <td>COMPONENT3</td>\n",
       "      <td>2794</td>\n",
       "      <td>2011</td>\n",
       "      <td>200</td>\n",
       "      <td>0</td>\n",
       "      <td>0</td>\n",
       "      <td>2</td>\n",
       "      <td>1</td>\n",
       "      <td>278</td>\n",
       "      <td>0.0</td>\n",
       "      <td>3</td>\n",
       "      <td>0</td>\n",
       "      <td>0</td>\n",
       "      <td>2732</td>\n",
       "      <td>1</td>\n",
       "      <td>0</td>\n",
       "      <td>126.9</td>\n",
       "      <td>12</td>\n",
       "    </tr>\n",
       "    <tr>\n",
       "      <th>2</th>\n",
       "      <td>COMPONENT2</td>\n",
       "      <td>1982</td>\n",
       "      <td>2010</td>\n",
       "      <td>200</td>\n",
       "      <td>0</td>\n",
       "      <td>0</td>\n",
       "      <td>0</td>\n",
       "      <td>16</td>\n",
       "      <td>5</td>\n",
       "      <td>0.0</td>\n",
       "      <td>0</td>\n",
       "      <td>0</td>\n",
       "      <td>0</td>\n",
       "      <td>11</td>\n",
       "      <td>0</td>\n",
       "      <td>0</td>\n",
       "      <td>44.3</td>\n",
       "      <td>714</td>\n",
       "    </tr>\n",
       "    <tr>\n",
       "      <th>3</th>\n",
       "      <td>COMPONENT3</td>\n",
       "      <td>1404</td>\n",
       "      <td>2009</td>\n",
       "      <td>200</td>\n",
       "      <td>0</td>\n",
       "      <td>0</td>\n",
       "      <td>3</td>\n",
       "      <td>4</td>\n",
       "      <td>163</td>\n",
       "      <td>0.0</td>\n",
       "      <td>4</td>\n",
       "      <td>3</td>\n",
       "      <td>0</td>\n",
       "      <td>8007</td>\n",
       "      <td>0</td>\n",
       "      <td>0</td>\n",
       "      <td>142.8</td>\n",
       "      <td>94</td>\n",
       "    </tr>\n",
       "    <tr>\n",
       "      <th>4</th>\n",
       "      <td>COMPONENT2</td>\n",
       "      <td>8225</td>\n",
       "      <td>2013</td>\n",
       "      <td>200</td>\n",
       "      <td>0</td>\n",
       "      <td>0</td>\n",
       "      <td>0</td>\n",
       "      <td>6</td>\n",
       "      <td>13</td>\n",
       "      <td>0.0</td>\n",
       "      <td>0</td>\n",
       "      <td>0</td>\n",
       "      <td>0</td>\n",
       "      <td>16</td>\n",
       "      <td>0</td>\n",
       "      <td>0</td>\n",
       "      <td>63.4</td>\n",
       "      <td>469</td>\n",
       "    </tr>\n",
       "  </tbody>\n",
       "</table>\n",
       "</div>"
      ],
      "text/plain": [
       "  COMPONENT_ARBITRARY  ANONYMOUS_1  YEAR  ANONYMOUS_2  AG  CO  CR  CU   FE  \\\n",
       "0          COMPONENT1         2192  2016          200   0   0   0   1   12   \n",
       "1          COMPONENT3         2794  2011          200   0   0   2   1  278   \n",
       "2          COMPONENT2         1982  2010          200   0   0   0  16    5   \n",
       "3          COMPONENT3         1404  2009          200   0   0   3   4  163   \n",
       "4          COMPONENT2         8225  2013          200   0   0   0   6   13   \n",
       "\n",
       "   H2O  MN  MO  NI  PQINDEX  TI  V    V40    ZN  \n",
       "0  0.0   0   0   0       10   0  0   91.3  1091  \n",
       "1  0.0   3   0   0     2732   1  0  126.9    12  \n",
       "2  0.0   0   0   0       11   0  0   44.3   714  \n",
       "3  0.0   4   3   0     8007   0  0  142.8    94  \n",
       "4  0.0   0   0   0       16   0  0   63.4   469  "
      ]
     },
     "metadata": {},
     "output_type": "display_data"
    }
   ],
   "source": [
    "display(train_df.head())\n",
    "display(test_df.head())"
   ]
  },
  {
   "cell_type": "markdown",
   "metadata": {},
   "source": [
    "### EDA"
   ]
  },
  {
   "cell_type": "code",
   "execution_count": 8,
   "metadata": {},
   "outputs": [
    {
     "name": "stdout",
     "output_type": "stream",
     "text": [
      "<class 'pandas.core.frame.DataFrame'>\n",
      "RangeIndex: 14095 entries, 0 to 14094\n",
      "Data columns (total 19 columns):\n",
      " #   Column               Non-Null Count  Dtype  \n",
      "---  ------               --------------  -----  \n",
      " 0   COMPONENT_ARBITRARY  14095 non-null  object \n",
      " 1   ANONYMOUS_1          14095 non-null  int64  \n",
      " 2   YEAR                 14095 non-null  int64  \n",
      " 3   ANONYMOUS_2          14095 non-null  int64  \n",
      " 4   AG                   14095 non-null  int64  \n",
      " 5   CO                   14095 non-null  int64  \n",
      " 6   CR                   14095 non-null  int64  \n",
      " 7   CU                   14095 non-null  int64  \n",
      " 8   FE                   14095 non-null  int64  \n",
      " 9   H2O                  14095 non-null  float64\n",
      " 10  MN                   14095 non-null  int64  \n",
      " 11  MO                   14095 non-null  int64  \n",
      " 12  NI                   14095 non-null  int64  \n",
      " 13  PQINDEX              14095 non-null  int64  \n",
      " 14  TI                   14095 non-null  int64  \n",
      " 15  V                    14095 non-null  int64  \n",
      " 16  V40                  14095 non-null  float64\n",
      " 17  ZN                   14095 non-null  int64  \n",
      " 18  Y_LABEL              14095 non-null  int64  \n",
      "dtypes: float64(2), int64(16), object(1)\n",
      "memory usage: 2.0+ MB\n"
     ]
    }
   ],
   "source": [
    "train_df.info()"
   ]
  },
  {
   "cell_type": "code",
   "execution_count": 9,
   "metadata": {},
   "outputs": [],
   "source": [
    "object_type = [\"COMPONENT_ARBITRARY\"]\n",
    "numeric_type = train_df.columns.to_list()\n",
    "numeric_type.remove(\"COMPONENT_ARBITRARY\")"
   ]
  },
  {
   "cell_type": "markdown",
   "metadata": {},
   "source": [
    "#### 컬럼별 세부 설명\n",
    "| Feature Name | Description | Unit | Note |\n",
    "| :--- | :--- | :--- | :--- |\n",
    "| COMPONENT_ARBITRARY | 샘플 오일 관련 부품 (Component 4종, 비식별화)| | |\n",
    "| ANONYMOUS_1 | 무명 Feautre 1. 수치형 데이터 | | |\n",
    "| YEAR | 오일 샘플 및 진단 해 | | |\n",
    "| ANONYMOUS_2 | 무명 Feature 2. 수치형 데이터 | | |\n",
    "| AG | 은 함유량 | ppm | |\n",
    "| CO | 코볼트 함유량 | ppm | |\n",
    "| CR | 크로미늄 함유량 | ppm | |\n",
    "| CU | 구리 함유량 | ppm | |\n",
    "| FE | 철 함유량 | ppm | |\n",
    "| H2O | 수분 함유량 | ppm | |\n",
    "| MN | 망간 함유량 | ppm | |\n",
    "| MO | 몰리브덴 함유량 | ppm | |\n",
    "| NI | 니켈 함유량 | ppm | |\n",
    "| PQINDEX | Particle Quantifier Index | | 입자 정량화 지수 |\n",
    "| TI | 티타늄 함유량 | ppm | |\n",
    "| V | 바나듐 함유량 | ppm | |\n",
    "| V40 | 점성률 40 도(?) | cSt | centiStokes (1 cSt = 1mm^2/sec) |\n",
    "| ZN | 아연 함유량 | ppm | |\n"
   ]
  },
  {
   "cell_type": "markdown",
   "metadata": {},
   "source": [
    "### Missing Value"
   ]
  },
  {
   "cell_type": "code",
   "execution_count": 10,
   "metadata": {},
   "outputs": [
    {
     "data": {
      "text/plain": [
       "(0, 0)"
      ]
     },
     "execution_count": 10,
     "metadata": {},
     "output_type": "execute_result"
    }
   ],
   "source": [
    "train_df.isnull().sum().sum(), test_df.isnull().sum().sum()"
   ]
  },
  {
   "cell_type": "markdown",
   "metadata": {},
   "source": [
    "### Model"
   ]
  },
  {
   "cell_type": "code",
   "execution_count": 11,
   "metadata": {},
   "outputs": [
    {
     "data": {
      "text/plain": [
       "((14095, 22), (6041, 21))"
      ]
     },
     "execution_count": 11,
     "metadata": {},
     "output_type": "execute_result"
    }
   ],
   "source": [
    "# One-Hot Encoding\n",
    "train_df = pd.get_dummies(data=train_df, columns=object_type)\n",
    "test_df = pd.get_dummies(data=test_df, columns=object_type)\n",
    "\n",
    "train_df.shape, test_df.shape"
   ]
  },
  {
   "cell_type": "code",
   "execution_count": 12,
   "metadata": {},
   "outputs": [],
   "source": [
    "label = \"Y_LABEL\"\n",
    "features = train_df.columns.tolist()\n",
    "features.remove(label)"
   ]
  },
  {
   "cell_type": "code",
   "execution_count": 13,
   "metadata": {},
   "outputs": [
    {
     "name": "stdout",
     "output_type": "stream",
     "text": [
      "x_train: (11276, 21)\n",
      "y_train: (11276,)\n",
      "x_test: (2819, 21)\n",
      "y_test: (2819,)\n"
     ]
    }
   ],
   "source": [
    "x_train, x_test, y_train, y_test = train_test_split(train_df[features], train_df[label], test_size=0.2, stratify=train_df[label])\n",
    "\n",
    "print(f\"x_train: {x_train.shape}\\ny_train: {y_train.shape}\\nx_test: {x_test.shape}\\ny_test: {y_test.shape}\")"
   ]
  },
  {
   "cell_type": "markdown",
   "metadata": {},
   "source": [
    "#### XGBoost"
   ]
  },
  {
   "cell_type": "code",
   "execution_count": null,
   "metadata": {},
   "outputs": [],
   "source": [
    "clf_xgb = xgb.XGBClassifier(iter=10000, eval=\"F1\", )"
   ]
  },
  {
   "cell_type": "markdown",
   "metadata": {},
   "source": [
    "#### LGBM"
   ]
  },
  {
   "cell_type": "markdown",
   "metadata": {},
   "source": [
    "#### CatBoost"
   ]
  },
  {
   "cell_type": "code",
   "execution_count": 14,
   "metadata": {},
   "outputs": [
    {
     "name": "stdout",
     "output_type": "stream",
     "text": [
      "Learning rate set to 0.021173\n",
      "0:\tlearn: 0.0020768\ttest: 0.0000000\tbest: 0.0000000 (0)\ttotal: 148ms\tremaining: 24m 43s\n",
      "50:\tlearn: 0.0000000\ttest: 0.0000000\tbest: 0.0000000 (0)\ttotal: 722ms\tremaining: 2m 20s\n",
      "100:\tlearn: 0.0246407\ttest: 0.0000000\tbest: 0.0000000 (0)\ttotal: 1.3s\tremaining: 2m 7s\n",
      "150:\tlearn: 0.0467005\ttest: 0.0082645\tbest: 0.0082645 (123)\ttotal: 1.83s\tremaining: 1m 59s\n",
      "200:\tlearn: 0.0565657\ttest: 0.0082645\tbest: 0.0082645 (123)\ttotal: 2.38s\tremaining: 1m 56s\n",
      "250:\tlearn: 0.0624371\ttest: 0.0082645\tbest: 0.0082645 (123)\ttotal: 2.91s\tremaining: 1m 53s\n",
      "300:\tlearn: 0.0643863\ttest: 0.0082645\tbest: 0.0082645 (123)\ttotal: 3.42s\tremaining: 1m 50s\n",
      "350:\tlearn: 0.0702106\ttest: 0.0082645\tbest: 0.0082645 (123)\ttotal: 3.96s\tremaining: 1m 48s\n",
      "400:\tlearn: 0.0779221\ttest: 0.0164609\tbest: 0.0164609 (388)\ttotal: 4.5s\tremaining: 1m 47s\n",
      "450:\tlearn: 0.0817547\ttest: 0.0164609\tbest: 0.0164609 (388)\ttotal: 4.98s\tremaining: 1m 45s\n",
      "500:\tlearn: 0.0969337\ttest: 0.0164609\tbest: 0.0164609 (388)\ttotal: 5.46s\tremaining: 1m 43s\n",
      "550:\tlearn: 0.1118744\ttest: 0.0163934\tbest: 0.0164609 (388)\ttotal: 5.95s\tremaining: 1m 41s\n",
      "600:\tlearn: 0.1174168\ttest: 0.0082305\tbest: 0.0164609 (388)\ttotal: 6.41s\tremaining: 1m 40s\n",
      "650:\tlearn: 0.1302235\ttest: 0.0082305\tbest: 0.0164609 (388)\ttotal: 6.87s\tremaining: 1m 38s\n",
      "700:\tlearn: 0.1302235\ttest: 0.0082305\tbest: 0.0164609 (388)\ttotal: 7.35s\tremaining: 1m 37s\n",
      "750:\tlearn: 0.1410628\ttest: 0.0082305\tbest: 0.0164609 (388)\ttotal: 7.83s\tremaining: 1m 36s\n",
      "800:\tlearn: 0.1535509\ttest: 0.0082305\tbest: 0.0164609 (388)\ttotal: 8.31s\tremaining: 1m 35s\n",
      "850:\tlearn: 0.1658723\ttest: 0.0082305\tbest: 0.0164609 (388)\ttotal: 8.79s\tremaining: 1m 34s\n",
      "900:\tlearn: 0.1763033\ttest: 0.0081967\tbest: 0.0164609 (388)\ttotal: 9.28s\tremaining: 1m 33s\n",
      "950:\tlearn: 0.1849057\ttest: 0.0081967\tbest: 0.0164609 (388)\ttotal: 9.76s\tremaining: 1m 32s\n",
      "1000:\tlearn: 0.1951220\ttest: 0.0162602\tbest: 0.0164609 (388)\ttotal: 10.2s\tremaining: 1m 31s\n",
      "1050:\tlearn: 0.2052239\ttest: 0.0242915\tbest: 0.0242915 (1039)\ttotal: 10.7s\tremaining: 1m 30s\n",
      "1100:\tlearn: 0.2135562\ttest: 0.0242915\tbest: 0.0242915 (1039)\ttotal: 11.1s\tremaining: 1m 30s\n",
      "1150:\tlearn: 0.2267281\ttest: 0.0242915\tbest: 0.0242915 (1039)\ttotal: 11.6s\tremaining: 1m 29s\n",
      "1200:\tlearn: 0.2413163\ttest: 0.0242915\tbest: 0.0242915 (1039)\ttotal: 12.1s\tremaining: 1m 28s\n",
      "1250:\tlearn: 0.2445255\ttest: 0.0242915\tbest: 0.0242915 (1039)\ttotal: 12.5s\tremaining: 1m 27s\n",
      "1300:\tlearn: 0.2603978\ttest: 0.0242915\tbest: 0.0242915 (1039)\ttotal: 13s\tremaining: 1m 26s\n",
      "1350:\tlearn: 0.2713387\ttest: 0.0242915\tbest: 0.0242915 (1039)\ttotal: 13.4s\tremaining: 1m 26s\n",
      "1400:\tlearn: 0.2790698\ttest: 0.0241935\tbest: 0.0242915 (1039)\ttotal: 13.9s\tremaining: 1m 25s\n",
      "1450:\tlearn: 0.2867320\ttest: 0.0321285\tbest: 0.0321285 (1438)\ttotal: 14.4s\tremaining: 1m 24s\n",
      "1500:\tlearn: 0.2988506\ttest: 0.0321285\tbest: 0.0321285 (1438)\ttotal: 14.9s\tremaining: 1m 24s\n",
      "1550:\tlearn: 0.3107989\ttest: 0.0320000\tbest: 0.0321285 (1438)\ttotal: 15.3s\tremaining: 1m 23s\n",
      "1600:\tlearn: 0.3196507\ttest: 0.0321285\tbest: 0.0321285 (1438)\ttotal: 15.8s\tremaining: 1m 22s\n",
      "1650:\tlearn: 0.3327556\ttest: 0.0318725\tbest: 0.0321285 (1438)\ttotal: 16.2s\tremaining: 1m 22s\n",
      "1700:\tlearn: 0.3442341\ttest: 0.0316206\tbest: 0.0321285 (1438)\ttotal: 16.7s\tremaining: 1m 21s\n",
      "1750:\tlearn: 0.3569599\ttest: 0.0314961\tbest: 0.0321285 (1438)\ttotal: 17.1s\tremaining: 1m 20s\n",
      "1800:\tlearn: 0.3667233\ttest: 0.0313725\tbest: 0.0321285 (1438)\ttotal: 17.6s\tremaining: 1m 19s\n",
      "1850:\tlearn: 0.3750000\ttest: 0.0312500\tbest: 0.0321285 (1438)\ttotal: 18s\tremaining: 1m 19s\n",
      "1900:\tlearn: 0.3899582\ttest: 0.0312500\tbest: 0.0321285 (1438)\ttotal: 18.4s\tremaining: 1m 18s\n",
      "1950:\tlearn: 0.3980017\ttest: 0.0312500\tbest: 0.0321285 (1438)\ttotal: 18.9s\tremaining: 1m 17s\n",
      "2000:\tlearn: 0.4072848\ttest: 0.0312500\tbest: 0.0321285 (1438)\ttotal: 19.3s\tremaining: 1m 17s\n",
      "2050:\tlearn: 0.4177632\ttest: 0.0312500\tbest: 0.0321285 (1438)\ttotal: 19.8s\tremaining: 1m 16s\n",
      "2100:\tlearn: 0.4255319\ttest: 0.0389105\tbest: 0.0389105 (2065)\ttotal: 20.2s\tremaining: 1m 15s\n",
      "2150:\tlearn: 0.4281046\ttest: 0.0389105\tbest: 0.0389105 (2065)\ttotal: 20.6s\tremaining: 1m 15s\n",
      "2200:\tlearn: 0.4319478\ttest: 0.0389105\tbest: 0.0389105 (2065)\ttotal: 21.1s\tremaining: 1m 14s\n",
      "2250:\tlearn: 0.4357724\ttest: 0.0389105\tbest: 0.0390625 (2212)\ttotal: 21.5s\tremaining: 1m 13s\n",
      "2300:\tlearn: 0.4496374\ttest: 0.0389105\tbest: 0.0390625 (2212)\ttotal: 21.9s\tremaining: 1m 13s\n",
      "2350:\tlearn: 0.4632588\ttest: 0.0390625\tbest: 0.0390625 (2212)\ttotal: 22.3s\tremaining: 1m 12s\n",
      "2400:\tlearn: 0.4681529\ttest: 0.0389105\tbest: 0.0390625 (2212)\ttotal: 22.7s\tremaining: 1m 11s\n",
      "2450:\tlearn: 0.4790514\ttest: 0.0389105\tbest: 0.0390625 (2212)\ttotal: 23.2s\tremaining: 1m 11s\n",
      "2500:\tlearn: 0.4862313\ttest: 0.0390625\tbest: 0.0390625 (2212)\ttotal: 23.7s\tremaining: 1m 11s\n",
      "2550:\tlearn: 0.4909804\ttest: 0.0389105\tbest: 0.0390625 (2212)\ttotal: 24.2s\tremaining: 1m 10s\n",
      "2600:\tlearn: 0.4968750\ttest: 0.0389105\tbest: 0.0390625 (2212)\ttotal: 24.6s\tremaining: 1m 10s\n",
      "2650:\tlearn: 0.5027237\ttest: 0.0389105\tbest: 0.0390625 (2212)\ttotal: 25s\tremaining: 1m 9s\n",
      "2700:\tlearn: 0.5027237\ttest: 0.0389105\tbest: 0.0390625 (2212)\ttotal: 25.5s\tremaining: 1m 8s\n",
      "2750:\tlearn: 0.5119876\ttest: 0.0389105\tbest: 0.0390625 (2212)\ttotal: 25.9s\tremaining: 1m 8s\n",
      "2800:\tlearn: 0.5234075\ttest: 0.0389105\tbest: 0.0390625 (2212)\ttotal: 26.4s\tremaining: 1m 7s\n",
      "2850:\tlearn: 0.5324180\ttest: 0.0389105\tbest: 0.0390625 (2212)\ttotal: 26.8s\tremaining: 1m 7s\n",
      "2900:\tlearn: 0.5379939\ttest: 0.0389105\tbest: 0.0390625 (2212)\ttotal: 27.2s\tremaining: 1m 6s\n",
      "2950:\tlearn: 0.5479245\ttest: 0.0389105\tbest: 0.0390625 (2212)\ttotal: 27.6s\tremaining: 1m 5s\n",
      "3000:\tlearn: 0.5555556\ttest: 0.0387597\tbest: 0.0463320 (2993)\ttotal: 28s\tremaining: 1m 5s\n",
      "3050:\tlearn: 0.5620329\ttest: 0.0387597\tbest: 0.0463320 (2993)\ttotal: 28.5s\tremaining: 1m 4s\n",
      "3100:\tlearn: 0.5695167\ttest: 0.0387597\tbest: 0.0463320 (2993)\ttotal: 28.9s\tremaining: 1m 4s\n",
      "3150:\tlearn: 0.5727003\ttest: 0.0463320\tbest: 0.0463320 (2993)\ttotal: 29.4s\tremaining: 1m 3s\n",
      "3200:\tlearn: 0.5800738\ttest: 0.0465116\tbest: 0.0465116 (3180)\ttotal: 29.8s\tremaining: 1m 3s\n",
      "3250:\tlearn: 0.5852941\ttest: 0.0465116\tbest: 0.0466926 (3204)\ttotal: 30.3s\tremaining: 1m 2s\n",
      "3300:\tlearn: 0.5904762\ttest: 0.0465116\tbest: 0.0466926 (3204)\ttotal: 30.7s\tremaining: 1m 2s\n",
      "3350:\tlearn: 0.5976676\ttest: 0.0461538\tbest: 0.0466926 (3204)\ttotal: 31.2s\tremaining: 1m 1s\n",
      "3400:\tlearn: 0.6068067\ttest: 0.0461538\tbest: 0.0466926 (3204)\ttotal: 31.6s\tremaining: 1m 1s\n",
      "3450:\tlearn: 0.6138329\ttest: 0.0458015\tbest: 0.0466926 (3204)\ttotal: 32s\tremaining: 1m\n",
      "3500:\tlearn: 0.6207885\ttest: 0.0532319\tbest: 0.0532319 (3459)\ttotal: 32.5s\tremaining: 1m\n",
      "3550:\tlearn: 0.6247320\ttest: 0.0532319\tbest: 0.0534351 (3516)\ttotal: 32.9s\tremaining: 59.7s\n",
      "3600:\tlearn: 0.6344925\ttest: 0.0534351\tbest: 0.0534351 (3516)\ttotal: 33.3s\tremaining: 59.2s\n",
      "3650:\tlearn: 0.6344925\ttest: 0.0534351\tbest: 0.0534351 (3516)\ttotal: 33.7s\tremaining: 58.6s\n",
      "3700:\tlearn: 0.6383581\ttest: 0.0532319\tbest: 0.0534351 (3516)\ttotal: 34.1s\tremaining: 58.1s\n",
      "3750:\tlearn: 0.6460239\ttest: 0.0532319\tbest: 0.0534351 (3516)\ttotal: 34.5s\tremaining: 57.5s\n",
      "3800:\tlearn: 0.6573622\ttest: 0.0532319\tbest: 0.0534351 (3516)\ttotal: 35s\tremaining: 57s\n",
      "3850:\tlearn: 0.6601671\ttest: 0.0530303\tbest: 0.0534351 (3516)\ttotal: 35.4s\tremaining: 56.5s\n",
      "3900:\tlearn: 0.6675900\ttest: 0.0532319\tbest: 0.0534351 (3516)\ttotal: 35.9s\tremaining: 56.1s\n",
      "3950:\tlearn: 0.6731034\ttest: 0.0528302\tbest: 0.0534351 (3516)\ttotal: 36.3s\tremaining: 55.6s\n",
      "4000:\tlearn: 0.6830938\ttest: 0.0528302\tbest: 0.0534351 (3516)\ttotal: 36.7s\tremaining: 55.1s\n",
      "4050:\tlearn: 0.6929348\ttest: 0.0597015\tbest: 0.0597015 (4050)\ttotal: 37.2s\tremaining: 54.6s\n",
      "4100:\tlearn: 0.7017544\ttest: 0.0601504\tbest: 0.0601504 (4080)\ttotal: 37.7s\tremaining: 54.2s\n",
      "4150:\tlearn: 0.7061197\ttest: 0.0601504\tbest: 0.0601504 (4080)\ttotal: 38.1s\tremaining: 53.7s\n",
      "4200:\tlearn: 0.7130435\ttest: 0.0601504\tbest: 0.0601504 (4080)\ttotal: 38.6s\tremaining: 53.2s\n",
      "4250:\tlearn: 0.7156208\ttest: 0.0674157\tbest: 0.0674157 (4239)\ttotal: 39s\tremaining: 52.8s\n",
      "4300:\tlearn: 0.7249834\ttest: 0.0601504\tbest: 0.0674157 (4239)\ttotal: 39.5s\tremaining: 52.3s\n",
      "4350:\tlearn: 0.7308707\ttest: 0.0676692\tbest: 0.0676692 (4324)\ttotal: 39.9s\tremaining: 51.8s\n",
      "4400:\tlearn: 0.7383607\ttest: 0.0603774\tbest: 0.0676692 (4324)\ttotal: 40.3s\tremaining: 51.3s\n",
      "4450:\tlearn: 0.7449446\ttest: 0.0599251\tbest: 0.0676692 (4324)\ttotal: 40.8s\tremaining: 50.8s\n",
      "4500:\tlearn: 0.7465798\ttest: 0.0671642\tbest: 0.0676692 (4324)\ttotal: 41.2s\tremaining: 50.3s\n",
      "4550:\tlearn: 0.7506494\ttest: 0.0671642\tbest: 0.0676692 (4324)\ttotal: 41.6s\tremaining: 49.8s\n",
      "4600:\tlearn: 0.7538860\ttest: 0.0671642\tbest: 0.0676692 (4324)\ttotal: 42.1s\tremaining: 49.4s\n",
      "4650:\tlearn: 0.7571059\ttest: 0.0671642\tbest: 0.0676692 (4324)\ttotal: 42.5s\tremaining: 48.9s\n",
      "4700:\tlearn: 0.7619048\ttest: 0.0671642\tbest: 0.0676692 (4324)\ttotal: 42.9s\tremaining: 48.4s\n",
      "4750:\tlearn: 0.7642903\ttest: 0.0746269\tbest: 0.0746269 (4720)\ttotal: 43.3s\tremaining: 47.9s\n",
      "4800:\tlearn: 0.7674568\ttest: 0.0674157\tbest: 0.0746269 (4720)\ttotal: 43.8s\tremaining: 47.4s\n",
      "4850:\tlearn: 0.7745223\ttest: 0.0674157\tbest: 0.0746269 (4720)\ttotal: 44.2s\tremaining: 46.9s\n",
      "4900:\tlearn: 0.7784127\ttest: 0.0743494\tbest: 0.0746269 (4720)\ttotal: 44.6s\tremaining: 46.4s\n",
      "4950:\tlearn: 0.7815073\ttest: 0.0743494\tbest: 0.0746269 (4720)\ttotal: 45.1s\tremaining: 46s\n",
      "5000:\tlearn: 0.7830487\ttest: 0.0743494\tbest: 0.0746269 (4720)\ttotal: 45.5s\tremaining: 45.5s\n",
      "5050:\tlearn: 0.7891756\ttest: 0.0743494\tbest: 0.0746269 (4720)\ttotal: 45.9s\tremaining: 45s\n",
      "5100:\tlearn: 0.7906977\ttest: 0.0740741\tbest: 0.0746269 (4720)\ttotal: 46.3s\tremaining: 44.5s\n",
      "5150:\tlearn: 0.7952411\ttest: 0.0740741\tbest: 0.0746269 (4720)\ttotal: 46.7s\tremaining: 44s\n",
      "5200:\tlearn: 0.8049689\ttest: 0.0740741\tbest: 0.0746269 (4720)\ttotal: 47.2s\tremaining: 43.5s\n",
      "5250:\tlearn: 0.8079306\ttest: 0.0743494\tbest: 0.0746269 (4720)\ttotal: 47.6s\tremaining: 43s\n",
      "5300:\tlearn: 0.8130783\ttest: 0.0740741\tbest: 0.0746269 (4720)\ttotal: 48s\tremaining: 42.5s\n",
      "5350:\tlearn: 0.8225214\ttest: 0.0740741\tbest: 0.0746269 (4720)\ttotal: 48.4s\tremaining: 42s\n",
      "5400:\tlearn: 0.8268293\ttest: 0.0740741\tbest: 0.0746269 (4720)\ttotal: 48.8s\tremaining: 41.6s\n",
      "5450:\tlearn: 0.8303951\ttest: 0.0743494\tbest: 0.0746269 (4720)\ttotal: 49.2s\tremaining: 41.1s\n",
      "5500:\tlearn: 0.8367594\ttest: 0.0749064\tbest: 0.0749064 (5493)\ttotal: 49.7s\tremaining: 40.6s\n",
      "5550:\tlearn: 0.8416616\ttest: 0.0743494\tbest: 0.0749064 (5493)\ttotal: 50.1s\tremaining: 40.1s\n",
      "5600:\tlearn: 0.8430547\ttest: 0.0743494\tbest: 0.0749064 (5493)\ttotal: 50.5s\tremaining: 39.7s\n",
      "5650:\tlearn: 0.8444444\ttest: 0.0743494\tbest: 0.0749064 (5493)\ttotal: 50.9s\tremaining: 39.2s\n",
      "5700:\tlearn: 0.8492823\ttest: 0.0740741\tbest: 0.0749064 (5493)\ttotal: 51.3s\tremaining: 38.7s\n",
      "5750:\tlearn: 0.8533969\ttest: 0.0740741\tbest: 0.0749064 (5493)\ttotal: 51.7s\tremaining: 38.2s\n",
      "5800:\tlearn: 0.8533969\ttest: 0.0740741\tbest: 0.0749064 (5493)\ttotal: 52.2s\tremaining: 37.8s\n",
      "5850:\tlearn: 0.8561237\ttest: 0.0740741\tbest: 0.0749064 (5493)\ttotal: 52.6s\tremaining: 37.3s\n",
      "5900:\tlearn: 0.8581602\ttest: 0.0740741\tbest: 0.0749064 (5493)\ttotal: 53s\tremaining: 36.8s\n",
      "5950:\tlearn: 0.8628842\ttest: 0.0740741\tbest: 0.0749064 (5493)\ttotal: 53.5s\tremaining: 36.4s\n",
      "6000:\tlearn: 0.8675692\ttest: 0.0740741\tbest: 0.0749064 (5493)\ttotal: 53.9s\tremaining: 35.9s\n",
      "6050:\tlearn: 0.8715543\ttest: 0.0811808\tbest: 0.0811808 (6036)\ttotal: 54.4s\tremaining: 35.5s\n",
      "6100:\tlearn: 0.8761682\ttest: 0.0808824\tbest: 0.0811808 (6036)\ttotal: 54.9s\tremaining: 35.1s\n",
      "6150:\tlearn: 0.8794409\ttest: 0.0808824\tbest: 0.0811808 (6036)\ttotal: 55.4s\tremaining: 34.7s\n",
      "6200:\tlearn: 0.8800931\ttest: 0.0808824\tbest: 0.0811808 (6036)\ttotal: 55.8s\tremaining: 34.2s\n",
      "6250:\tlearn: 0.8807446\ttest: 0.0808824\tbest: 0.0811808 (6036)\ttotal: 56.3s\tremaining: 33.7s\n",
      "6300:\tlearn: 0.8839907\ttest: 0.0808824\tbest: 0.0811808 (6036)\ttotal: 56.7s\tremaining: 33.3s\n",
      "6350:\tlearn: 0.8859294\ttest: 0.0808824\tbest: 0.0811808 (6036)\ttotal: 57.1s\tremaining: 32.8s\n",
      "6400:\tlearn: 0.8878613\ttest: 0.0808824\tbest: 0.0811808 (6036)\ttotal: 57.5s\tremaining: 32.3s\n",
      "6450:\tlearn: 0.8917051\ttest: 0.0808824\tbest: 0.0811808 (6036)\ttotal: 57.9s\tremaining: 31.8s\n",
      "6500:\tlearn: 0.8923431\ttest: 0.0808824\tbest: 0.0811808 (6036)\ttotal: 58.3s\tremaining: 31.4s\n",
      "6550:\tlearn: 0.8936170\ttest: 0.0811808\tbest: 0.0811808 (6036)\ttotal: 58.8s\tremaining: 31s\n",
      "6600:\tlearn: 0.8955224\ttest: 0.0808824\tbest: 0.0811808 (6036)\ttotal: 59.2s\tremaining: 30.5s\n",
      "6650:\tlearn: 0.8999428\ttest: 0.0808824\tbest: 0.0811808 (6036)\ttotal: 59.7s\tremaining: 30s\n",
      "6700:\tlearn: 0.9024529\ttest: 0.0808824\tbest: 0.0811808 (6036)\ttotal: 1m\tremaining: 29.6s\n",
      "6750:\tlearn: 0.9049516\ttest: 0.0808824\tbest: 0.0811808 (6036)\ttotal: 1m\tremaining: 29.1s\n",
      "6800:\tlearn: 0.9068182\ttest: 0.0808824\tbest: 0.0811808 (6036)\ttotal: 1m\tremaining: 28.7s\n",
      "6850:\tlearn: 0.9074390\ttest: 0.0808824\tbest: 0.0811808 (6036)\ttotal: 1m 1s\tremaining: 28.2s\n",
      "6900:\tlearn: 0.9111488\ttest: 0.0808824\tbest: 0.0811808 (6036)\ttotal: 1m 1s\tremaining: 27.7s\n",
      "6950:\tlearn: 0.9129944\ttest: 0.0808824\tbest: 0.0811808 (6036)\ttotal: 1m 2s\tremaining: 27.3s\n",
      "7000:\tlearn: 0.9142212\ttest: 0.0808824\tbest: 0.0811808 (6036)\ttotal: 1m 2s\tremaining: 26.8s\n",
      "Stopped by overfitting detector  (1000 iterations wait)\n",
      "\n",
      "bestTest = 0.08118081181\n",
      "bestIteration = 6036\n",
      "\n",
      "Shrink model to first 6037 iterations.\n"
     ]
    },
    {
     "data": {
      "text/plain": [
       "<catboost.core.CatBoostClassifier at 0x262c2a11c10>"
      ]
     },
     "execution_count": 14,
     "metadata": {},
     "output_type": "execute_result"
    }
   ],
   "source": [
    "clf_CAT = catboost.CatBoostClassifier(verbose=50, n_estimators=10000, eval_metric=\"F1\", early_stopping_rounds=1000)\n",
    "clf_CAT.fit(x_train, y_train, eval_set=[(x_test, y_test)], use_best_model=True)"
   ]
  },
  {
   "cell_type": "code",
   "execution_count": 19,
   "metadata": {},
   "outputs": [
    {
     "data": {
      "image/png": "[encoded data removed]",
      "text/plain": [
       "<Figure size 640x480 with 1 Axes>"
      ]
     },
     "metadata": {},
     "output_type": "display_data"
    }
   ],
   "source": [
    "pred_CAT = clf_CAT.predict(test_df)\n",
    "plt.plot(np.array(pred_CAT), label=\"Pred\")\n",
    "plt.legend()\n",
    "plt.show()"
   ]
  }
 ],
 "metadata": {
  "kernelspec": {
   "display_name": "Python 3.8.13 ('deep')",
   "language": "python",
   "name": "python3"
  },
  "language_info": {
   "codemirror_mode": {
    "name": "ipython",
    "version": 3
   },
   "file_extension": ".py",
   "mimetype": "text/x-python",
   "name": "python",
   "nbconvert_exporter": "python",
   "pygments_lexer": "ipython3",
   "version": "3.8.13"
  },
  "orig_nbformat": 4,
  "vscode": {
   "interpreter": {
    "hash": "b13a221facf29a203b34a739b7b4eb9d517139a07da8da65e6d9a12a9d4e72a6"
   }
  }
 },
 "nbformat": 4,
 "nbformat_minor": 2
}
