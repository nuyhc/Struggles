{
 "cells": [
  {
   "cell_type": "markdown",
   "metadata": {},
   "source": [
    "# DACON 병원 개/폐업 분류 예측 경진대회\n",
    "[DACON 병원 개/폐업 분류 예측 경진대회](https://dacon.io/competitions/official/9565/overview/description)\n",
    "\n",
    "## Base Modeling\n",
    "\n",
    "### 사용 라이브러리"
   ]
  },
  {
   "cell_type": "code",
   "execution_count": 1,
   "metadata": {},
   "outputs": [
    {
     "name": "stderr",
     "output_type": "stream",
     "text": [
      "c:\\Users\\spec3\\anaconda3\\lib\\site-packages\\xgboost\\compat.py:36: FutureWarning: pandas.Int64Index is deprecated and will be removed from pandas in a future version. Use pandas.Index with the appropriate dtype instead.\n",
      "  from pandas import MultiIndex, Int64Index\n"
     ]
    }
   ],
   "source": [
    "import numpy as np\n",
    "import pandas as pd\n",
    "import seaborn as sns\n",
    "import matplotlib.pyplot as plt\n",
    "import koreanize_matplotlib\n",
    "\n",
    "from sklearn.model_selection import train_test_split\n",
    "from sklearn.metrics import accuracy_score, precision_score, recall_score, confusion_matrix, f1_score, roc_auc_score, mean_squared_error, mean_absolute_error, r2_score\n",
    "from sklearn.ensemble import RandomForestClassifier\n",
    "\n",
    "from lightgbm import LGBMClassifier\n",
    "from xgboost import XGBClassifier\n",
    "\n",
    "import warnings\n",
    "warnings.filterwarnings(\"ignore\")"
   ]
  },
  {
   "cell_type": "code",
   "execution_count": 2,
   "metadata": {},
   "outputs": [],
   "source": [
    "def eval_CM(y_test, y_pred=None, show_cm=0):\n",
    "    confusion = confusion_matrix(y_test, y_pred)\n",
    "    acc = accuracy_score(y_test, y_pred)\n",
    "    precision = precision_score(y_test, y_pred)\n",
    "    recall = recall_score(y_test, y_pred)\n",
    "    f1 = f1_score(y_test, y_pred)\n",
    "    if show_cm:\n",
    "        print(f\"정확도: {acc:.4f}\\n정밀도: {precision:.4f}\\n재현율: {recall:.4f}\\nF1: {f1:.4f}\")\n",
    "    else:\n",
    "        print(confusion)\n",
    "        print(f\"정확도: {acc:.4f}\\n정밀도: {precision:.4f}\\n재현율: {recall:.4f}\\nF1: {f1:.4f}\")\n",
    "\n",
    "def reg_score(y_true, y_pred):\n",
    "    MSE = mean_squared_error(y_true, y_pred)\n",
    "    RMSE = np.sqrt(mean_squared_error(y_true,y_pred))\n",
    "    MAE = np.mean( np.abs((y_true - y_pred) / y_true) )\n",
    "    NMAE = mean_absolute_error(y_true, y_pred)/ np.mean( np.abs(y_true) )\n",
    "    MAPE = np.mean( np.abs((y_true - y_pred) / y_true) ) *100\n",
    "    R2 = r2_score(y_true, y_pred)\n",
    "    \n",
    "    print(f\"MSE: {np.round(MSE, 3)}\\nRMSE: {np.round(RMSE, 3)}\\nMAE: {np.round(MAE, 3)}\\nNMAE: {np.round(NMAE, 3)}\\nMAPE: {np.round(MAPE, 3)}\\nR2: {np.round(R2, 3)}\")"
   ]
  },
  {
   "cell_type": "markdown",
   "metadata": {},
   "source": [
    "### Data Load"
   ]
  },
  {
   "cell_type": "code",
   "execution_count": 3,
   "metadata": {},
   "outputs": [
    {
     "data": {
      "text/plain": [
       "((301, 59), (127, 59))"
      ]
     },
     "execution_count": 3,
     "metadata": {},
     "output_type": "execute_result"
    }
   ],
   "source": [
    "train = pd.read_csv(\"data/pre_train.csv\")\n",
    "test = pd.read_csv(\"data/pre_test.csv\")\n",
    "\n",
    "train.shape, test.shape"
   ]
  },
  {
   "cell_type": "markdown",
   "metadata": {},
   "source": [
    "### 범주형 변수 -> 수치형 변수"
   ]
  },
  {
   "cell_type": "markdown",
   "metadata": {},
   "source": [
    "`OC, sido, bedCount, instkind, ownerChange`를 변경해줘야함"
   ]
  },
  {
   "cell_type": "code",
   "execution_count": 4,
   "metadata": {},
   "outputs": [],
   "source": [
    "obj2num = [\"OC\", \"sido\", \"bedCount\", \"instkind\", \"ownerChange\"]"
   ]
  },
  {
   "cell_type": "code",
   "execution_count": 5,
   "metadata": {},
   "outputs": [],
   "source": [
    "# train\n",
    "temp_arr = []\n",
    "for col in obj2num:\n",
    "    temp_arr.append(pd.get_dummies(train[col], drop_first=True))\n",
    "\n",
    "temp = pd.concat(temp_arr, axis=1)\n",
    "df_train = pd.concat([temp, train.drop(columns=obj2num, axis=1)], axis=1) "
   ]
  },
  {
   "cell_type": "code",
   "execution_count": 6,
   "metadata": {},
   "outputs": [],
   "source": [
    "# test\n",
    "temp_arr = []\n",
    "for col in obj2num:\n",
    "    temp_arr.append(pd.get_dummies(test[col], drop_first=True))\n",
    "\n",
    "temp = pd.concat(temp_arr, axis=1)\n",
    "df_test = pd.concat([temp, test.drop(columns=obj2num, axis=1)], axis=1) "
   ]
  },
  {
   "cell_type": "markdown",
   "metadata": {},
   "source": [
    "#### Train - Data Split"
   ]
  },
  {
   "cell_type": "code",
   "execution_count": 7,
   "metadata": {},
   "outputs": [],
   "source": [
    "label = \"open\"\n",
    "feature_names = df_train.columns.tolist()\n",
    "feature_names.remove(label)"
   ]
  },
  {
   "cell_type": "code",
   "execution_count": 21,
   "metadata": {},
   "outputs": [
    {
     "name": "stdout",
     "output_type": "stream",
     "text": [
      "X_train: (255, 75)\n",
      "y_train: (255,)\n",
      "X_valid: (46, 75)\n",
      "y_valid: (46,)\n"
     ]
    }
   ],
   "source": [
    "X_train, X_valid, y_train, y_valid = train_test_split(df_train[feature_names], df_train[label], test_size=0.15, stratify=df_train[label])\n",
    "\n",
    "print(f\"X_train: {X_train.shape}\\ny_train: {y_train.shape}\\nX_valid: {X_valid.shape}\\ny_valid: {y_valid.shape}\")"
   ]
  },
  {
   "cell_type": "markdown",
   "metadata": {},
   "source": [
    "#### Random Forest"
   ]
  },
  {
   "cell_type": "code",
   "execution_count": 22,
   "metadata": {},
   "outputs": [],
   "source": [
    "clf_rf = RandomForestClassifier()\n",
    "\n",
    "clf_rf.fit(X_train, y_train)\n",
    "\n",
    "pred_rf = clf_rf.predict(X_valid)"
   ]
  },
  {
   "cell_type": "code",
   "execution_count": 23,
   "metadata": {},
   "outputs": [
    {
     "name": "stdout",
     "output_type": "stream",
     "text": [
      "정확도: 0.9565\n",
      "정밀도: 0.9565\n",
      "재현율: 1.0000\n",
      "F1: 0.9778\n"
     ]
    }
   ],
   "source": [
    "eval_CM(y_valid, pred_rf, 1)"
   ]
  },
  {
   "cell_type": "markdown",
   "metadata": {},
   "source": [
    "#### XGBoost"
   ]
  },
  {
   "cell_type": "code",
   "execution_count": 24,
   "metadata": {},
   "outputs": [
    {
     "name": "stdout",
     "output_type": "stream",
     "text": [
      "[17:49:39] WARNING: ..\\src\\learner.cc:1115: Starting in XGBoost 1.3.0, the default evaluation metric used with the objective 'binary:logistic' was changed from 'error' to 'logloss'. Explicitly set eval_metric if you'd like to restore the old behavior.\n"
     ]
    }
   ],
   "source": [
    "clf_xgb = XGBClassifier()\n",
    "\n",
    "clf_xgb.fit(X_train, y_train)\n",
    "\n",
    "pred_xgb = clf_xgb.predict(X_valid)"
   ]
  },
  {
   "cell_type": "code",
   "execution_count": 25,
   "metadata": {},
   "outputs": [
    {
     "name": "stdout",
     "output_type": "stream",
     "text": [
      "정확도: 0.9348\n",
      "정밀도: 0.9556\n",
      "재현율: 0.9773\n",
      "F1: 0.9663\n"
     ]
    }
   ],
   "source": [
    "eval_CM(y_valid, pred_xgb, 1)"
   ]
  },
  {
   "cell_type": "markdown",
   "metadata": {},
   "source": [
    "#### LGBM"
   ]
  },
  {
   "cell_type": "code",
   "execution_count": 26,
   "metadata": {},
   "outputs": [],
   "source": [
    "clf_lgbm = LGBMClassifier()\n",
    "\n",
    "clf_lgbm.fit(X_train, y_train)\n",
    "\n",
    "pred_lgbm = clf_lgbm.predict(X_valid)"
   ]
  },
  {
   "cell_type": "code",
   "execution_count": 27,
   "metadata": {},
   "outputs": [
    {
     "name": "stdout",
     "output_type": "stream",
     "text": [
      "정확도: 0.9348\n",
      "정밀도: 0.9556\n",
      "재현율: 0.9773\n",
      "F1: 0.9663\n"
     ]
    }
   ],
   "source": [
    "eval_CM(y_valid, pred_lgbm, 1)"
   ]
  },
  {
   "cell_type": "markdown",
   "metadata": {},
   "source": [
    "### TODO: Oversampling"
   ]
  },
  {
   "cell_type": "markdown",
   "metadata": {},
   "source": [
    "`test`해서 제출해볼려고했는데 `sido`에서 일반화가 잘 안되어있어서 없는 컬럼으로 나옴"
   ]
  }
 ],
 "metadata": {
  "kernelspec": {
   "display_name": "Python 3.9.12 ('base')",
   "language": "python",
   "name": "python3"
  },
  "language_info": {
   "codemirror_mode": {
    "name": "ipython",
    "version": 3
   },
   "file_extension": ".py",
   "mimetype": "text/x-python",
   "name": "python",
   "nbconvert_exporter": "python",
   "pygments_lexer": "ipython3",
   "version": "3.9.12"
  },
  "orig_nbformat": 4,
  "vscode": {
   "interpreter": {
    "hash": "2adf3ccca9222a21ddf813ce3f7330ff220318730c13c08bb78e423c67466e5c"
   }
  }
 },
 "nbformat": 4,
 "nbformat_minor": 2
}
