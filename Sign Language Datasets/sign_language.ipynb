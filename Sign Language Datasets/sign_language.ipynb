{
 "cells": [
  {
   "cell_type": "markdown",
   "metadata": {},
   "source": [
    "# Sign Language\n",
    "## 수어 분류\n",
    "### 사용 라이브러리"
   ]
  },
  {
   "cell_type": "code",
   "execution_count": 1,
   "metadata": {},
   "outputs": [],
   "source": [
    "import numpy as np\n",
    "import pandas as pd\n",
    "import matplotlib.pyplot as plt\n",
    "from PIL import Image\n",
    "import pillow_heif\n",
    "import tensorflow as tf\n",
    "from tensorflow.keras import layers\n",
    "from tensorflow.keras.models import Sequential\n",
    "from tensorflow.keras.layers import Dense, Conv2D, MaxPooling2D, Dropout\n",
    "import glob"
   ]
  },
  {
   "cell_type": "markdown",
   "metadata": {},
   "source": [
    "### Data Load"
   ]
  },
  {
   "cell_type": "code",
   "execution_count": 32,
   "metadata": {},
   "outputs": [
    {
     "data": {
      "text/plain": [
       "(824, 626)"
      ]
     },
     "execution_count": 32,
     "metadata": {},
     "output_type": "execute_result"
    }
   ],
   "source": [
    "train_img_path = glob.glob(\"archive/train/*/*\")\n",
    "test_img_path = glob.glob(\"archive/test/*/*\")\n",
    "\n",
    "len(train_img_path), len(test_img_path)"
   ]
  },
  {
   "cell_type": "markdown",
   "metadata": {},
   "source": [
    ".heic 파일을 변환해줘야 함"
   ]
  },
  {
   "cell_type": "code",
   "execution_count": null,
   "metadata": {},
   "outputs": [],
   "source": [
    "# for filename in test_img_path:\n",
    "#     if filename.lower().endswith(\".heic\"):\n",
    "#         heif_file = pillow_heif.read_heif(filename)\n",
    "#         img = Image.frombytes(\n",
    "#             heif_file.mode,\n",
    "#             heif_file.size,\n",
    "#             heif_file.data,\n",
    "#             \"raw\"\n",
    "#         )\n",
    "#         new_name = f\"{filename.split('.')[0]}.png\"\n",
    "#         print(new_name)\n",
    "#         img.save(new_name, format=\"png\")\n",
    "#     else:\n",
    "#         print(filename)"
   ]
  },
  {
   "cell_type": "markdown",
   "metadata": {},
   "source": [
    "이미지 데이터를 변환하면서 확인해보니, 이상하게 찍힌 사진들이 존재해서 제거할 필요가 있어보임  \n",
    "초기 데이터의 경우 train과 test가 각각 777, 330장이 있었음"
   ]
  }
 ],
 "metadata": {
  "kernelspec": {
   "display_name": "Python 3.9.12 ('tf')",
   "language": "python",
   "name": "python3"
  },
  "language_info": {
   "codemirror_mode": {
    "name": "ipython",
    "version": 3
   },
   "file_extension": ".py",
   "mimetype": "text/x-python",
   "name": "python",
   "nbconvert_exporter": "python",
   "pygments_lexer": "ipython3",
   "version": "3.9.12"
  },
  "orig_nbformat": 4,
  "vscode": {
   "interpreter": {
    "hash": "0dda229299321da99d0dbf63d1fbc8b04ca069326b7e356b1394d150d10bd532"
   }
  }
 },
 "nbformat": 4,
 "nbformat_minor": 2
}
