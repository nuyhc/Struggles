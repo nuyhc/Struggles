{
 "cells": [
  {
   "cell_type": "markdown",
   "metadata": {},
   "source": [
    "# Kaggle - New York City Taxi Fare Prediction\n",
    "## Data Set\n",
    "[Kaggle - NY City Taxi Fare Prediction](https://www.kaggle.com/competitions/new-york-city-taxi-fare-prediction/data)  \n",
    "[참고 노트북 | Fare prediction: Stacked ensemble XGBoost & LGBM](https://www.kaggle.com/code/amar09/fare-prediction-stacked-ensemble-xgboost-lgbm/notebook)\n",
    "\n",
    "## 사용 라이브러리"
   ]
  },
  {
   "cell_type": "code",
   "execution_count": 1,
   "metadata": {},
   "outputs": [
    {
     "name": "stderr",
     "output_type": "stream",
     "text": [
      "c:\\Users\\spec3\\anaconda3\\lib\\site-packages\\xgboost\\compat.py:36: FutureWarning: pandas.Int64Index is deprecated and will be removed from pandas in a future version. Use pandas.Index with the appropriate dtype instead.\n",
      "  from pandas import MultiIndex, Int64Index\n"
     ]
    }
   ],
   "source": [
    "import numpy as np\n",
    "import pandas as pd\n",
    "import matplotlib.pyplot as plt\n",
    "import koreanize_matplotlib\n",
    "import seaborn as sns\n",
    "\n",
    "from sklearn.model_selection import train_test_split\n",
    "from sklearn.metrics import mean_squared_error, r2_score, mean_absolute_error\n",
    "\n",
    "from sklearn.ensemble import RandomForestRegressor\n",
    "from xgboost import XGBRegressor\n",
    "from lightgbm import LGBMRegressor\n",
    "\n",
    "import glob\n",
    "import warnings\n",
    "warnings.filterwarnings(\"ignore\")\n"
   ]
  },
  {
   "cell_type": "code",
   "execution_count": 2,
   "metadata": {},
   "outputs": [],
   "source": [
    "def reg_score(y_true, y_pred):\n",
    "    MSE = mean_squared_error(y_true, y_pred)\n",
    "    RMSE = np.sqrt(mean_squared_error(y_true,y_pred))\n",
    "    MAE = np.mean( np.abs((y_true - y_pred) / y_true) )\n",
    "    NMAE =mean_absolute_error(y_true, y_pred)/ np.mean( np.abs(y_true) )\n",
    "    MAPE = np.mean( np.abs((y_true - y_pred) / y_true) ) *100\n",
    "    R2 = r2_score(y_true, y_pred)\n",
    "    \n",
    "    print(f\"MSE: {np.round(MSE, 3)}\\nRMSE: {np.round(RMSE, 3)}\\nMAE: {np.round(MAE, 3)}\\nNMAE: {np.round(NMAE, 3)}\\nMAPE: {np.round(MAPE, 3)}\\nR2: {np.round(R2, 3)}\")\n"
   ]
  },
  {
   "cell_type": "markdown",
   "metadata": {},
   "source": [
    "## Data Load"
   ]
  },
  {
   "cell_type": "code",
   "execution_count": 3,
   "metadata": {},
   "outputs": [
    {
     "data": {
      "text/plain": [
       "['data\\\\GCP-Coupons-Instructions.rtf',\n",
       " 'data\\\\sample_submission.csv',\n",
       " 'data\\\\test.csv',\n",
       " 'data\\\\train.csv']"
      ]
     },
     "execution_count": 3,
     "metadata": {},
     "output_type": "execute_result"
    }
   ],
   "source": [
    "path = glob.glob(\"data/*\")\n",
    "path"
   ]
  },
  {
   "cell_type": "code",
   "execution_count": 4,
   "metadata": {},
   "outputs": [
    {
     "data": {
      "text/plain": [
       "((55423856, 8), (9914, 7))"
      ]
     },
     "execution_count": 4,
     "metadata": {},
     "output_type": "execute_result"
    }
   ],
   "source": [
    "train, test = pd.read_csv(path[3]), pd.read_csv(path[2])\n",
    "\n",
    "train.shape, test.shape"
   ]
  },
  {
   "cell_type": "markdown",
   "metadata": {},
   "source": [
    "`train` 데이터의 경우, 5500만개가 넘으므로 일부만 사용할 예정  \n",
    "이상치를 최대한 억제하기 위해, 일부 조건을 걸고 크기를 다시 봄"
   ]
  },
  {
   "cell_type": "code",
   "execution_count": 5,
   "metadata": {},
   "outputs": [],
   "source": [
    "# 뉴욕 택시 기본 요금\n",
    "cond1 = train[\"fare_amount\"]>=2.5\n",
    "cond2 = train[\"passenger_count\"]>=1\n",
    "# 뉴욕 경계 좌표\n",
    "# -74.27 ~ -73.68\n",
    "cond3 = (train[\"pickup_longitude\"]>=-74.27) & (train[\"pickup_longitude\"]<=-73.68)\n",
    "# 40.92 ~ 40.49\n",
    "cond4 = (train[\"pickup_latitude\"]>=40.49) & (train[\"pickup_latitude\"]<=40.92)\n",
    "\n",
    "# 뉴욕 내부에서 출발했고, 1명 이상의 승객이 기본 요금 이상을 지불한 경우\n",
    "cond = cond1 & cond2 & cond3 & cond4"
   ]
  },
  {
   "cell_type": "code",
   "execution_count": 6,
   "metadata": {},
   "outputs": [
    {
     "data": {
      "text/plain": [
       "(54076513, 8)"
      ]
     },
     "execution_count": 6,
     "metadata": {},
     "output_type": "execute_result"
    }
   ],
   "source": [
    "train = train[cond].copy()\n",
    "train.shape"
   ]
  },
  {
   "cell_type": "markdown",
   "metadata": {},
   "source": [
    "약 130만행 정도가 사라졌음  \n",
    "이중 랜덤으로 200만행 정도만 샘플링해 사용하겠음\n"
   ]
  },
  {
   "cell_type": "code",
   "execution_count": 7,
   "metadata": {},
   "outputs": [
    {
     "data": {
      "text/plain": [
       "(2000000, 8)"
      ]
     },
     "metadata": {},
     "output_type": "display_data"
    },
    {
     "data": {
      "text/html": [
       "<div>\n",
       "<style scoped>\n",
       "    .dataframe tbody tr th:only-of-type {\n",
       "        vertical-align: middle;\n",
       "    }\n",
       "\n",
       "    .dataframe tbody tr th {\n",
       "        vertical-align: top;\n",
       "    }\n",
       "\n",
       "    .dataframe thead th {\n",
       "        text-align: right;\n",
       "    }\n",
       "</style>\n",
       "<table border=\"1\" class=\"dataframe\">\n",
       "  <thead>\n",
       "    <tr style=\"text-align: right;\">\n",
       "      <th></th>\n",
       "      <th>key</th>\n",
       "      <th>fare_amount</th>\n",
       "      <th>pickup_datetime</th>\n",
       "      <th>pickup_longitude</th>\n",
       "      <th>pickup_latitude</th>\n",
       "      <th>dropoff_longitude</th>\n",
       "      <th>dropoff_latitude</th>\n",
       "      <th>passenger_count</th>\n",
       "    </tr>\n",
       "  </thead>\n",
       "  <tbody>\n",
       "    <tr>\n",
       "      <th>0</th>\n",
       "      <td>2015-06-12 07:31:07.0000004</td>\n",
       "      <td>8.5</td>\n",
       "      <td>2015-06-12 07:31:07 UTC</td>\n",
       "      <td>-73.983932</td>\n",
       "      <td>40.746296</td>\n",
       "      <td>-73.971291</td>\n",
       "      <td>40.764271</td>\n",
       "      <td>1</td>\n",
       "    </tr>\n",
       "    <tr>\n",
       "      <th>1</th>\n",
       "      <td>2014-04-01 17:42:27.0000003</td>\n",
       "      <td>11.5</td>\n",
       "      <td>2014-04-01 17:42:27 UTC</td>\n",
       "      <td>-73.971185</td>\n",
       "      <td>40.761795</td>\n",
       "      <td>-73.990818</td>\n",
       "      <td>40.755135</td>\n",
       "      <td>1</td>\n",
       "    </tr>\n",
       "    <tr>\n",
       "      <th>2</th>\n",
       "      <td>2012-08-12 21:44:24.0000001</td>\n",
       "      <td>21.3</td>\n",
       "      <td>2012-08-12 21:44:24 UTC</td>\n",
       "      <td>-74.011484</td>\n",
       "      <td>40.703160</td>\n",
       "      <td>-73.923391</td>\n",
       "      <td>40.753506</td>\n",
       "      <td>1</td>\n",
       "    </tr>\n",
       "  </tbody>\n",
       "</table>\n",
       "</div>"
      ],
      "text/plain": [
       "                           key  fare_amount          pickup_datetime  \\\n",
       "0  2015-06-12 07:31:07.0000004          8.5  2015-06-12 07:31:07 UTC   \n",
       "1  2014-04-01 17:42:27.0000003         11.5  2014-04-01 17:42:27 UTC   \n",
       "2  2012-08-12 21:44:24.0000001         21.3  2012-08-12 21:44:24 UTC   \n",
       "\n",
       "   pickup_longitude  pickup_latitude  dropoff_longitude  dropoff_latitude  \\\n",
       "0        -73.983932        40.746296         -73.971291         40.764271   \n",
       "1        -73.971185        40.761795         -73.990818         40.755135   \n",
       "2        -74.011484        40.703160         -73.923391         40.753506   \n",
       "\n",
       "   passenger_count  \n",
       "0                1  \n",
       "1                1  \n",
       "2                1  "
      ]
     },
     "metadata": {},
     "output_type": "display_data"
    },
    {
     "data": {
      "text/html": [
       "<div>\n",
       "<style scoped>\n",
       "    .dataframe tbody tr th:only-of-type {\n",
       "        vertical-align: middle;\n",
       "    }\n",
       "\n",
       "    .dataframe tbody tr th {\n",
       "        vertical-align: top;\n",
       "    }\n",
       "\n",
       "    .dataframe thead th {\n",
       "        text-align: right;\n",
       "    }\n",
       "</style>\n",
       "<table border=\"1\" class=\"dataframe\">\n",
       "  <thead>\n",
       "    <tr style=\"text-align: right;\">\n",
       "      <th></th>\n",
       "      <th>key</th>\n",
       "      <th>fare_amount</th>\n",
       "      <th>pickup_datetime</th>\n",
       "      <th>pickup_longitude</th>\n",
       "      <th>pickup_latitude</th>\n",
       "      <th>dropoff_longitude</th>\n",
       "      <th>dropoff_latitude</th>\n",
       "      <th>passenger_count</th>\n",
       "    </tr>\n",
       "  </thead>\n",
       "  <tbody>\n",
       "    <tr>\n",
       "      <th>1999997</th>\n",
       "      <td>2012-08-08 09:23:00.00000095</td>\n",
       "      <td>8.1</td>\n",
       "      <td>2012-08-08 09:23:00 UTC</td>\n",
       "      <td>-73.954045</td>\n",
       "      <td>40.767180</td>\n",
       "      <td>-73.969502</td>\n",
       "      <td>40.754222</td>\n",
       "      <td>1</td>\n",
       "    </tr>\n",
       "    <tr>\n",
       "      <th>1999998</th>\n",
       "      <td>2014-09-26 09:32:00.0000006</td>\n",
       "      <td>7.0</td>\n",
       "      <td>2014-09-26 09:32:00 UTC</td>\n",
       "      <td>-73.963013</td>\n",
       "      <td>40.766502</td>\n",
       "      <td>-73.958853</td>\n",
       "      <td>40.780897</td>\n",
       "      <td>1</td>\n",
       "    </tr>\n",
       "    <tr>\n",
       "      <th>1999999</th>\n",
       "      <td>2013-01-26 13:54:08.0000005</td>\n",
       "      <td>7.5</td>\n",
       "      <td>2013-01-26 13:54:08 UTC</td>\n",
       "      <td>-73.983236</td>\n",
       "      <td>40.730578</td>\n",
       "      <td>-73.992465</td>\n",
       "      <td>40.742688</td>\n",
       "      <td>1</td>\n",
       "    </tr>\n",
       "  </tbody>\n",
       "</table>\n",
       "</div>"
      ],
      "text/plain": [
       "                                  key  fare_amount          pickup_datetime  \\\n",
       "1999997  2012-08-08 09:23:00.00000095          8.1  2012-08-08 09:23:00 UTC   \n",
       "1999998   2014-09-26 09:32:00.0000006          7.0  2014-09-26 09:32:00 UTC   \n",
       "1999999   2013-01-26 13:54:08.0000005          7.5  2013-01-26 13:54:08 UTC   \n",
       "\n",
       "         pickup_longitude  pickup_latitude  dropoff_longitude  \\\n",
       "1999997        -73.954045        40.767180         -73.969502   \n",
       "1999998        -73.963013        40.766502         -73.958853   \n",
       "1999999        -73.983236        40.730578         -73.992465   \n",
       "\n",
       "         dropoff_latitude  passenger_count  \n",
       "1999997         40.754222                1  \n",
       "1999998         40.780897                1  \n",
       "1999999         40.742688                1  "
      ]
     },
     "metadata": {},
     "output_type": "display_data"
    }
   ],
   "source": [
    "train = train.sample(2000000).reset_index(drop=True)\n",
    "display(train.shape)\n",
    "display(train.head(3))\n",
    "display(train.tail(3))"
   ]
  },
  {
   "cell_type": "markdown",
   "metadata": {},
   "source": [
    "## EDA 및 전처리"
   ]
  },
  {
   "cell_type": "markdown",
   "metadata": {},
   "source": [
    "### 기본 정보"
   ]
  },
  {
   "cell_type": "code",
   "execution_count": 9,
   "metadata": {},
   "outputs": [
    {
     "data": {
      "image/png": "[encoded data removed]",
      "text/plain": [
       "<Figure size 864x576 with 6 Axes>"
      ]
     },
     "metadata": {
      "needs_background": "light"
     },
     "output_type": "display_data"
    }
   ],
   "source": [
    "_ = train.hist(bins=50, figsize=(12, 8))"
   ]
  },
  {
   "cell_type": "code",
   "execution_count": 10,
   "metadata": {},
   "outputs": [
    {
     "data": {
      "text/html": [
       "<div>\n",
       "<style scoped>\n",
       "    .dataframe tbody tr th:only-of-type {\n",
       "        vertical-align: middle;\n",
       "    }\n",
       "\n",
       "    .dataframe tbody tr th {\n",
       "        vertical-align: top;\n",
       "    }\n",
       "\n",
       "    .dataframe thead th {\n",
       "        text-align: right;\n",
       "    }\n",
       "</style>\n",
       "<table border=\"1\" class=\"dataframe\">\n",
       "  <thead>\n",
       "    <tr style=\"text-align: right;\">\n",
       "      <th></th>\n",
       "      <th>fare_amount</th>\n",
       "      <th>pickup_longitude</th>\n",
       "      <th>pickup_latitude</th>\n",
       "      <th>dropoff_longitude</th>\n",
       "      <th>dropoff_latitude</th>\n",
       "      <th>passenger_count</th>\n",
       "    </tr>\n",
       "  </thead>\n",
       "  <tbody>\n",
       "    <tr>\n",
       "      <th>count</th>\n",
       "      <td>2.000000e+06</td>\n",
       "      <td>2.000000e+06</td>\n",
       "      <td>2.000000e+06</td>\n",
       "      <td>2.000000e+06</td>\n",
       "      <td>2.000000e+06</td>\n",
       "      <td>2.000000e+06</td>\n",
       "    </tr>\n",
       "    <tr>\n",
       "      <th>mean</th>\n",
       "      <td>1.132335e+01</td>\n",
       "      <td>-7.397544e+01</td>\n",
       "      <td>4.075083e+01</td>\n",
       "      <td>-7.391416e+01</td>\n",
       "      <td>4.071818e+01</td>\n",
       "      <td>1.692157e+00</td>\n",
       "    </tr>\n",
       "    <tr>\n",
       "      <th>std</th>\n",
       "      <td>9.647562e+00</td>\n",
       "      <td>3.459587e-02</td>\n",
       "      <td>2.692279e-02</td>\n",
       "      <td>3.594479e+00</td>\n",
       "      <td>3.306081e+00</td>\n",
       "      <td>1.316041e+00</td>\n",
       "    </tr>\n",
       "    <tr>\n",
       "      <th>min</th>\n",
       "      <td>2.500000e+00</td>\n",
       "      <td>-7.426906e+01</td>\n",
       "      <td>4.049036e+01</td>\n",
       "      <td>-1.491201e+03</td>\n",
       "      <td>-3.114278e+03</td>\n",
       "      <td>1.000000e+00</td>\n",
       "    </tr>\n",
       "    <tr>\n",
       "      <th>25%</th>\n",
       "      <td>6.000000e+00</td>\n",
       "      <td>-7.399227e+01</td>\n",
       "      <td>4.073656e+01</td>\n",
       "      <td>-7.399157e+01</td>\n",
       "      <td>4.073556e+01</td>\n",
       "      <td>1.000000e+00</td>\n",
       "    </tr>\n",
       "    <tr>\n",
       "      <th>50%</th>\n",
       "      <td>8.500000e+00</td>\n",
       "      <td>-7.398210e+01</td>\n",
       "      <td>4.075335e+01</td>\n",
       "      <td>-7.398059e+01</td>\n",
       "      <td>4.075380e+01</td>\n",
       "      <td>1.000000e+00</td>\n",
       "    </tr>\n",
       "    <tr>\n",
       "      <th>75%</th>\n",
       "      <td>1.250000e+01</td>\n",
       "      <td>-7.396833e+01</td>\n",
       "      <td>4.076754e+01</td>\n",
       "      <td>-7.396527e+01</td>\n",
       "      <td>4.076837e+01</td>\n",
       "      <td>2.000000e+00</td>\n",
       "    </tr>\n",
       "    <tr>\n",
       "      <th>max</th>\n",
       "      <td>4.990000e+02</td>\n",
       "      <td>-7.368230e+01</td>\n",
       "      <td>4.091934e+01</td>\n",
       "      <td>1.328726e+03</td>\n",
       "      <td>4.940167e+02</td>\n",
       "      <td>2.080000e+02</td>\n",
       "    </tr>\n",
       "  </tbody>\n",
       "</table>\n",
       "</div>"
      ],
      "text/plain": [
       "        fare_amount  pickup_longitude  pickup_latitude  dropoff_longitude  \\\n",
       "count  2.000000e+06      2.000000e+06     2.000000e+06       2.000000e+06   \n",
       "mean   1.132335e+01     -7.397544e+01     4.075083e+01      -7.391416e+01   \n",
       "std    9.647562e+00      3.459587e-02     2.692279e-02       3.594479e+00   \n",
       "min    2.500000e+00     -7.426906e+01     4.049036e+01      -1.491201e+03   \n",
       "25%    6.000000e+00     -7.399227e+01     4.073656e+01      -7.399157e+01   \n",
       "50%    8.500000e+00     -7.398210e+01     4.075335e+01      -7.398059e+01   \n",
       "75%    1.250000e+01     -7.396833e+01     4.076754e+01      -7.396527e+01   \n",
       "max    4.990000e+02     -7.368230e+01     4.091934e+01       1.328726e+03   \n",
       "\n",
       "       dropoff_latitude  passenger_count  \n",
       "count      2.000000e+06     2.000000e+06  \n",
       "mean       4.071818e+01     1.692157e+00  \n",
       "std        3.306081e+00     1.316041e+00  \n",
       "min       -3.114278e+03     1.000000e+00  \n",
       "25%        4.073556e+01     1.000000e+00  \n",
       "50%        4.075380e+01     1.000000e+00  \n",
       "75%        4.076837e+01     2.000000e+00  \n",
       "max        4.940167e+02     2.080000e+02  "
      ]
     },
     "execution_count": 10,
     "metadata": {},
     "output_type": "execute_result"
    }
   ],
   "source": [
    "train.describe()"
   ]
  },
  {
   "cell_type": "markdown",
   "metadata": {},
   "source": [
    "### 결측치 확인"
   ]
  },
  {
   "cell_type": "code",
   "execution_count": 11,
   "metadata": {},
   "outputs": [
    {
     "data": {
      "text/plain": [
       "key                  0\n",
       "fare_amount          0\n",
       "pickup_datetime      0\n",
       "pickup_longitude     0\n",
       "pickup_latitude      0\n",
       "dropoff_longitude    0\n",
       "dropoff_latitude     0\n",
       "passenger_count      0\n",
       "dtype: int64"
      ]
     },
     "execution_count": 11,
     "metadata": {},
     "output_type": "execute_result"
    }
   ],
   "source": [
    "train.isnull().sum()"
   ]
  },
  {
   "cell_type": "code",
   "execution_count": 12,
   "metadata": {},
   "outputs": [
    {
     "data": {
      "text/plain": [
       "key                  0\n",
       "pickup_datetime      0\n",
       "pickup_longitude     0\n",
       "pickup_latitude      0\n",
       "dropoff_longitude    0\n",
       "dropoff_latitude     0\n",
       "passenger_count      0\n",
       "dtype: int64"
      ]
     },
     "execution_count": 12,
     "metadata": {},
     "output_type": "execute_result"
    }
   ],
   "source": [
    "test.isnull().sum()"
   ]
  },
  {
   "cell_type": "markdown",
   "metadata": {},
   "source": [
    "### 파생 변수 생성\n",
    "#### Date Time"
   ]
  },
  {
   "cell_type": "code",
   "execution_count": 13,
   "metadata": {},
   "outputs": [],
   "source": [
    "train[\"key\"] = pd.to_datetime(train[\"key\"])\n",
    "train[\"pickup_datetime\"] = pd.to_datetime(train[\"pickup_datetime\"])\n",
    "\n",
    "test[\"key\"] = pd.to_datetime(test[\"key\"])\n",
    "test[\"pickup_datetime\"] = pd.to_datetime(test[\"pickup_datetime\"])"
   ]
  },
  {
   "cell_type": "code",
   "execution_count": 14,
   "metadata": {},
   "outputs": [],
   "source": [
    "data = [train,test]\n",
    "for _ in data:\n",
    "    _['Year'] = _['pickup_datetime'].dt.year\n",
    "    _['Month'] = _['pickup_datetime'].dt.month\n",
    "    _['Date'] = _['pickup_datetime'].dt.day\n",
    "    _['Day of Week'] = _['pickup_datetime'].dt.dayofweek\n",
    "    _['Hour'] = _['pickup_datetime'].dt.hour"
   ]
  },
  {
   "cell_type": "markdown",
   "metadata": {},
   "source": [
    "### Harversine Formula\n",
    "위경도 좌표 사이의 거리를 구할 때 사용하는 공식  \n",
    "\n",
    "$ haversine(θ) = sin²{θ \\over 2} $  \n",
    "\n",
    "a = sin²((φB - φA)/2) + cos φA . cos φB . sin²((λB - λA)/2)  \n",
    "c = 2 * atan2( √a, √(1−a) )  \n",
    "d = R ⋅ c  \n",
    "d = Haversine distance"
   ]
  },
  {
   "cell_type": "code",
   "execution_count": 15,
   "metadata": {},
   "outputs": [],
   "source": [
    "def haversine_distance(lat1, long1, lat2, long2):\n",
    "    data = [train, test]\n",
    "    for _ in data:\n",
    "        R = 6371 # km, 지구의 반지름\n",
    "        phi1 = np.radians(_[lat1])\n",
    "        phi2 = np.radians(_[lat2])\n",
    "        \n",
    "        delta_phi = np.radians(_[lat2]-_[lat1])\n",
    "        delta_lambda = np.radians(_[long2]-_[long2])\n",
    "        \n",
    "        a = np.sin(delta_phi / 2.0) ** 2 + np.cos(phi1) * np.cos(phi2) * np.sin(delta_lambda / 2.0) ** 2\n",
    "        c = 2 * np.arctan2(np.sqrt(a), np.sqrt(1-a))\n",
    "        d = (R * c)\n",
    "        _[\"H_Distance\"] = d"
   ]
  },
  {
   "cell_type": "code",
   "execution_count": 16,
   "metadata": {},
   "outputs": [],
   "source": [
    "haversine_distance('pickup_latitude', 'pickup_longitude', 'dropoff_latitude', 'dropoff_longitude')"
   ]
  },
  {
   "cell_type": "markdown",
   "metadata": {},
   "source": [
    "#### 불필요한 컬럼 제거"
   ]
  },
  {
   "cell_type": "code",
   "execution_count": 17,
   "metadata": {},
   "outputs": [],
   "source": [
    "del_col = [\"key\", \"pickup_datetime\", \"pickup_longitude\", \"pickup_latitude\", \"dropoff_longitude\", \"dropoff_latitude\"]"
   ]
  },
  {
   "cell_type": "code",
   "execution_count": 18,
   "metadata": {},
   "outputs": [
    {
     "name": "stdout",
     "output_type": "stream",
     "text": [
      "(2000000, 14) | (9914, 13)\n",
      "(2000000, 8) | (9914, 7)\n"
     ]
    }
   ],
   "source": [
    "print(f\"{train.shape} | {test.shape}\")\n",
    "train.drop(columns=del_col, inplace=True)\n",
    "test.drop(columns=del_col, inplace=True)\n",
    "print(f\"{train.shape} | {test.shape}\")"
   ]
  },
  {
   "cell_type": "markdown",
   "metadata": {},
   "source": [
    "### 추가 EDA 및 시각화"
   ]
  },
  {
   "cell_type": "code",
   "execution_count": 20,
   "metadata": {},
   "outputs": [
    {
     "data": {
      "image/png": "[encoded data removed]",
      "text/plain": [
       "<Figure size 432x288 with 2 Axes>"
      ]
     },
     "metadata": {
      "needs_background": "light"
     },
     "output_type": "display_data"
    }
   ],
   "source": [
    "corr = train.corr()\n",
    "_ = sns.heatmap(corr, annot=True, fmt=\".2f\")"
   ]
  },
  {
   "cell_type": "code",
   "execution_count": 21,
   "metadata": {},
   "outputs": [
    {
     "data": {
      "text/html": [
       "<div>\n",
       "<style scoped>\n",
       "    .dataframe tbody tr th:only-of-type {\n",
       "        vertical-align: middle;\n",
       "    }\n",
       "\n",
       "    .dataframe tbody tr th {\n",
       "        vertical-align: top;\n",
       "    }\n",
       "\n",
       "    .dataframe thead th {\n",
       "        text-align: right;\n",
       "    }\n",
       "</style>\n",
       "<table border=\"1\" class=\"dataframe\">\n",
       "  <thead>\n",
       "    <tr style=\"text-align: right;\">\n",
       "      <th></th>\n",
       "      <th>fare_amount</th>\n",
       "      <th>passenger_count</th>\n",
       "      <th>Year</th>\n",
       "      <th>Month</th>\n",
       "      <th>Date</th>\n",
       "      <th>Day of Week</th>\n",
       "      <th>Hour</th>\n",
       "      <th>H_Distance</th>\n",
       "    </tr>\n",
       "  </thead>\n",
       "  <tbody>\n",
       "    <tr>\n",
       "      <th>0</th>\n",
       "      <td>8.5</td>\n",
       "      <td>1</td>\n",
       "      <td>2015</td>\n",
       "      <td>6</td>\n",
       "      <td>12</td>\n",
       "      <td>4</td>\n",
       "      <td>7</td>\n",
       "      <td>1.998713</td>\n",
       "    </tr>\n",
       "    <tr>\n",
       "      <th>1</th>\n",
       "      <td>11.5</td>\n",
       "      <td>1</td>\n",
       "      <td>2014</td>\n",
       "      <td>4</td>\n",
       "      <td>1</td>\n",
       "      <td>1</td>\n",
       "      <td>17</td>\n",
       "      <td>0.740558</td>\n",
       "    </tr>\n",
       "    <tr>\n",
       "      <th>2</th>\n",
       "      <td>21.3</td>\n",
       "      <td>1</td>\n",
       "      <td>2012</td>\n",
       "      <td>8</td>\n",
       "      <td>12</td>\n",
       "      <td>6</td>\n",
       "      <td>21</td>\n",
       "      <td>5.598220</td>\n",
       "    </tr>\n",
       "    <tr>\n",
       "      <th>3</th>\n",
       "      <td>5.3</td>\n",
       "      <td>1</td>\n",
       "      <td>2009</td>\n",
       "      <td>10</td>\n",
       "      <td>16</td>\n",
       "      <td>4</td>\n",
       "      <td>7</td>\n",
       "      <td>1.249386</td>\n",
       "    </tr>\n",
       "    <tr>\n",
       "      <th>4</th>\n",
       "      <td>36.5</td>\n",
       "      <td>5</td>\n",
       "      <td>2011</td>\n",
       "      <td>6</td>\n",
       "      <td>29</td>\n",
       "      <td>2</td>\n",
       "      <td>22</td>\n",
       "      <td>10.995066</td>\n",
       "    </tr>\n",
       "  </tbody>\n",
       "</table>\n",
       "</div>"
      ],
      "text/plain": [
       "   fare_amount  passenger_count  Year  Month  Date  Day of Week  Hour  \\\n",
       "0          8.5                1  2015      6    12            4     7   \n",
       "1         11.5                1  2014      4     1            1    17   \n",
       "2         21.3                1  2012      8    12            6    21   \n",
       "3          5.3                1  2009     10    16            4     7   \n",
       "4         36.5                5  2011      6    29            2    22   \n",
       "\n",
       "   H_Distance  \n",
       "0    1.998713  \n",
       "1    0.740558  \n",
       "2    5.598220  \n",
       "3    1.249386  \n",
       "4   10.995066  "
      ]
     },
     "execution_count": 21,
     "metadata": {},
     "output_type": "execute_result"
    }
   ],
   "source": [
    "train.head()"
   ]
  },
  {
   "cell_type": "code",
   "execution_count": 25,
   "metadata": {},
   "outputs": [
    {
     "data": {
      "image/png": "[encoded data removed]",
      "text/plain": [
       "<Figure size 432x288 with 1 Axes>"
      ]
     },
     "metadata": {
      "needs_background": "light"
     },
     "output_type": "display_data"
    }
   ],
   "source": [
    "_ = sns.kdeplot(data=train, x=\"fare_amount\", shade=True)"
   ]
  },
  {
   "cell_type": "markdown",
   "metadata": {},
   "source": [
    "`fare_amount`가 한쪽으로 치우쳐 있으므로, log scale을 적용"
   ]
  },
  {
   "cell_type": "code",
   "execution_count": 26,
   "metadata": {},
   "outputs": [
    {
     "data": {
      "image/png": "[encoded data removed]",
      "text/plain": [
       "<Figure size 432x288 with 1 Axes>"
      ]
     },
     "metadata": {
      "needs_background": "light"
     },
     "output_type": "display_data"
    }
   ],
   "source": [
    "train[\"fare_amount\"] = np.log1p(train[\"fare_amount\"])\n",
    "_ = sns.kdeplot(data=train, x=\"fare_amount\", shade=True)"
   ]
  },
  {
   "cell_type": "markdown",
   "metadata": {},
   "source": [
    "## Train\n",
    "별다른 튜닝 없이 기본 모델만 사용"
   ]
  },
  {
   "cell_type": "markdown",
   "metadata": {},
   "source": [
    "### Data Split"
   ]
  },
  {
   "cell_type": "code",
   "execution_count": 29,
   "metadata": {},
   "outputs": [],
   "source": [
    "label = \"fare_amount\"\n",
    "features = train.columns.tolist()\n",
    "features.remove(label)"
   ]
  },
  {
   "cell_type": "code",
   "execution_count": 31,
   "metadata": {},
   "outputs": [
    {
     "name": "stdout",
     "output_type": "stream",
     "text": [
      "X_train: (1600000, 7)\n",
      "y_train: (1600000,)\n",
      "X_valid: (400000, 7)\n",
      "y_valid: (400000,)\n"
     ]
    }
   ],
   "source": [
    "X_train, X_valid, y_train, y_valid = train_test_split(train[features], train[label], test_size=0.2)\n",
    "\n",
    "print(f\"X_train: {X_train.shape}\\ny_train: {y_train.shape}\\nX_valid: {X_valid.shape}\\ny_valid: {y_valid.shape}\")"
   ]
  },
  {
   "cell_type": "markdown",
   "metadata": {},
   "source": [
    "### Random Forest"
   ]
  },
  {
   "cell_type": "code",
   "execution_count": 32,
   "metadata": {},
   "outputs": [
    {
     "name": "stdout",
     "output_type": "stream",
     "text": [
      "MSE: 0.145\n",
      "RMSE: 0.38\n",
      "MAE: 0.118\n",
      "NMAE: 0.115\n",
      "MAPE: 11.839\n",
      "R2: 0.514\n"
     ]
    }
   ],
   "source": [
    "reg_rf = RandomForestRegressor()\n",
    "\n",
    "pred_reg_rf = reg_rf.fit(X_train, y_train).predict(X_valid)\n",
    "\n",
    "reg_score(y_valid, pred_reg_rf)"
   ]
  },
  {
   "cell_type": "markdown",
   "metadata": {},
   "source": [
    "### XGBoost"
   ]
  },
  {
   "cell_type": "code",
   "execution_count": 33,
   "metadata": {},
   "outputs": [
    {
     "name": "stdout",
     "output_type": "stream",
     "text": [
      "MSE: 0.133\n",
      "RMSE: 0.365\n",
      "MAE: 0.11\n",
      "NMAE: 0.108\n",
      "MAPE: 10.998\n",
      "R2: 0.553\n"
     ]
    }
   ],
   "source": [
    "reg_xgb = XGBRegressor(learning_rate=0.3)\n",
    "\n",
    "pred_reg_xgb = reg_xgb.fit(X_train, y_train).predict(X_valid)\n",
    "\n",
    "reg_score(y_valid, pred_reg_xgb)"
   ]
  },
  {
   "cell_type": "markdown",
   "metadata": {},
   "source": [
    "### LGBM"
   ]
  },
  {
   "cell_type": "code",
   "execution_count": 34,
   "metadata": {},
   "outputs": [
    {
     "name": "stdout",
     "output_type": "stream",
     "text": [
      "MSE: 0.135\n",
      "RMSE: 0.367\n",
      "MAE: 0.11\n",
      "NMAE: 0.109\n",
      "MAPE: 11.047\n",
      "R2: 0.548\n"
     ]
    }
   ],
   "source": [
    "reg_lgbm = LGBMRegressor(learning_rate=0.3)\n",
    "\n",
    "pred_reg_lgbm = reg_lgbm.fit(X_train, y_train).predict(X_valid)\n",
    "\n",
    "reg_score(y_valid, pred_reg_lgbm)"
   ]
  },
  {
   "cell_type": "markdown",
   "metadata": {},
   "source": [
    "### Stacking\n",
    "XGBoost와 LGBM을 이용한 스택킹 모델  \n",
    "각각의 예측값에 가중치를 주는 방식으로 구성됨"
   ]
  },
  {
   "cell_type": "code",
   "execution_count": 40,
   "metadata": {},
   "outputs": [
    {
     "name": "stdout",
     "output_type": "stream",
     "text": [
      "MSE: 0.133\n",
      "RMSE: 0.365\n",
      "MAE: 0.11\n",
      "NMAE: 0.108\n",
      "MAPE: 11.007\n",
      "R2: 0.553\n"
     ]
    }
   ],
   "source": [
    "stack_pred = (0.5*pred_reg_xgb) + (0.5*pred_reg_lgbm)\n",
    "\n",
    "reg_score(y_valid, stack_pred)"
   ]
  },
  {
   "cell_type": "markdown",
   "metadata": {},
   "source": [
    "#### 제출"
   ]
  },
  {
   "cell_type": "code",
   "execution_count": 43,
   "metadata": {},
   "outputs": [
    {
     "data": {
      "text/html": [
       "<div>\n",
       "<style scoped>\n",
       "    .dataframe tbody tr th:only-of-type {\n",
       "        vertical-align: middle;\n",
       "    }\n",
       "\n",
       "    .dataframe tbody tr th {\n",
       "        vertical-align: top;\n",
       "    }\n",
       "\n",
       "    .dataframe thead th {\n",
       "        text-align: right;\n",
       "    }\n",
       "</style>\n",
       "<table border=\"1\" class=\"dataframe\">\n",
       "  <thead>\n",
       "    <tr style=\"text-align: right;\">\n",
       "      <th></th>\n",
       "      <th>key</th>\n",
       "      <th>fare_amount</th>\n",
       "    </tr>\n",
       "  </thead>\n",
       "  <tbody>\n",
       "    <tr>\n",
       "      <th>0</th>\n",
       "      <td>2015-01-27 13:08:24.0000002</td>\n",
       "      <td>11.35</td>\n",
       "    </tr>\n",
       "    <tr>\n",
       "      <th>1</th>\n",
       "      <td>2015-01-27 13:08:24.0000003</td>\n",
       "      <td>11.35</td>\n",
       "    </tr>\n",
       "    <tr>\n",
       "      <th>2</th>\n",
       "      <td>2011-10-08 11:53:44.0000002</td>\n",
       "      <td>11.35</td>\n",
       "    </tr>\n",
       "    <tr>\n",
       "      <th>3</th>\n",
       "      <td>2012-12-01 21:12:12.0000002</td>\n",
       "      <td>11.35</td>\n",
       "    </tr>\n",
       "    <tr>\n",
       "      <th>4</th>\n",
       "      <td>2012-12-01 21:12:12.0000003</td>\n",
       "      <td>11.35</td>\n",
       "    </tr>\n",
       "  </tbody>\n",
       "</table>\n",
       "</div>"
      ],
      "text/plain": [
       "                           key  fare_amount\n",
       "0  2015-01-27 13:08:24.0000002        11.35\n",
       "1  2015-01-27 13:08:24.0000003        11.35\n",
       "2  2011-10-08 11:53:44.0000002        11.35\n",
       "3  2012-12-01 21:12:12.0000002        11.35\n",
       "4  2012-12-01 21:12:12.0000003        11.35"
      ]
     },
     "execution_count": 43,
     "metadata": {},
     "output_type": "execute_result"
    }
   ],
   "source": [
    "sub = pd.read_csv(path[1])\n",
    "sub.head()"
   ]
  },
  {
   "cell_type": "code",
   "execution_count": 46,
   "metadata": {},
   "outputs": [],
   "source": [
    "# XGB\n",
    "sub[\"fare_amount\"] = np.expm1(reg_xgb.predict(test))\n",
    "sub.to_csv(\"data/sub_xgb_rmse_365.csv\", index=False)"
   ]
  },
  {
   "cell_type": "code",
   "execution_count": 47,
   "metadata": {},
   "outputs": [],
   "source": [
    "# lgbm\n",
    "sub[\"fare_amount\"] = np.expm1(reg_lgbm.predict(test))\n",
    "sub.to_csv(\"data/sub_lgbm_rmse_367.csv\", index=False)"
   ]
  },
  {
   "cell_type": "code",
   "execution_count": 48,
   "metadata": {},
   "outputs": [],
   "source": [
    "# stacking\n",
    "sub[\"fare_amount\"] = (0.5*np.expm1(reg_xgb.predict(test))) + (0.5*np.expm1(reg_lgbm.predict(test)))\n",
    "sub.to_csv(\"data/sub_stack_rmse_365.csv\", index=False)"
   ]
  },
  {
   "cell_type": "markdown",
   "metadata": {},
   "source": [
    "Kaggle 제출 점수가 처참한걸보면, train시 사용한 feature가 너무 적은거 같다"
   ]
  }
 ],
 "metadata": {
  "kernelspec": {
   "display_name": "Python 3.9.12 ('base')",
   "language": "python",
   "name": "python3"
  },
  "language_info": {
   "codemirror_mode": {
    "name": "ipython",
    "version": 3
   },
   "file_extension": ".py",
   "mimetype": "text/x-python",
   "name": "python",
   "nbconvert_exporter": "python",
   "pygments_lexer": "ipython3",
   "version": "3.9.12"
  },
  "orig_nbformat": 4,
  "vscode": {
   "interpreter": {
    "hash": "2adf3ccca9222a21ddf813ce3f7330ff220318730c13c08bb78e423c67466e5c"
   }
  }
 },
 "nbformat": 4,
 "nbformat_minor": 2
}
